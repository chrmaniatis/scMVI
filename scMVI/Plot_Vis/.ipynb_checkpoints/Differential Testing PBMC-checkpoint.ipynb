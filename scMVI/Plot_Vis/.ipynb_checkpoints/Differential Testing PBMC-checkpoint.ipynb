{
 "cells": [
  {
   "cell_type": "code",
   "execution_count": null,
   "metadata": {
    "colab": {
     "base_uri": "https://localhost:8080/"
    },
    "executionInfo": {
     "elapsed": 36158,
     "status": "ok",
     "timestamp": 1662850975301,
     "user": {
      "displayName": "Χρήστος Μανιάτης",
      "userId": "00852017530683764808"
     },
     "user_tz": -60
    },
    "id": "59yF2N2lYMUy",
    "outputId": "6bf091c6-c339-4472-ebee-dad63b83470b"
   },
   "outputs": [
    {
     "name": "stdout",
     "output_type": "stream",
     "text": [
      "Mounted at /content/drive\n"
     ]
    }
   ],
   "source": [
    "from google.colab import drive\n",
    "drive.mount(\"/content/drive\")"
   ]
  },
  {
   "cell_type": "markdown",
   "metadata": {
    "id": "XfyaSrRiTfje"
   },
   "source": [
    "Differential Log Fold Change (LFC) for PBMC data."
   ]
  },
  {
   "cell_type": "code",
   "execution_count": null,
   "metadata": {
    "id": "pgt5NbdwYX0A"
   },
   "outputs": [],
   "source": [
    "from IPython import display\n",
    "import pandas as pd\n",
    "import numpy as np\n",
    "import datetime\n",
    "from matplotlib import pyplot as plt\n",
    "from matplotlib import colors\n",
    "from matplotlib.ticker import PercentFormatter\n",
    "from tensorflow import keras\n",
    "import tensorflow as tf\n",
    "import tensorflow_probability as tfp\n",
    "import pickle\n",
    "import os\n",
    "\n",
    "Root_Folder = \"/content/drive/MyDrive\"\n",
    "data = 'pbmc'\n",
    "data_parent_folder = \"/Data\"\n",
    "code_parent_folder = \"/scMVI\"\n",
    "\n",
    "os.chdir('/content/drive/My Drive/' + code_parent_folder +'/Code')\n",
    "\n",
    "Rna_train = pd.read_pickle(Root_Folder + data_parent_folder + \"/Data_ATAC/Rna_train_\"+data+\".pickle\")\n",
    "Rna_nrm_train = pd.read_pickle(Root_Folder + data_parent_folder + \"/Data_ATAC/Nrm_rna_train_\"+data+\".pickle\")\n",
    "Rna_test = pd.read_pickle(Root_Folder + data_parent_folder + \"/Data_ATAC/Rna_test_\"+data+\".pickle\")\n",
    "Rna_nrm_test = pd.read_pickle(Root_Folder + data_parent_folder + \"/Data_ATAC/Nrm_rna_test_\"+data+\".pickle\")"
   ]
  },
  {
   "cell_type": "code",
   "execution_count": null,
   "metadata": {
    "id": "t2WVJXUoVtXT"
   },
   "outputs": [],
   "source": [
    "Rna_tr = tf.convert_to_tensor(Rna_train,dtype=tf.float32)\n",
    "Rna_tst = tf.convert_to_tensor(Rna_test,dtype=tf.float32)\n",
    "\n",
    "Rna_nrm_tr = tf.convert_to_tensor(Rna_nrm_train,dtype=tf.float32)\n",
    "Rna_nrm_tst = tf.convert_to_tensor(Rna_nrm_test,dtype=tf.float32)"
   ]
  },
  {
   "cell_type": "code",
   "execution_count": null,
   "metadata": {
    "colab": {
     "base_uri": "https://localhost:8080/"
    },
    "executionInfo": {
     "elapsed": 813,
     "status": "ok",
     "timestamp": 1662850987360,
     "user": {
      "displayName": "Χρήστος Μανιάτης",
      "userId": "00852017530683764808"
     },
     "user_tz": -60
    },
    "id": "tsKbis5AHpZB",
    "outputId": "1907da7a-39c2-4531-aae8-c403a01dfbc7"
   },
   "outputs": [
    {
     "name": "stderr",
     "output_type": "stream",
     "text": [
      "/usr/local/lib/python3.7/dist-packages/IPython/core/interactiveshell.py:3326: FutureWarning: In a future version of pandas all arguments of read_csv except for the argument 'filepath_or_buffer' will be keyword-only\n",
      "  exec(code_obj, self.user_global_ns, self.user_ns)\n"
     ]
    },
    {
     "name": "stdout",
     "output_type": "stream",
     "text": [
      "['CD14 Mono' 'CD16 Mono' 'CD4 Naive' 'CD4 TCM' 'CD4 TEM' 'CD8 Naive'\n",
      " 'CD8 TEM_1' 'CD8 TEM_2' 'HSPC' 'Intermediate B' 'MAIT' 'Memory B' 'NK'\n",
      " 'Naive B' 'Plasma' 'Treg' 'cDC' 'gdT' 'pDC']\n"
     ]
    }
   ],
   "source": [
    "#Load Metadata\n",
    "Rna = pd.concat([Rna_train,Rna_test],axis=0)\n",
    "if data == \"pbmc\":\n",
    "    pbmc_QC = pd.read_csv(Root_Folder + data_parent_folder + \"/Data_ATAC/Srt_annot.csv\",'\\t',index_col=[0])\n",
    "    pbmc_QC = pbmc_QC.loc[Rna.index]\n",
    "    print(np.unique(list(pbmc_QC['seurat_annotation'])))"
   ]
  },
  {
   "cell_type": "code",
   "execution_count": null,
   "metadata": {
    "id": "qLf7wIwpo51C"
   },
   "outputs": [],
   "source": [
    "Rna_comb = tf.concat([Rna_tr,Rna_tst],axis=0)\n",
    "Rna_nrm_comb = tf.concat([Rna_nrm_tr,Rna_nrm_tst],axis=0)\n",
    "xxxx = tf.divide(Rna_comb,tf.math.exp(Rna_nrm_comb))"
   ]
  },
  {
   "cell_type": "code",
   "execution_count": null,
   "metadata": {
    "id": "QIOXmELyKucn"
   },
   "outputs": [],
   "source": [
    "#Functions for estimating differential directions and stats for experiments outlined in the main chapter \n",
    "def index_creation(meta_data,group_by,group_1,smps_group_1,group_2,smps_group_2):\n",
    "\n",
    "\n",
    "                        cell_num = meta_data.shape[0]\n",
    "                        group_index_1 = np.zeros((cell_num,))\n",
    "                        group_index_2 = np.zeros((cell_num,))\n",
    "\n",
    "                        ind_1 = np.where(meta_data[group_by]==group_1)[0]\n",
    "                        ind_2 = np.where(meta_data[group_by]==group_2)[0]\n",
    "\n",
    "\n",
    "                        if np.logical_or(len(ind_1)<smps_group_1,len(ind_2)<smps_group_2):\n",
    "\n",
    "                                    raise ValueError('samples for groups 1 and 2 cannot be more than cells in groups 1 and 2')        \n",
    "\n",
    "\n",
    "\n",
    "                        perm_ind_1 = ind_1[np.random.permutation(len(ind_1))[:smps_group_1]]\n",
    "                        perm_ind_2 = ind_2[np.random.permutation(len(ind_2))[:smps_group_2]]\n",
    "\n",
    "                        group_index_1[perm_ind_1]=1\n",
    "                        group_index_2[perm_ind_2]=1\n",
    "\n",
    "                        group_index_1 = tf.squeeze(tf.where(group_index_1==1))\n",
    "                        group_index_2 = tf.squeeze(tf.where(group_index_2==1))\n",
    "\n",
    "                        return group_index_1, group_index_2\n",
    "\n",
    "\n",
    "def create_exp(metadata,grp_1,smps_1,grp_2,smps_2):\n",
    "  \n",
    "        smps_group_1 =[smps_1,int(np.round(smps_1*0.2)),smps_1,int(np.round(smps_1*0.2)),int(np.round(smps_1*0.5)),int(np.round(smps_1*0.5)),int(np.round(smps_1*0.2))]\n",
    "        smps_group_2 =[smps_2,smps_2,int(np.round(smps_2*0.2)),int(np.round(smps_2*0.5)),int(np.round(smps_2*0.2)),int(np.round(smps_2*0.5)),int(np.round(smps_2*0.2))]\n",
    "\n",
    "        eps=0.0001\n",
    "        col_all = []\n",
    "        for jj in range(5):\n",
    "              group_index_11,group_index_21 = index_creation(metadata,'seurat_annotation',grp_1,smps_group_1[0],grp_2,smps_group_2[0])\n",
    "              group_index_12,group_index_22 = index_creation(metadata,'seurat_annotation',grp_1,smps_group_1[1],grp_2,smps_group_2[1])\n",
    "              group_index_13,group_index_23 = index_creation(metadata,'seurat_annotation',grp_1,smps_group_1[2],grp_2,smps_group_2[2])\n",
    "              group_index_14,group_index_24 = index_creation(metadata,'seurat_annotation',grp_1,smps_group_1[3],grp_2,smps_group_2[3])\n",
    "              group_index_15,group_index_25 = index_creation(metadata,'seurat_annotation',grp_1,smps_group_1[4],grp_2,smps_group_2[4])\n",
    "              group_index_16,group_index_26 = index_creation(metadata,'seurat_annotation',grp_1,smps_group_1[5],grp_2,smps_group_2[5])\n",
    "              group_index_17,group_index_27 = index_creation(metadata,'seurat_annotation',grp_1,smps_group_1[6],grp_2,smps_group_2[6])\n",
    "\n",
    "              a1 = tf.math.log(eps+tf.reduce_mean(tf.gather(xxxx,group_index_11),axis=0))-tf.math.log(eps+tf.reduce_mean(tf.gather(xxxx,group_index_21),axis=0))\n",
    "              a2 = tf.math.log(eps+tf.reduce_mean(tf.gather(xxxx,group_index_12),axis=0))-tf.math.log(eps+tf.reduce_mean(tf.gather(xxxx,group_index_22),axis=0))\n",
    "              a3 = tf.math.log(eps+tf.reduce_mean(tf.gather(xxxx,group_index_13),axis=0))-tf.math.log(eps+tf.reduce_mean(tf.gather(xxxx,group_index_23),axis=0))\n",
    "              a4 = tf.math.log(eps+tf.reduce_mean(tf.gather(xxxx,group_index_14),axis=0))-tf.math.log(eps+tf.reduce_mean(tf.gather(xxxx,group_index_24),axis=0))\n",
    "              a5 = tf.math.log(eps+tf.reduce_mean(tf.gather(xxxx,group_index_15),axis=0))-tf.math.log(eps+tf.reduce_mean(tf.gather(xxxx,group_index_25),axis=0))\n",
    "              a6 = tf.math.log(eps+tf.reduce_mean(tf.gather(xxxx,group_index_16),axis=0))-tf.math.log(eps+tf.reduce_mean(tf.gather(xxxx,group_index_26),axis=0))\n",
    "              a7 = tf.math.log(eps+tf.reduce_mean(tf.gather(xxxx,group_index_17),axis=0))-tf.math.log(eps+tf.reduce_mean(tf.gather(xxxx,group_index_27),axis=0))              \n",
    "\n",
    "              col_all.append([a1,a2,a3,a4,a5,a6,a7])\n",
    "              print(100*(1+jj)/5.0)\n",
    "\n",
    "        return col_all\n",
    "      \n",
    "def collect_stats(x):\n",
    "\n",
    "        x_med = tf.squeeze(x)\n",
    "        x_med_mn = tf.reduce_mean(tf.reduce_mean(x_med,axis=1),axis=0)[tf.newaxis,:]\n",
    "        x_med_std = tf.math.sqrt(tf.reduce_mean(tfp.stats.variance(x_med,sample_axis=1),axis=0))[tf.newaxis,:]\n",
    "\n",
    "        x_med_rng = tf.reduce_mean(tf.reduce_max(x_med,axis=1) -tf.reduce_min(x_med,axis=1),axis=0)[tf.newaxis,:]\n",
    "\n",
    "        return x_med_mn,x_med_std,x_med_rng\n"
   ]
  },
  {
   "cell_type": "code",
   "execution_count": null,
   "metadata": {
    "colab": {
     "base_uri": "https://localhost:8080/"
    },
    "executionInfo": {
     "elapsed": 7,
     "status": "ok",
     "timestamp": 1662850987771,
     "user": {
      "displayName": "Χρήστος Μανιάτης",
      "userId": "00852017530683764808"
     },
     "user_tz": -60
    },
    "id": "pd3x1Q19voMu",
    "outputId": "46764050-8732-425b-dc4e-b745bb95031d"
   },
   "outputs": [
    {
     "name": "stdout",
     "output_type": "stream",
     "text": [
      "seurat_annotation\n",
      "CD14 Mono            2653\n",
      "CD4 Naive            1335\n",
      "CD8 Naive            1324\n",
      "CD4 TCM              1100\n",
      "CD16 Mono             490\n",
      "NK                    426\n",
      "Memory B              355\n",
      "Intermediate B        337\n",
      "CD8 TEM_2             334\n",
      "CD8 TEM_1             307\n",
      "CD4 TEM               291\n",
      "cDC                   191\n",
      "Treg                  150\n",
      "gdT                   144\n",
      "Naive B               137\n",
      "MAIT                  131\n",
      "pDC                   104\n",
      "HSPC                   25\n",
      "Plasma                 16\n",
      "dtype: int64\n"
     ]
    }
   ],
   "source": [
    "print(pbmc_QC.value_counts())"
   ]
  },
  {
   "cell_type": "code",
   "execution_count": null,
   "metadata": {
    "colab": {
     "base_uri": "https://localhost:8080/"
    },
    "executionInfo": {
     "elapsed": 412,
     "status": "ok",
     "timestamp": 1662850988178,
     "user": {
      "displayName": "Χρήστος Μανιάτης",
      "userId": "00852017530683764808"
     },
     "user_tz": -60
    },
    "id": "dyggn28DQ0Bu",
    "outputId": "4a9eb782-1384-4c06-b851-af1385d089c3"
   },
   "outputs": [
    {
     "name": "stdout",
     "output_type": "stream",
     "text": [
      "20.0\n",
      "40.0\n",
      "60.0\n",
      "80.0\n",
      "100.0\n"
     ]
    }
   ],
   "source": [
    "#Estimates differential directions\n",
    "grp_1 = 'CD16 Mono' \n",
    "smps_1 = 490\n",
    "grp_2 = 'CD14 Mono'\n",
    "smps_2 = 2653\n",
    "\n",
    "col_all_1 = create_exp(pbmc_QC,grp_1,smps_1,grp_2,smps_2)"
   ]
  },
  {
   "cell_type": "code",
   "execution_count": null,
   "metadata": {
    "colab": {
     "base_uri": "https://localhost:8080/"
    },
    "executionInfo": {
     "elapsed": 417,
     "status": "ok",
     "timestamp": 1662850988592,
     "user": {
      "displayName": "Χρήστος Μανιάτης",
      "userId": "00852017530683764808"
     },
     "user_tz": -60
    },
    "id": "ZtL9DIrA94PK",
    "outputId": "dd95ed55-0b4d-49e3-fd38-9bd8547ec3bf"
   },
   "outputs": [
    {
     "name": "stdout",
     "output_type": "stream",
     "text": [
      "20.0\n",
      "40.0\n",
      "60.0\n",
      "80.0\n",
      "100.0\n"
     ]
    }
   ],
   "source": [
    "grp_1 = 'CD8 Naive'\n",
    "smps_1 = 1324\n",
    "grp_2 = 'Intermediate B'\n",
    "smps_2 = 337\n",
    "\n",
    "col_all_2 = create_exp(pbmc_QC,grp_1,smps_1,grp_2,smps_2)"
   ]
  },
  {
   "cell_type": "code",
   "execution_count": null,
   "metadata": {
    "colab": {
     "base_uri": "https://localhost:8080/"
    },
    "executionInfo": {
     "elapsed": 440,
     "status": "ok",
     "timestamp": 1662850989024,
     "user": {
      "displayName": "Χρήστος Μανιάτης",
      "userId": "00852017530683764808"
     },
     "user_tz": -60
    },
    "id": "glKNjJdCUc_5",
    "outputId": "3f206c05-89c8-42e2-9d7f-e6d7184582e8"
   },
   "outputs": [
    {
     "name": "stdout",
     "output_type": "stream",
     "text": [
      "20.0\n",
      "40.0\n",
      "60.0\n",
      "80.0\n",
      "100.0\n"
     ]
    }
   ],
   "source": [
    "grp_1 = 'CD4 TEM'\n",
    "smps_1 = 291\n",
    "grp_2 = 'CD4 TCM'\n",
    "smps_2 = 1100\n",
    "\n",
    "col_all_3 = create_exp(pbmc_QC,grp_1,smps_1,grp_2,smps_2)"
   ]
  },
  {
   "cell_type": "code",
   "execution_count": null,
   "metadata": {
    "id": "6CoDEPqwAL1Z"
   },
   "outputs": [],
   "source": [
    "cl_1_med,_,cl_1_med_rng = collect_stats(col_all_1)\n",
    "cl_2_med,_,cl_2_med_rng = collect_stats(col_all_2)\n",
    "cl_3_med,_,cl_3_med_rng = collect_stats(col_all_3)"
   ]
  },
  {
   "cell_type": "code",
   "execution_count": null,
   "metadata": {
    "id": "noTgJOZmCjLT"
   },
   "outputs": [],
   "source": [
    "rna_ind = []\n",
    "for ii in range(5000):\n",
    "    rna_ind.append(\"rna_ft\"+str(ii))"
   ]
  },
  {
   "cell_type": "code",
   "execution_count": null,
   "metadata": {
    "id": "4X51-JT9Su-E"
   },
   "outputs": [],
   "source": [
    "med_1_rng = pd.DataFrame(np.squeeze(cl_1_med_rng),index=rna_ind)\n",
    "med_2_rng = pd.DataFrame(np.squeeze(cl_2_med_rng),index=rna_ind)\n",
    "med_3_rng = pd.DataFrame(np.squeeze(cl_3_med_rng),index=rna_ind)\n",
    "\n",
    "med_1 = pd.DataFrame(np.squeeze(cl_1_med),index=rna_ind)\n",
    "med_2 = pd.DataFrame(np.squeeze(cl_2_med),index=rna_ind)\n",
    "med_3 = pd.DataFrame(np.squeeze(cl_3_med),index=rna_ind)"
   ]
  },
  {
   "cell_type": "code",
   "execution_count": null,
   "metadata": {
    "colab": {
     "base_uri": "https://localhost:8080/"
    },
    "executionInfo": {
     "elapsed": 30,
     "status": "ok",
     "timestamp": 1662850989030,
     "user": {
      "displayName": "Χρήστος Μανιάτης",
      "userId": "00852017530683764808"
     },
     "user_tz": -60
    },
    "id": "EBCwWS9T3U-x",
    "outputId": "c130c714-e4c3-45de-82c2-93793518cc65"
   },
   "outputs": [
    {
     "name": "stdout",
     "output_type": "stream",
     "text": [
      "                   0\n",
      "rna_ft995   1.025389\n",
      "rna_ft996   1.792918\n",
      "rna_ft997  -0.396042\n",
      "rna_ft998  -1.762736\n",
      "rna_ft999   0.000000\n",
      "rna_ft1000 -1.655847\n",
      "rna_ft1001  0.000000\n",
      "rna_ft1002  0.209888\n",
      "rna_ft1003  0.116154\n",
      "                   0\n",
      "rna_ft995   4.403353\n",
      "rna_ft996   0.451669\n",
      "rna_ft997   2.286999\n",
      "rna_ft998   0.574932\n",
      "rna_ft999   0.000000\n",
      "rna_ft1000  0.422965\n",
      "rna_ft1001  0.000000\n",
      "rna_ft1002  1.303073\n",
      "rna_ft1003  2.967103\n"
     ]
    }
   ],
   "source": [
    "print(med_1.iloc[995:1004,:])\n",
    "print(med_1_rng.iloc[995:1004,:])"
   ]
  },
  {
   "cell_type": "code",
   "execution_count": null,
   "metadata": {
    "id": "uDcZQQtdTEHt"
   },
   "outputs": [],
   "source": [
    "if os.path.isdir(Root_Folder + code_parent_folder + \"/scMVI_DDLFC_meta/PBMC\") == False:\n",
    "      os.mkdir(Root_Folder + code_parent_folder + \"/scMVI_DDLFC_meta/PBMC\")\n",
    "\n",
    "med_1_rng.to_csv(Root_Folder+ code_parent_folder + \"/scMVI_DDLFC_meta/PBMC/med_1_rng_Differentia_Testing.csv\",header=True,sep='\\t')\n",
    "med_2_rng.to_csv(Root_Folder+ code_parent_folder + \"/scMVI_DDLFC_meta/PBMC/med_2_rng_Differentia_Testing.csv\",header=True,sep='\\t')\n",
    "med_3_rng.to_csv(Root_Folder+ code_parent_folder + \"/scMVI_DDLFC_meta/PBMC/med_3_rng_Differentia_Testing.csv\",header=True,sep='\\t')\n",
    "\n",
    "med_1.to_csv(Root_Folder+ code_parent_folder + \"/scMVI_DDLFC_meta/PBMC/Diff_Dir_1_Differentia_Testing.csv\",header=True,sep='\\t')\n",
    "med_2.to_csv(Root_Folder+ code_parent_folder + \"/scMVI_DDLFC_meta/PBMC/Diff_Dir_2_Differentia_Testing.csv\",header=True,sep='\\t')\n",
    "med_3.to_csv(Root_Folder+ code_parent_folder + \"/scMVI_DDLFC_meta/PBMC/Diff_Dir_3_Differentia_Testing.csv\",header=True,sep='\\t')"
   ]
  }
 ],
 "metadata": {
  "colab": {
   "collapsed_sections": [],
   "machine_shape": "hm",
   "provenance": []
  },
  "gpuClass": "standard",
  "kernelspec": {
   "display_name": "Python 3 (ipykernel)",
   "language": "python",
   "name": "python3"
  },
  "language_info": {
   "codemirror_mode": {
    "name": "ipython",
    "version": 3
   },
   "file_extension": ".py",
   "mimetype": "text/x-python",
   "name": "python",
   "nbconvert_exporter": "python",
   "pygments_lexer": "ipython3",
   "version": "3.9.13"
  }
 },
 "nbformat": 4,
 "nbformat_minor": 1
}
