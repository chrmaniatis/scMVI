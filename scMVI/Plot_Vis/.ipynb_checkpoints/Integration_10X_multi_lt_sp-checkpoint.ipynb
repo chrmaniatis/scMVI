{
 "cells": [
  {
   "cell_type": "code",
   "execution_count": null,
   "metadata": {
    "colab": {
     "base_uri": "https://localhost:8080/"
    },
    "executionInfo": {
     "elapsed": 19897,
     "status": "ok",
     "timestamp": 1662413048050,
     "user": {
      "displayName": "Χρήστος Μανιάτης",
      "userId": "00852017530683764808"
     },
     "user_tz": -60
    },
    "id": "59yF2N2lYMUy",
    "outputId": "0f59c2ec-823c-4d80-e850-3c13a915acae"
   },
   "outputs": [
    {
     "name": "stdout",
     "output_type": "stream",
     "text": [
      "Mounted at /content/drive\n"
     ]
    }
   ],
   "source": [
    "from google.colab import drive\n",
    "drive.mount(\"/content/drive\")"
   ]
  },
  {
   "cell_type": "markdown",
   "metadata": {
    "id": "U6sK1AANh3tL"
   },
   "source": [
    "Integration analysis for PBMC"
   ]
  },
  {
   "cell_type": "code",
   "execution_count": null,
   "metadata": {
    "colab": {
     "base_uri": "https://localhost:8080/"
    },
    "executionInfo": {
     "elapsed": 6242,
     "status": "ok",
     "timestamp": 1662413054286,
     "user": {
      "displayName": "Χρήστος Μανιάτης",
      "userId": "00852017530683764808"
     },
     "user_tz": -60
    },
    "id": "puikpPjFiPnI",
    "outputId": "15714009-a756-43fa-c70b-aca67dde59b7"
   },
   "outputs": [
    {
     "name": "stdout",
     "output_type": "stream",
     "text": [
      "Looking in indexes: https://pypi.org/simple, https://us-python.pkg.dev/colab-wheels/public/simple/\n",
      "Collecting umap-learn\n",
      "  Downloading umap-learn-0.5.3.tar.gz (88 kB)\n",
      "\u001b[K     |████████████████████████████████| 88 kB 6.0 MB/s \n",
      "\u001b[?25hRequirement already satisfied: numpy>=1.17 in /usr/local/lib/python3.7/dist-packages (from umap-learn) (1.21.6)\n",
      "Requirement already satisfied: scikit-learn>=0.22 in /usr/local/lib/python3.7/dist-packages (from umap-learn) (1.0.2)\n",
      "Requirement already satisfied: scipy>=1.0 in /usr/local/lib/python3.7/dist-packages (from umap-learn) (1.7.3)\n",
      "Requirement already satisfied: numba>=0.49 in /usr/local/lib/python3.7/dist-packages (from umap-learn) (0.56.0)\n",
      "Collecting pynndescent>=0.5\n",
      "  Downloading pynndescent-0.5.7.tar.gz (1.1 MB)\n",
      "\u001b[K     |████████████████████████████████| 1.1 MB 76.8 MB/s \n",
      "\u001b[?25hRequirement already satisfied: tqdm in /usr/local/lib/python3.7/dist-packages (from umap-learn) (4.64.0)\n",
      "Requirement already satisfied: setuptools in /usr/local/lib/python3.7/dist-packages (from numba>=0.49->umap-learn) (57.4.0)\n",
      "Requirement already satisfied: importlib-metadata in /usr/local/lib/python3.7/dist-packages (from numba>=0.49->umap-learn) (4.12.0)\n",
      "Requirement already satisfied: llvmlite<0.40,>=0.39.0dev0 in /usr/local/lib/python3.7/dist-packages (from numba>=0.49->umap-learn) (0.39.0)\n",
      "Requirement already satisfied: joblib>=0.11 in /usr/local/lib/python3.7/dist-packages (from pynndescent>=0.5->umap-learn) (1.1.0)\n",
      "Requirement already satisfied: threadpoolctl>=2.0.0 in /usr/local/lib/python3.7/dist-packages (from scikit-learn>=0.22->umap-learn) (3.1.0)\n",
      "Requirement already satisfied: typing-extensions>=3.6.4 in /usr/local/lib/python3.7/dist-packages (from importlib-metadata->numba>=0.49->umap-learn) (4.1.1)\n",
      "Requirement already satisfied: zipp>=0.5 in /usr/local/lib/python3.7/dist-packages (from importlib-metadata->numba>=0.49->umap-learn) (3.8.1)\n",
      "Building wheels for collected packages: umap-learn, pynndescent\n",
      "  Building wheel for umap-learn (setup.py) ... \u001b[?25l\u001b[?25hdone\n",
      "  Created wheel for umap-learn: filename=umap_learn-0.5.3-py3-none-any.whl size=82829 sha256=9e2ea70da28d065f42db254075eaf27f09720e64e052a0e97de27c356fdcd3ea\n",
      "  Stored in directory: /root/.cache/pip/wheels/b3/52/a5/1fd9e3e76a7ab34f134c07469cd6f16e27ef3a37aeff1fe821\n",
      "  Building wheel for pynndescent (setup.py) ... \u001b[?25l\u001b[?25hdone\n",
      "  Created wheel for pynndescent: filename=pynndescent-0.5.7-py3-none-any.whl size=54286 sha256=29ab2302038f50d0733e4312de9f272c1adba4bc3dcbdb18f2e4647923d89330\n",
      "  Stored in directory: /root/.cache/pip/wheels/7f/2a/f8/7bd5dcec71bd5c669f6f574db3113513696b98f3f9b51f496c\n",
      "Successfully built umap-learn pynndescent\n",
      "Installing collected packages: pynndescent, umap-learn\n",
      "Successfully installed pynndescent-0.5.7 umap-learn-0.5.3\n"
     ]
    }
   ],
   "source": [
    "!pip install umap-learn"
   ]
  },
  {
   "cell_type": "code",
   "execution_count": null,
   "metadata": {
    "colab": {
     "base_uri": "https://localhost:8080/"
    },
    "executionInfo": {
     "elapsed": 1643,
     "status": "ok",
     "timestamp": 1662413565140,
     "user": {
      "displayName": "Χρήστος Μανιάτης",
      "userId": "00852017530683764808"
     },
     "user_tz": -60
    },
    "id": "pgt5NbdwYX0A",
    "outputId": "4478ffc0-e932-489d-f072-dc47779b6c9e"
   },
   "outputs": [
    {
     "name": "stdout",
     "output_type": "stream",
     "text": [
      "[Errno 2] No such file or directory: 'dir'\n",
      "/content\n"
     ]
    }
   ],
   "source": [
    "from IPython import display\n",
    "import pandas as pd\n",
    "import numpy as np\n",
    "import datetime\n",
    "from matplotlib import pyplot as plt\n",
    "from matplotlib import colors\n",
    "from matplotlib.ticker import PercentFormatter\n",
    "from matplotlib import cm\n",
    "from matplotlib.colors import Normalize \n",
    "from tensorflow import keras\n",
    "import tensorflow as tf\n",
    "import scipy.stats as stats\n",
    "from tensorflow.keras import layers\n",
    "import tensorflow_probability as tfp\n",
    "from scipy.stats import gaussian_kde\n",
    "import scipy.stats as stats\n",
    "from sklearn.metrics import confusion_matrix\n",
    "import seaborn as sns\n",
    "import scipy\n",
    "import umap\n",
    "import os\n",
    "\n",
    "#Load Data\n",
    "Root_Folder = \"/content/drive/MyDrive\"\n",
    "data = \"pbmc\"\n",
    "data_parent_folder = \"/Data\"\n",
    "code_parent_folder = \"/scMVI\"\n",
    "\n",
    "os.chdir('/content/drive/My Drive/' + code_parent_folder +'/Code')\n",
    "\n",
    "Acc_train = pd.read_pickle(Root_Folder + data_parent_folder + \"/Data_ATAC/Acc_train_\"+data+\".pickle\")\n",
    "Rna_train = pd.read_pickle(Root_Folder + data_parent_folder + \"/Data_ATAC/Rna_train_\"+data+\".pickle\")\n",
    "\n",
    "Acc_nrm_train = pd.read_pickle(Root_Folder + data_parent_folder + \"/Data_ATAC/Nrm_acc_train_\"+data+\".pickle\")\n",
    "Rna_nrm_train = pd.read_pickle(Root_Folder + data_parent_folder + \"/Data_ATAC/Nrm_rna_train_\"+data+\".pickle\")\n",
    "\n",
    "Acc_test = pd.read_pickle(Root_Folder + data_parent_folder + \"/Data_ATAC/Acc_test_\"+data+\".pickle\")\n",
    "Rna_test = pd.read_pickle(Root_Folder + data_parent_folder + \"/Data_ATAC/Rna_test_\"+data+\".pickle\")\n",
    "\n",
    "Acc_nrm_test = pd.read_pickle(Root_Folder + data_parent_folder + \"/Data_ATAC/Nrm_acc_test_\"+data+\".pickle\")\n",
    "Rna_nrm_test = pd.read_pickle(Root_Folder + data_parent_folder + \"/Data_ATAC/Nrm_rna_test_\"+data+\".pickle\")\n"
   ]
  },
  {
   "cell_type": "code",
   "execution_count": null,
   "metadata": {
    "id": "vL9AlWN2gPSb"
   },
   "outputs": [],
   "source": [
    "Acc_tr = tf.convert_to_tensor(Acc_train,dtype=tf.float32)\n",
    "Rna_tr = tf.convert_to_tensor(Rna_train,dtype=tf.float32)\n",
    "\n",
    "Acc_tst = tf.convert_to_tensor(Acc_test,dtype=tf.float32)\n",
    "Rna_tst = tf.convert_to_tensor(Rna_test,dtype=tf.float32)\n",
    "\n",
    "Acc_nrm_tr = tf.math.log(tf.convert_to_tensor(Acc_nrm_train,dtype=tf.float32))\n",
    "Acc_nrm_tst = tf.math.log(tf.convert_to_tensor(Acc_nrm_test,dtype=tf.float32))\n",
    "\n",
    "Rna_nrm_tr = tf.math.log(tf.convert_to_tensor(Rna_nrm_train,dtype=tf.float32))\n",
    "Rna_nrm_tst = tf.math.log(tf.convert_to_tensor(Rna_nrm_test,dtype=tf.float32))\n",
    "\n",
    "inp_sz_acc=Acc_tr.shape[1]\n",
    "inp_sz_rna=Rna_tr.shape[1]"
   ]
  },
  {
   "cell_type": "code",
   "execution_count": null,
   "metadata": {
    "id": "BoDHQnvagTbN"
   },
   "outputs": [],
   "source": [
    "Rna = pd.concat([Rna_train,Rna_test],axis=0)\n",
    "\n",
    "Rna_comb = tf.concat([Rna_tr,Rna_tst],axis=0)\n",
    "Acc_comb = tf.concat([Acc_tr,Acc_tst],axis=0)\n",
    "\n",
    "Rna_nrm_comb = tf.concat([Rna_nrm_tr,Rna_nrm_tst],axis=0)\n",
    "Acc_nrm_comb = tf.concat([Acc_nrm_tr,Acc_nrm_tst],axis=0)"
   ]
  },
  {
   "cell_type": "code",
   "execution_count": null,
   "metadata": {
    "colab": {
     "base_uri": "https://localhost:8080/"
    },
    "executionInfo": {
     "elapsed": 382,
     "status": "ok",
     "timestamp": 1662413082933,
     "user": {
      "displayName": "Χρήστος Μανιάτης",
      "userId": "00852017530683764808"
     },
     "user_tz": -60
    },
    "id": "qf7moH4aiF3r",
    "outputId": "9b328e79-85ee-4d90-d0b9-ef2b4bd3b6aa"
   },
   "outputs": [
    {
     "name": "stderr",
     "output_type": "stream",
     "text": [
      "/usr/local/lib/python3.7/dist-packages/IPython/core/interactiveshell.py:3326: FutureWarning: In a future version of pandas all arguments of read_csv except for the argument 'filepath_or_buffer' will be keyword-only\n",
      "  exec(code_obj, self.user_global_ns, self.user_ns)\n"
     ]
    }
   ],
   "source": [
    "#Load PBMC metadata\n",
    "if data == \"pbmc\":\n",
    "    pbmc_QC = pd.read_csv(Root_Folder + data_parent_folder + \"/Data_ATAC/Srt_annot.csv\",'\\t',index_col=[0])\n",
    "    #pbmc_QC = pbmc_QC.loc[Rna.index]\n",
    "\n",
    "    pbmc_QC_train = pbmc_QC.loc[Rna_train.index]\n",
    "    pbmc_QC_test = pbmc_QC.loc[Rna_test.index]"
   ]
  },
  {
   "cell_type": "code",
   "execution_count": null,
   "metadata": {
    "id": "xHXujcwAecO2"
   },
   "outputs": [],
   "source": [
    "from Models import scMVI_10X\n",
    "from Obj_Blocks import *"
   ]
  },
  {
   "cell_type": "code",
   "execution_count": null,
   "metadata": {
    "colab": {
     "base_uri": "https://localhost:8080/"
    },
    "executionInfo": {
     "elapsed": 3104,
     "status": "ok",
     "timestamp": 1662413087654,
     "user": {
      "displayName": "Χρήστος Μανιάτης",
      "userId": "00852017530683764808"
     },
     "user_tz": -60
    },
    "id": "V2_HK4mXehRm",
    "outputId": "dd602888-83c8-4f97-f3ff-b3ef5e2c7234"
   },
   "outputs": [
    {
     "data": {
      "text/plain": [
       "<tensorflow.python.training.tracking.util.CheckpointLoadStatus at 0x7fa4513b5d50>"
      ]
     },
     "execution_count": 8,
     "metadata": {},
     "output_type": "execute_result"
    }
   ],
   "source": [
    "#Define model and load weights for the trained model\n",
    "mdl = scMVI_10X(inp_acc_dim=inp_sz_acc,inp_rna_dim=inp_sz_rna,intermidiate_dim=100,latent_dimensions=10)\n",
    "mdl.load_weights(Root_Folder + code_parent_folder + \"/Networks/scMVI_10X_\"+data+\"/scMVI_10X_\"+data)"
   ]
  },
  {
   "cell_type": "code",
   "execution_count": null,
   "metadata": {
    "id": "Fzu1ryiHgo7e"
   },
   "outputs": [],
   "source": [
    "lt_sp_acc,lt_sp_rna = mdl.get_latent([Acc_comb,Acc_nrm_comb,Rna_comb,Rna_nrm_comb])\n",
    "lt_sp = mdl.comb_lt([lt_sp_acc,lt_sp_rna],'all')\n",
    "\n",
    "lt_sp_acc_tr,lt_sp_rna_tr = mdl.get_latent([Acc_tr,Acc_nrm_tr,Rna_tr,Rna_nrm_tr])\n",
    "lt_sp_acc_tst,lt_sp_rna_tst = mdl.get_latent([Acc_tst,Acc_tst,Rna_tst,Rna_nrm_tst])"
   ]
  },
  {
   "cell_type": "code",
   "execution_count": null,
   "metadata": {
    "id": "_IxAmf0yv0z7"
   },
   "outputs": [],
   "source": [
    "#Estimate latent space distances between training and test set samples for accessibility and expression layers\n",
    "dist_lt_sp_tr_acc_rna = tf.math.sqrt(tf.reduce_sum(tf.math.square(lt_sp_acc_tr-lt_sp_rna_tr),axis=1))\n",
    "dits_lt_sp_tr = dist_lt_sp_tr_acc_rna\n",
    "dits_lt_sp_tr = dits_lt_sp_tr.numpy()\n",
    "\n",
    "dist_lt_sp_tst_acc_rna = tf.math.sqrt(tf.reduce_sum(tf.math.square(lt_sp_acc_tst-lt_sp_rna_tst),axis=1))\n",
    "dits_lt_sp_tst = dist_lt_sp_tst_acc_rna\n",
    "dits_lt_sp_tst = dits_lt_sp_tst.numpy()"
   ]
  },
  {
   "cell_type": "code",
   "execution_count": null,
   "metadata": {
    "colab": {
     "base_uri": "https://localhost:8080/",
     "height": 390
    },
    "executionInfo": {
     "elapsed": 459,
     "status": "ok",
     "timestamp": 1662413089748,
     "user": {
      "displayName": "Χρήστος Μανιάτης",
      "userId": "00852017530683764808"
     },
     "user_tz": -60
    },
    "id": "UDpvJJOJt1Yq",
    "outputId": "3f1ec053-b48a-4d2c-c511-aadaa925aa0f"
   },
   "outputs": [
    {
     "name": "stderr",
     "output_type": "stream",
     "text": [
      "/usr/local/lib/python3.7/dist-packages/matplotlib/cbook/__init__.py:1376: VisibleDeprecationWarning: Creating an ndarray from ragged nested sequences (which is a list-or-tuple of lists-or-tuples-or ndarrays with different lengths or shapes) is deprecated. If you meant to do this, you must specify 'dtype=object' when creating the ndarray.\n",
      "  X = np.atleast_1d(X.T if isinstance(X, np.ndarray) else np.asarray(X))\n",
      "/usr/local/lib/python3.7/dist-packages/numpy/core/fromnumeric.py:1970: VisibleDeprecationWarning: Creating an ndarray from ragged nested sequences (which is a list-or-tuple of lists-or-tuples-or ndarrays with different lengths or shapes) is deprecated. If you meant to do this, you must specify 'dtype=object' when creating the ndarray.\n",
      "  result = asarray(a).shape\n"
     ]
    },
    {
     "data": {
      "image/png": "[encoded data removed]",
      "text/plain": [
       "<Figure size 432x288 with 1 Axes>"
      ]
     },
     "metadata": {
      "needs_background": "light"
     },
     "output_type": "display_data"
    }
   ],
   "source": [
    "#lbs = ['CD14_Mono','CD16_Mono','CD4_Naive','CD4_TCM','CD4_TEM','CD8_Naive','CD8_TEM_1','CD8_TEM_2','HSPC','Intermediate_B','MAIT','Memory_B','NK','Naive_B','Plasma','Treg','cDC','gdT','pDC']\n",
    "lbs = ['CD14 Mono','CD8 TEM_2','Memory B','NK']\n",
    "x_ticks =['CD14_tr','CD14_tst',\"CD8_tr\",\"CD8_tst\",'MemB_tr','MemB_tst',\"NK_tr\",\"NK_tst\"]\n",
    "data = []\n",
    "\n",
    "for ii in range(len(lbs)):\n",
    "    data.append(dits_lt_sp_tr[pbmc_QC_train['seurat_annotation']==lbs[ii]])\n",
    "    data.append(dits_lt_sp_tst[pbmc_QC_test['seurat_annotation']==lbs[ii]])\n",
    "\n",
    "x_ticks_list = [1.0,2.0,3.0,4.0,5.0,6.0,7.0,8.0]\n",
    "ax= plt.subplot()\n",
    "ax.violinplot(data)\n",
    "ax.set_xticks(x_ticks_list)\n",
    "ax.set_xticklabels(x_ticks,rotation = 45,fontsize=17)\n",
    "ax.set_title(\"Accessibility vs Expression\",fontsize=20)\n",
    "ax.set_ylabel(\"Latent Space Distance\",fontsize=17)\n",
    "plt.tight_layout()\n",
    "#plt.savefig(Root_Folder + code_parent_folder + \"/Paper_Plots/10X_dist_comp.png\")\n",
    "plt.show()"
   ]
  },
  {
   "cell_type": "code",
   "execution_count": null,
   "metadata": {
    "id": "d84auZwNiHdq"
   },
   "outputs": [],
   "source": [
    "reducer = umap.UMAP(random_state=0)\n",
    "\n",
    "embedding = reducer.fit_transform(lt_sp)\n",
    "embedding_rna = reducer.transform(lt_sp_rna)\n",
    "embedding_acc = reducer.transform(lt_sp_acc)"
   ]
  },
  {
   "cell_type": "code",
   "execution_count": null,
   "metadata": {
    "id": "BIHV2XuriJNr"
   },
   "outputs": [],
   "source": [
    "if data == \"pbmc\":\n",
    "    time = ['CD14 Mono','CD16 Mono','CD4 Naive','CD4 TCM','CD4 TEM','CD8 Naive','CD8 TEM_1','CD8 TEM_2','cDC','gdT','HSPC','Intermediate B','MAIT','Memory B','Naive B','NK','pDC','Plasma','Treg']\n",
    "    lb = []\n",
    "    plt.rcParams[\"figure.figsize\"] = (20,16)\n",
    "    for ii in range(len(time)):\n",
    "        plt.scatter(embedding[pbmc_QC['seurat_annotation']==time[ii],0],embedding[pbmc_QC['seurat_annotation']==time[ii],1])\n",
    "        lb.append(time[ii])\n",
    "    plt.legend(lb,fontsize=20)\n",
    "    plt.title(\"scMVI latent space (PBMC)\",fontsize=40)\n",
    "    plt.axis('off')\n",
    "    #plt.savefig(Root_Folder + code_parent_folder + \"/Paper_Plots/scMVI_lt_\" + data +\".png\")\n",
    "    plt.show()"
   ]
  },
  {
   "cell_type": "code",
   "execution_count": null,
   "metadata": {
    "id": "LhYkZHPHYIi_"
   },
   "outputs": [],
   "source": [
    "if data == \"pbmc\":\n",
    "                time = ['ATAC','RNA']\n",
    "                lb = []\n",
    "                plt.rcParams[\"figure.figsize\"] = (10,8)\n",
    "                plt.scatter(embedding_acc[:,0],embedding_acc[:,1])\n",
    "                plt.scatter(embedding_rna[:,0],embedding_rna[:,1])\n",
    "                plt.legend(time,fontsize=15)\n",
    "                plt.title(\"scMVI latent space (PBMC)\",fontsize=30)\n",
    "                #plt.savefig(Root_Folder + code_parent_folder + \"/Paper_Plots/scMVI_lt_int_\"+data+\".png\")\n",
    "                plt.show()\n"
   ]
  }
 ],
 "metadata": {
  "colab": {
   "authorship_tag": "ABX9TyOdk60bM20bhm4xSAEBuMNi",
   "collapsed_sections": [],
   "machine_shape": "hm",
   "provenance": []
  },
  "kernelspec": {
   "display_name": "Python 3 (ipykernel)",
   "language": "python",
   "name": "python3"
  },
  "language_info": {
   "codemirror_mode": {
    "name": "ipython",
    "version": 3
   },
   "file_extension": ".py",
   "mimetype": "text/x-python",
   "name": "python",
   "nbconvert_exporter": "python",
   "pygments_lexer": "ipython3",
   "version": "3.9.5"
  }
 },
 "nbformat": 4,
 "nbformat_minor": 1
}
