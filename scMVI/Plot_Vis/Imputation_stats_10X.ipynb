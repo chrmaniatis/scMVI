{
 "cells": [
  {
   "cell_type": "code",
   "execution_count": null,
   "metadata": {
    "colab": {
     "base_uri": "https://localhost:8080/"
    },
    "executionInfo": {
     "elapsed": 20699,
     "status": "ok",
     "timestamp": 1662460735162,
     "user": {
      "displayName": "Χρήστος Μανιάτης",
      "userId": "00852017530683764808"
     },
     "user_tz": -60
    },
    "id": "59yF2N2lYMUy",
    "outputId": "272a666a-9f06-4aad-fbee-5778995fdf92"
   },
   "outputs": [
    {
     "name": "stdout",
     "output_type": "stream",
     "text": [
      "Mounted at /content/drive\n"
     ]
    }
   ],
   "source": [
    "from google.colab import drive\n",
    "drive.mount(\"/content/drive\")"
   ]
  },
  {
   "cell_type": "markdown",
   "metadata": {
    "id": "zP1G51qIahOi"
   },
   "source": [
    "Imputation stats for PBMC"
   ]
  },
  {
   "cell_type": "code",
   "execution_count": null,
   "metadata": {
    "id": "pgt5NbdwYX0A"
   },
   "outputs": [],
   "source": [
    "from IPython import display\n",
    "import pandas as pd\n",
    "import numpy as np\n",
    "import datetime\n",
    "from matplotlib import pyplot as plt\n",
    "from matplotlib import colors\n",
    "from matplotlib.ticker import PercentFormatter\n",
    "from matplotlib import cm\n",
    "from matplotlib.colors import Normalize \n",
    "from tensorflow import keras\n",
    "import tensorflow as tf\n",
    "import scipy.stats as stats\n",
    "from tensorflow.keras import layers\n",
    "import tensorflow_probability as tfp\n",
    "from scipy.stats import gaussian_kde\n",
    "import os\n",
    "\n",
    "#Load Data\n",
    "Root_Folder = \"/content/drive/MyDrive\" \n",
    "\n",
    "TypeOfdata =  'pbmc'\n",
    "data_parent_folder = \"/Data\"\n",
    "code_parent_folder = \"/scMVI\"\n",
    "\n",
    "os.chdir('/content/drive/My Drive/' + code_parent_folder +'/Code')\n",
    "\n",
    "Acc_test = pd.read_pickle(Root_Folder + data_parent_folder + \"/Data_ATAC/Acc_test_\" + TypeOfdata +\".pickle\")\n",
    "Rna_test = pd.read_pickle(Root_Folder + data_parent_folder + \"/Data_ATAC/Rna_test_\" + TypeOfdata +\".pickle\")\n",
    "Nrm_rna_test = pd.read_pickle(Root_Folder + data_parent_folder + \"/Data_ATAC/Nrm_rna_test_\" + TypeOfdata +\".pickle\")\n",
    "Nrm_acc_test = pd.read_pickle(Root_Folder + data_parent_folder + \"/Data_ATAC/Nrm_acc_test_\" + TypeOfdata +\".pickle\")\n",
    "\n",
    "Acc_tst = tf.convert_to_tensor(Acc_test,dtype=tf.float32)\n",
    "Rna_tst = tf.convert_to_tensor(Rna_test,dtype=tf.float32)\n",
    "\n",
    "Acc_nrm_tst = tf.math.log(tf.convert_to_tensor(Nrm_acc_test,dtype=tf.float32))\n",
    "Rna_nrm_tst = tf.math.log(tf.convert_to_tensor(Nrm_rna_test,dtype=tf.float32))\n",
    "\n",
    "Acc_nrm_tst = tf.repeat(Acc_nrm_tst,repeats=Acc_tst.shape[1],axis=1)\n",
    "Rna_nrm_tst = tf.repeat(Rna_nrm_tst,repeats=Rna_tst.shape[1],axis=1)\n",
    "\n",
    "inp_sz_acc=Acc_tst.shape[1]\n",
    "inp_sz_rna=Rna_tst.shape[1]"
   ]
  },
  {
   "cell_type": "code",
   "execution_count": null,
   "metadata": {
    "id": "kdCfqSlSSlHL"
   },
   "outputs": [],
   "source": [
    "#Subsample 30 cells from test set to reduce computational time\n",
    "if TypeOfdata == \"pbmc\":\n",
    "\n",
    "                  ind_sub = np.asarray(np.random.permutation(2955),dtype=np.int32)\n",
    "                  aa=30 #Downsampling cells\n",
    "                  Acc_tst = tf.gather(Acc_tst,ind_sub[:aa],axis=0)\n",
    "                  Rna_tst = tf.gather(Rna_tst,ind_sub[:aa],axis=0)\n",
    "                  Acc_nrm_tst = tf.gather(Acc_nrm_tst,ind_sub[:aa],axis=0)\n",
    "                  Rna_nrm_tst = tf.gather(Rna_nrm_tst,ind_sub[:aa],axis=0)\n",
    "\n",
    "def find_ind(Acc_dat,Rna_dat):\n",
    "    avg_acc=tf.reduce_mean(Acc_dat,axis=1)\n",
    "    avg_exp=tf.reduce_mean(Rna_dat,axis=1)\n",
    "\n",
    "    acc_ind_zer = tf.where(avg_acc==0)\n",
    "    rna_ind_zer = tf.where(avg_exp==0)\n",
    "    acc_ind_nzer = tf.where(avg_acc>0)\n",
    "    rna_ind_nzer = tf.where(avg_exp>0)\n",
    "\n",
    "    cells_acc_mod=np.intersect1d(acc_ind_nzer,rna_ind_zer)\n",
    "    cells_jt_mod=np.intersect1d(acc_ind_nzer,rna_ind_nzer)\n",
    "    cells_rna_mod=np.intersect1d(acc_ind_zer,rna_ind_nzer)\n",
    "\n",
    "    return cells_acc_mod,cells_rna_mod,cells_jt_mod\n",
    "\n",
    "_,_,ind_jt_tst = find_ind(Acc_tst,Rna_tst)\n"
   ]
  },
  {
   "cell_type": "code",
   "execution_count": null,
   "metadata": {
    "id": "mWAyZ-mgYPkG"
   },
   "outputs": [],
   "source": [
    "#Estimate uncertainty for reconstruced or imputed samples\n",
    "def est_std(x):\n",
    "    x = tf.stack(x,axis=0)\n",
    "    x = tfp.stats.stddev(x,sample_axis=0)\n",
    "    return x\n",
    "\n",
    "def data_uncertainty(model,xx,num_samps):\n",
    "    col_smps_acc = []\n",
    "    col_smps_rna = []\n",
    "    col_imp_smps_acc = []\n",
    "    col_imp_smps_rna = []\n",
    "    for ii in range(num_samps):\n",
    "\n",
    "          Acc_pred,Rna_acc_pred = mdl.imp_cells(xx,'acc')\n",
    "          Acc_rna_pred,Rna_pred = mdl.imp_cells(xx,'rna')\n",
    "\n",
    "          col_smps_acc.append(tf.math.log(1+Acc_pred))\n",
    "          col_smps_rna.append(tf.math.log(1+Rna_pred))\n",
    "          \n",
    "          col_imp_smps_acc.append(tf.math.log(1+Acc_rna_pred))\n",
    "          col_imp_smps_rna.append(tf.math.log(1+Rna_acc_pred))    \n",
    "    \n",
    "    smps_std = [est_std(col_smps_acc),est_std(col_smps_rna)]\n",
    "    imp_smps_std = [est_std(col_imp_smps_acc),est_std(col_imp_smps_rna)]\n",
    "\n",
    "    data_rec = [tf.math.log(1+Acc_pred),tf.math.log(1+Rna_pred)]\n",
    "    data_imp = [tf.math.log(1+Acc_rna_pred),tf.math.log(1+Rna_acc_pred)]\n",
    "\n",
    "    return col_imp_smps_acc,col_imp_smps_rna,imp_smps_std"
   ]
  },
  {
   "cell_type": "code",
   "execution_count": null,
   "metadata": {
    "id": "4OU8I4BcyGk1"
   },
   "outputs": [],
   "source": [
    "from Models import scMVI_10X\n",
    "from Obj_Blocks import *\n",
    "from Plotting import *"
   ]
  },
  {
   "cell_type": "code",
   "execution_count": null,
   "metadata": {
    "colab": {
     "base_uri": "https://localhost:8080/"
    },
    "executionInfo": {
     "elapsed": 4426,
     "status": "ok",
     "timestamp": 1662460749599,
     "user": {
      "displayName": "Χρήστος Μανιάτης",
      "userId": "00852017530683764808"
     },
     "user_tz": -60
    },
    "id": "suN-uMjCyahB",
    "outputId": "abd87c4a-ee59-4bb4-9a66-3fdff883414a"
   },
   "outputs": [
    {
     "data": {
      "text/plain": [
       "<tensorflow.python.training.tracking.util.CheckpointLoadStatus at 0x7f073e767c10>"
      ]
     },
     "execution_count": 7,
     "metadata": {},
     "output_type": "execute_result"
    }
   ],
   "source": [
    "#Define model and load weights for the trained model\n",
    "mdl = scMVI_10X(inp_acc_dim=inp_sz_acc,inp_rna_dim=inp_sz_rna,intermidiate_dim=100,latent_dimensions=10)\n",
    "mdl.load_weights(Root_Folder + code_parent_folder + \"/Networks/scMVI_10X_\"+TypeOfdata+\"/scMVI_10X_\"+TypeOfdata)"
   ]
  },
  {
   "cell_type": "code",
   "execution_count": null,
   "metadata": {
    "id": "BA4pw01XwTt0"
   },
   "outputs": [],
   "source": [
    "smps_imp_acc,smps_imp_rna,smps_imp_std = data_uncertainty(mdl,[Acc_tst,Acc_nrm_tst,Rna_tst,Rna_nrm_tst],4)\n",
    "\n",
    "Acc_rna_pred_tst = smps_imp_acc\n",
    "Rna_acc_pred_tst = smps_imp_rna\n",
    "\n",
    "Acc_rna_pred_tst_std, Rna_acc_pred_tst_std = smps_imp_std"
   ]
  },
  {
   "cell_type": "code",
   "execution_count": null,
   "metadata": {
    "id": "-EcXKBR6unib"
   },
   "outputs": [],
   "source": [
    "aaa = ind_jt_tst\n",
    "\n",
    "Rna_acc_pred_tst = tf.stack(Rna_acc_pred_tst,axis=0)\n",
    "Acc_rna_pred_tst = tf.stack(Acc_rna_pred_tst,axis=0)\n",
    "\n",
    "dist_rna = tf.reduce_mean(tf.math.abs(Rna_acc_pred_tst-tf.math.log(1+Rna_tst)),axis=0)\n",
    "dist_acc = tf.reduce_mean(tf.math.abs(Acc_rna_pred_tst-tf.math.log(1+Acc_tst)),axis=0)\n",
    "\n",
    "std_rna = Rna_acc_pred_tst_std\n",
    "std_acc = Acc_rna_pred_tst_std"
   ]
  },
  {
   "cell_type": "code",
   "execution_count": null,
   "metadata": {
    "id": "j9eHPi6fxb0v"
   },
   "outputs": [],
   "source": [
    "from matplotlib import pyplot as plt\n",
    "from matplotlib import colors\n",
    "from matplotlib.ticker import PercentFormatter\n",
    "from matplotlib import cm\n",
    "from matplotlib.colors import Normalize \n",
    "import scipy.stats as stats\n",
    "from scipy.stats import gaussian_kde\n",
    "import numpy as np\n",
    "import tensorflow as tf\n",
    "\n",
    "def density_scatter_plot_1(x,y, **kwargs):\n",
    "    \"\"\"\n",
    "    :param x: data positions on the x axis\n",
    "    :param y: data positions on the y axis\n",
    "    :return: matplotlib.collections.PathCollection object\n",
    "    \"\"\"\n",
    "    # Kernel Density Estimate (KDE)\n",
    "    values = np.vstack((x, y))\n",
    "    kernel = gaussian_kde(values)\n",
    "    kde = kernel.evaluate(values)\n",
    "\n",
    "    # create array with colors for each data point\n",
    "    norm = Normalize(vmin=kde.min(), vmax=kde.max())\n",
    "    colors = cm.ScalarMappable(norm=norm, cmap='viridis').to_rgba(kde)\n",
    "\n",
    "    # override original color argument\n",
    "    kwargs['color'] = colors\n",
    "\n",
    "\n",
    "    plt.scatter(x, y, **kwargs)\n",
    "    plt.colorbar(orientation='vertical')\n",
    "    \n",
    "    return plt\n"
   ]
  },
  {
   "cell_type": "code",
   "execution_count": null,
   "metadata": {
    "colab": {
     "base_uri": "https://localhost:8080/",
     "height": 540
    },
    "executionInfo": {
     "elapsed": 2352,
     "status": "ok",
     "timestamp": 1662460753326,
     "user": {
      "displayName": "Χρήστος Μανιάτης",
      "userId": "00852017530683764808"
     },
     "user_tz": -60
    },
    "id": "nG9SKcKyyPW5",
    "outputId": "d00d6aab-be1c-4ded-f0f4-4713152f83ef"
   },
   "outputs": [
    {
     "data": {
      "image/png": "[encoded data removed]",
      "text/plain": [
       "<Figure size 432x288 with 2 Axes>"
      ]
     },
     "metadata": {
      "needs_background": "light"
     },
     "output_type": "display_data"
    },
    {
     "data": {
      "image/png": "[encoded data removed]",
      "text/plain": [
       "<Figure size 432x288 with 2 Axes>"
      ]
     },
     "metadata": {
      "needs_background": "light"
     },
     "output_type": "display_data"
    }
   ],
   "source": [
    "aaa = ind_jt_tst\n",
    "col_prob_rna = np.zeros(10,)\n",
    "col_prob_acc = np.zeros(10,)\n",
    "for ii in range(1):\n",
    "          ii=ii+1\n",
    "          xx_rna = tf.math.log(0.001+2.0*std_rna[aaa[ii],:])\n",
    "          yy_rna = tf.math.log(0.001+dist_rna[aaa[ii],:])\n",
    "\n",
    "          xx_acc = tf.math.log(0.001+2.0*std_acc[aaa[ii],:])\n",
    "          yy_acc = tf.math.log(0.001+dist_acc[aaa[ii],:])\n",
    "\n",
    "          xx1 = tf.linspace(tf.reduce_min(xx_rna),tf.reduce_max(xx_rna),100)\n",
    "          xx2 = tf.linspace(tf.reduce_min(xx_acc),tf.reduce_max(xx_acc),100)\n",
    "\n",
    "          plt=density_scatter_plot_1(xx_rna,yy_rna) \n",
    "          plt.plot(xx1,xx1,'r')\n",
    "          plt.xlabel(\"Confidense Interval Length (log)\",fontsize=15)\n",
    "          plt.ylabel(\"Imputation Error (log)\",fontsize=15)\n",
    "          #plt.savefig(Root_Folder + code_parent_folder +\"/Paper_Plots/10X_imput_diagram.png\")\n",
    "          plt.show()\n",
    "\n",
    "          plt=density_scatter_plot_1(xx_acc,yy_acc) \n",
    "          plt.plot(xx2,xx2,'r')\n",
    "          plt.show()\n",
    "\n",
    "          problematic_rna = tf.where(yy_rna>xx_rna)\n",
    "          problematic_acc = tf.where(yy_acc>xx_acc)\n",
    "          col_prob_rna[ii] = problematic_rna.numpy().shape[0]\n",
    "          col_prob_acc[ii] = problematic_acc.numpy().shape[0]"
   ]
  },
  {
   "cell_type": "code",
   "execution_count": null,
   "metadata": {
    "colab": {
     "base_uri": "https://localhost:8080/"
    },
    "executionInfo": {
     "elapsed": 8,
     "status": "ok",
     "timestamp": 1662460753326,
     "user": {
      "displayName": "Χρήστος Μανιάτης",
      "userId": "00852017530683764808"
     },
     "user_tz": -60
    },
    "id": "-OAsVt1HycGZ",
    "outputId": "8fb42789-5d99-4587-da2b-dbff58df9c41"
   },
   "outputs": [
    {
     "name": "stdout",
     "output_type": "stream",
     "text": [
      "0.00418\n",
      "0.0031100000000000004\n",
      "[  0. 209.   0.   0.   0.   0.   0.   0.   0.   0.]\n"
     ]
    }
   ],
   "source": [
    "print(np.mean(col_prob_rna)/5000.0)\n",
    "print(np.mean(col_prob_acc)/10000.0)\n",
    "\n",
    "print(col_prob_rna)"
   ]
  },
  {
   "cell_type": "code",
   "execution_count": null,
   "metadata": {
    "id": "e_4XYOkazQTh"
   },
   "outputs": [],
   "source": []
  }
 ],
 "metadata": {
  "colab": {
   "authorship_tag": "ABX9TyMkJK97lr4uZd9Gt1njiXI7",
   "collapsed_sections": [],
   "machine_shape": "hm",
   "provenance": []
  },
  "kernelspec": {
   "display_name": "Python 3 (ipykernel)",
   "language": "python",
   "name": "python3"
  },
  "language_info": {
   "codemirror_mode": {
    "name": "ipython",
    "version": 3
   },
   "file_extension": ".py",
   "mimetype": "text/x-python",
   "name": "python",
   "nbconvert_exporter": "python",
   "pygments_lexer": "ipython3",
   "version": "3.9.5"
  }
 },
 "nbformat": 4,
 "nbformat_minor": 1
}
