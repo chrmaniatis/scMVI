{
 "cells": [
  {
   "cell_type": "code",
   "execution_count": null,
   "metadata": {
    "colab": {
     "base_uri": "https://localhost:8080/"
    },
    "executionInfo": {
     "elapsed": 14879,
     "status": "ok",
     "timestamp": 1662418393636,
     "user": {
      "displayName": "Χρήστος Μανιάτης",
      "userId": "00852017530683764808"
     },
     "user_tz": -60
    },
    "id": "59yF2N2lYMUy",
    "outputId": "db49fb6b-3430-4b2b-f588-d9bffab0e6e4"
   },
   "outputs": [
    {
     "name": "stdout",
     "output_type": "stream",
     "text": [
      "Mounted at /content/drive\n"
     ]
    }
   ],
   "source": [
    "from google.colab import drive\n",
    "drive.mount(\"/content/drive\")"
   ]
  },
  {
   "cell_type": "code",
   "execution_count": null,
   "metadata": {
    "id": "pgt5NbdwYX0A"
   },
   "outputs": [],
   "source": [
    "from IPython import display\n",
    "import pandas as pd\n",
    "import numpy as np\n",
    "import datetime\n",
    "from matplotlib import pyplot as plt\n",
    "from matplotlib import colors\n",
    "from matplotlib.ticker import PercentFormatter\n",
    "from tensorflow import keras\n",
    "import tensorflow as tf\n",
    "import tensorflow_probability as tfp\n",
    "import pickle\n",
    "import os\n",
    "\n",
    "Root_Folder = \"/content/drive/MyDrive\"\n",
    "data = 'pbmc'\n",
    "data_parent_folder = \"/Data\"\n",
    "code_parent_folder = \"/scMVI\"\n",
    "\n",
    "os.chdir('/content/drive/My Drive/' + code_parent_folder +'/Code')\n",
    "\n",
    "Acc_train = pd.read_pickle(Root_Folder + data_parent_folder + \"/Data_ATAC/Acc_train_\"+data+\".pickle\")\n",
    "Rna_train = pd.read_pickle(Root_Folder + data_parent_folder + \"/Data_ATAC/Rna_train_\"+data+\".pickle\")\n",
    "\n",
    "Acc_nrm_train = pd.read_pickle(Root_Folder + data_parent_folder + \"/Data_ATAC/Nrm_acc_train_\"+data+\".pickle\")\n",
    "Rna_nrm_train = pd.read_pickle(Root_Folder + data_parent_folder + \"/Data_ATAC/Nrm_rna_train_\"+data+\".pickle\")\n",
    "\n",
    "Acc_test = pd.read_pickle(Root_Folder + data_parent_folder + \"/Data_ATAC/Acc_test_\"+data+\".pickle\")\n",
    "Rna_test = pd.read_pickle(Root_Folder + data_parent_folder + \"/Data_ATAC/Rna_test_\"+data+\".pickle\")\n",
    "\n",
    "Acc_nrm_test = pd.read_pickle(Root_Folder + data_parent_folder + \"/Data_ATAC/Nrm_acc_test_\"+data+\".pickle\")\n",
    "Rna_nrm_test = pd.read_pickle(Root_Folder + data_parent_folder + \"/Data_ATAC/Nrm_rna_test_\"+data+\".pickle\")\n"
   ]
  },
  {
   "cell_type": "code",
   "execution_count": null,
   "metadata": {
    "id": "t2WVJXUoVtXT"
   },
   "outputs": [],
   "source": [
    "Acc_tr = tf.convert_to_tensor(Acc_train,dtype=tf.float32)\n",
    "Rna_tr = tf.convert_to_tensor(Rna_train,dtype=tf.float32)\n",
    "\n",
    "Acc_tst = tf.convert_to_tensor(Acc_test,dtype=tf.float32)\n",
    "Rna_tst = tf.convert_to_tensor(Rna_test,dtype=tf.float32)\n",
    "\n",
    "Acc_nrm_tr = tf.math.log(tf.convert_to_tensor(Acc_nrm_train,dtype=tf.float32))\n",
    "Acc_nrm_tst = tf.math.log(tf.convert_to_tensor(Acc_nrm_test,dtype=tf.float32))\n",
    "\n",
    "Rna_nrm_tr = tf.math.log(tf.convert_to_tensor(Rna_nrm_train,dtype=tf.float32))\n",
    "Rna_nrm_tst = tf.math.log(tf.convert_to_tensor(Rna_nrm_test,dtype=tf.float32))"
   ]
  },
  {
   "cell_type": "code",
   "execution_count": null,
   "metadata": {
    "id": "kL18-HSGWii3"
   },
   "outputs": [],
   "source": [
    "Acc_nrm_tr = tf.repeat(Acc_nrm_tr,repeats=Acc_tr.shape[1],axis=1)\n",
    "Rna_nrm_tr = tf.repeat(Rna_nrm_tr,repeats=Rna_tr.shape[1],axis=1)\n",
    "\n",
    "Acc_nrm_tst = tf.repeat(Acc_nrm_tst,repeats=Acc_tst.shape[1],axis=1)\n",
    "Rna_nrm_tst = tf.repeat(Rna_nrm_tst,repeats=Rna_tst.shape[1],axis=1)"
   ]
  },
  {
   "cell_type": "code",
   "execution_count": null,
   "metadata": {
    "colab": {
     "base_uri": "https://localhost:8080/"
    },
    "executionInfo": {
     "elapsed": 14,
     "status": "ok",
     "timestamp": 1662418411055,
     "user": {
      "displayName": "Χρήστος Μανιάτης",
      "userId": "00852017530683764808"
     },
     "user_tz": -60
    },
    "id": "y8F8UhsJl-tr",
    "outputId": "8e7ee166-5d0c-41a1-e6a5-0b1b2f78313c"
   },
   "outputs": [
    {
     "name": "stdout",
     "output_type": "stream",
     "text": [
      "6895\n",
      "2955\n",
      "10000 5000\n"
     ]
    }
   ],
   "source": [
    "training_size=Rna_tr.shape[0]\n",
    "testing_size=Rna_tst.shape[0]\n",
    "batch_size =  10\n",
    "\n",
    "inp_sz_acc=Acc_tr.shape[1]\n",
    "inp_sz_rna=Rna_tr.shape[1]\n",
    "\n",
    "print(training_size)\n",
    "print(testing_size)\n",
    "print(inp_sz_acc,inp_sz_rna)"
   ]
  },
  {
   "cell_type": "code",
   "execution_count": null,
   "metadata": {
    "id": "pmIPH88sdoV_"
   },
   "outputs": [],
   "source": [
    "train_dataset = tf.data.Dataset.from_tensor_slices((Acc_tr,Acc_nrm_tr,Rna_tr,Rna_nrm_tr)).shuffle(training_size).batch(batch_size)\n",
    "val = tf.data.Dataset.from_tensor_slices((Acc_tst,Acc_nrm_tst,Rna_tst,Rna_nrm_tst))\n",
    "val_data = tf.data.Dataset.zip((val,)).batch(testing_size)"
   ]
  },
  {
   "cell_type": "code",
   "execution_count": null,
   "metadata": {
    "id": "tDMv0ev3XT6X"
   },
   "outputs": [],
   "source": [
    "from Models import scMVI_10X\n",
    "from Obj_Blocks import *"
   ]
  },
  {
   "cell_type": "code",
   "execution_count": null,
   "metadata": {
    "colab": {
     "base_uri": "https://localhost:8080/"
    },
    "executionInfo": {
     "elapsed": 2187,
     "status": "ok",
     "timestamp": 1662418426811,
     "user": {
      "displayName": "Χρήστος Μανιάτης",
      "userId": "00852017530683764808"
     },
     "user_tz": -60
    },
    "id": "TjgmMIakXWRR",
    "outputId": "e2f9ddcd-070e-4ba4-b1f7-c03033201896"
   },
   "outputs": [
    {
     "data": {
      "text/plain": [
       "<tensorflow.python.training.tracking.util.CheckpointLoadStatus at 0x7fd400b87cd0>"
      ]
     },
     "execution_count": 10,
     "metadata": {},
     "output_type": "execute_result"
    }
   ],
   "source": [
    "#Define model and load weights for the trained model\n",
    "mdl = scMVI_10X(inp_acc_dim=inp_sz_acc,inp_rna_dim=inp_sz_rna,intermidiate_dim=100,latent_dimensions=10)\n",
    "mdl.load_weights(Root_Folder + code_parent_folder + \"/Networks/scMVI_10X_\"+data+\"/scMVI_10X_\"+data)"
   ]
  },
  {
   "cell_type": "code",
   "execution_count": null,
   "metadata": {
    "colab": {
     "base_uri": "https://localhost:8080/"
    },
    "executionInfo": {
     "elapsed": 427,
     "status": "ok",
     "timestamp": 1662418427233,
     "user": {
      "displayName": "Χρήστος Μανιάτης",
      "userId": "00852017530683764808"
     },
     "user_tz": -60
    },
    "id": "tsKbis5AHpZB",
    "outputId": "dd6fce9f-86aa-4a0a-84ae-f09b73f1bde2"
   },
   "outputs": [
    {
     "name": "stderr",
     "output_type": "stream",
     "text": [
      "/usr/local/lib/python3.7/dist-packages/IPython/core/interactiveshell.py:3326: FutureWarning: In a future version of pandas all arguments of read_csv except for the argument 'filepath_or_buffer' will be keyword-only\n",
      "  exec(code_obj, self.user_global_ns, self.user_ns)\n"
     ]
    },
    {
     "name": "stdout",
     "output_type": "stream",
     "text": [
      "['CD14 Mono' 'CD16 Mono' 'CD4 Naive' 'CD4 TCM' 'CD4 TEM' 'CD8 Naive'\n",
      " 'CD8 TEM_1' 'CD8 TEM_2' 'HSPC' 'Intermediate B' 'MAIT' 'Memory B' 'NK'\n",
      " 'Naive B' 'Plasma' 'Treg' 'cDC' 'gdT' 'pDC']\n"
     ]
    }
   ],
   "source": [
    "#Load Metadata\n",
    "Rna = pd.concat([Rna_train,Rna_test],axis=0)\n",
    "if data == \"pbmc\":\n",
    "    pbmc_QC = pd.read_csv(Root_Folder + data_parent_folder + \"/Data_ATAC/Srt_annot.csv\",'\\t',index_col=[0])\n",
    "    pbmc_QC = pbmc_QC.loc[Rna.index]\n",
    "    print(np.unique(list(pbmc_QC['seurat_annotation'])))"
   ]
  },
  {
   "cell_type": "code",
   "execution_count": null,
   "metadata": {
    "id": "QIOXmELyKucn"
   },
   "outputs": [],
   "source": [
    "#Functions for estimating differential directions and stats for experiments outlined in the main chapter \n",
    "def index_creation(meta_data,group_by,group_1,smps_group_1,group_2,smps_group_2):\n",
    "\n",
    "\n",
    "                        cell_num = meta_data.shape[0]\n",
    "                        group_index_1 = np.zeros((cell_num,))\n",
    "                        group_index_2 = np.zeros((cell_num,))\n",
    "\n",
    "                        ind_1 = np.where(meta_data[group_by]==group_1)[0]\n",
    "                        ind_2 = np.where(meta_data[group_by]==group_2)[0]\n",
    "\n",
    "\n",
    "                        if np.logical_or(len(ind_1)<smps_group_1,len(ind_2)<smps_group_2):\n",
    "\n",
    "                                    raise ValueError('samples for groups 1 and 2 cannot be more than cells in groups 1 and 2')        \n",
    "\n",
    "\n",
    "\n",
    "                        perm_ind_1 = ind_1[np.random.permutation(len(ind_1))[:smps_group_1]]\n",
    "                        perm_ind_2 = ind_2[np.random.permutation(len(ind_2))[:smps_group_2]]\n",
    "\n",
    "                        group_index_1[perm_ind_1]=1\n",
    "                        group_index_2[perm_ind_2]=1\n",
    "\n",
    "                        group_index_1 = tf.squeeze(tf.where(group_index_1==1))\n",
    "                        group_index_2 = tf.squeeze(tf.where(group_index_2==1))\n",
    "\n",
    "                        return group_index_1, group_index_2\n",
    "\n",
    "\n",
    "def create_exp(metadata,grp_1,smps_1,grp_2,smps_2):\n",
    "  \n",
    "        smps_group_1 =[smps_1,int(np.round(smps_1*0.2)),smps_1,int(np.round(smps_1*0.2)),int(np.round(smps_1*0.5)),int(np.round(smps_1*0.5)),int(np.round(smps_1*0.2))]\n",
    "        smps_group_2 =[smps_2,smps_2,int(np.round(smps_2*0.2)),int(np.round(smps_2*0.5)),int(np.round(smps_2*0.2)),int(np.round(smps_2*0.5)),int(np.round(smps_2*0.2))]\n",
    "\n",
    "        col_all = []\n",
    "        for jj in range(5):\n",
    "              group_index_11,group_index_21 = index_creation(metadata,'seurat_annotation',grp_1,smps_group_1[0],grp_2,smps_group_2[0])\n",
    "              group_index_12,group_index_22 = index_creation(metadata,'seurat_annotation',grp_1,smps_group_1[1],grp_2,smps_group_2[1])\n",
    "              group_index_13,group_index_23 = index_creation(metadata,'seurat_annotation',grp_1,smps_group_1[2],grp_2,smps_group_2[2])\n",
    "              group_index_14,group_index_24 = index_creation(metadata,'seurat_annotation',grp_1,smps_group_1[3],grp_2,smps_group_2[3])\n",
    "              group_index_15,group_index_25 = index_creation(metadata,'seurat_annotation',grp_1,smps_group_1[4],grp_2,smps_group_2[4])\n",
    "              group_index_16,group_index_26 = index_creation(metadata,'seurat_annotation',grp_1,smps_group_1[5],grp_2,smps_group_2[5])\n",
    "              group_index_17,group_index_27 = index_creation(metadata,'seurat_annotation',grp_1,smps_group_1[6],grp_2,smps_group_2[6])\n",
    "\n",
    "              _,a1 = mdl.Diff_Dir_Dist_Avg(xxxx,group_index_11,group_index_21,'all')\n",
    "              _,a2 = mdl.Diff_Dir_Dist_Avg(xxxx,group_index_12,group_index_22,'all')\n",
    "              _,a3 = mdl.Diff_Dir_Dist_Avg(xxxx,group_index_13,group_index_23,'all')\n",
    "              _,a4 = mdl.Diff_Dir_Dist_Avg(xxxx,group_index_14,group_index_24,'all')\n",
    "              _,a5 = mdl.Diff_Dir_Dist_Avg(xxxx,group_index_15,group_index_25,'all')\n",
    "              _,a6 = mdl.Diff_Dir_Dist_Avg(xxxx,group_index_16,group_index_26,'all')\n",
    "              _,a7 = mdl.Diff_Dir_Dist_Avg(xxxx,group_index_17,group_index_27,'all')\n",
    "\n",
    "\n",
    "\n",
    "              col_all.append([a1,a2,a3,a4,a5,a6,a7])\n",
    "              print(100*(1+jj)/5.0)\n",
    "\n",
    "        return col_all\n",
    "      \n",
    "def collect_stats(x):\n",
    "\n",
    "        x_med = tfp.stats.percentile(tf.squeeze(x),50,axis=2)\n",
    "        x_med_mn = tf.reduce_mean(tf.reduce_mean(x_med,axis=1),axis=0)[tf.newaxis,:]\n",
    "        x_med_std = tf.math.sqrt(tf.reduce_mean(tfp.stats.variance(x_med,sample_axis=1),axis=0))[tf.newaxis,:]\n",
    "        x_std = tf.math.sqrt(tf.reduce_mean(tfp.stats.variance(tf.squeeze(x),sample_axis=2),axis=0))\n",
    "\n",
    "        x_med_rng = tf.reduce_mean(tf.reduce_max(x_med,axis=1) -tf.reduce_min(x_med,axis=1),axis=0)[tf.newaxis,:]\n",
    "\n",
    "        return x_med_mn,x_med_std,x_std,x_med_rng\n"
   ]
  },
  {
   "cell_type": "code",
   "execution_count": null,
   "metadata": {
    "id": "qLf7wIwpo51C"
   },
   "outputs": [],
   "source": [
    "Acc_comb = tf.concat([Acc_tr,Acc_tst],axis=0)\n",
    "Rna_comb = tf.concat([Rna_tr,Rna_tst],axis=0)\n",
    "\n",
    "Acc_nrm_comb = tf.concat([Acc_nrm_tr,Acc_nrm_tst],axis=0)\n",
    "Rna_nrm_comb = tf.concat([Rna_nrm_tr,Rna_nrm_tst],axis=0)\n",
    "\n",
    "xxxx = [Acc_comb,Acc_nrm_comb,Rna_comb,Rna_nrm_tst]"
   ]
  },
  {
   "cell_type": "code",
   "execution_count": null,
   "metadata": {
    "colab": {
     "base_uri": "https://localhost:8080/"
    },
    "executionInfo": {
     "elapsed": 3,
     "status": "ok",
     "timestamp": 1662418430516,
     "user": {
      "displayName": "Χρήστος Μανιάτης",
      "userId": "00852017530683764808"
     },
     "user_tz": -60
    },
    "id": "pd3x1Q19voMu",
    "outputId": "0c2deaef-0371-4d1d-fba0-142415619349"
   },
   "outputs": [
    {
     "name": "stdout",
     "output_type": "stream",
     "text": [
      "seurat_annotation\n",
      "CD14 Mono            2653\n",
      "CD4 Naive            1335\n",
      "CD8 Naive            1324\n",
      "CD4 TCM              1100\n",
      "CD16 Mono             490\n",
      "NK                    426\n",
      "Memory B              355\n",
      "Intermediate B        337\n",
      "CD8 TEM_2             334\n",
      "CD8 TEM_1             307\n",
      "CD4 TEM               291\n",
      "cDC                   191\n",
      "Treg                  150\n",
      "gdT                   144\n",
      "Naive B               137\n",
      "MAIT                  131\n",
      "pDC                   104\n",
      "HSPC                   25\n",
      "Plasma                 16\n",
      "dtype: int64\n"
     ]
    }
   ],
   "source": [
    "print(pbmc_QC.value_counts())"
   ]
  },
  {
   "cell_type": "code",
   "execution_count": null,
   "metadata": {
    "colab": {
     "base_uri": "https://localhost:8080/"
    },
    "executionInfo": {
     "elapsed": 6413,
     "status": "ok",
     "timestamp": 1662418439156,
     "user": {
      "displayName": "Χρήστος Μανιάτης",
      "userId": "00852017530683764808"
     },
     "user_tz": -60
    },
    "id": "dyggn28DQ0Bu",
    "outputId": "e3194941-3320-466f-f066-9295900899fc"
   },
   "outputs": [
    {
     "name": "stdout",
     "output_type": "stream",
     "text": [
      "20.0\n",
      "40.0\n",
      "60.0\n",
      "80.0\n",
      "100.0\n"
     ]
    }
   ],
   "source": [
    "#Estimates differential directions\n",
    "grp_1 = 'CD16 Mono' \n",
    "smps_1 = 490\n",
    "grp_2 = 'CD14 Mono'\n",
    "smps_2 = 2653\n",
    "\n",
    "col_all_1 = create_exp(pbmc_QC,grp_1,smps_1,grp_2,smps_2)"
   ]
  },
  {
   "cell_type": "code",
   "execution_count": null,
   "metadata": {
    "colab": {
     "base_uri": "https://localhost:8080/"
    },
    "executionInfo": {
     "elapsed": 1809,
     "status": "ok",
     "timestamp": 1662418440959,
     "user": {
      "displayName": "Χρήστος Μανιάτης",
      "userId": "00852017530683764808"
     },
     "user_tz": -60
    },
    "id": "ZtL9DIrA94PK",
    "outputId": "66a6183e-05d7-49db-a95d-58cecfd84b4d"
   },
   "outputs": [
    {
     "name": "stdout",
     "output_type": "stream",
     "text": [
      "20.0\n",
      "40.0\n",
      "60.0\n",
      "80.0\n",
      "100.0\n"
     ]
    }
   ],
   "source": [
    "grp_1 = 'CD8 Naive'\n",
    "smps_1 = 1324\n",
    "grp_2 = 'Intermediate B'\n",
    "smps_2 = 337\n",
    "\n",
    "col_all_2 = create_exp(pbmc_QC,grp_1,smps_1,grp_2,smps_2)"
   ]
  },
  {
   "cell_type": "code",
   "execution_count": null,
   "metadata": {
    "colab": {
     "base_uri": "https://localhost:8080/"
    },
    "executionInfo": {
     "elapsed": 2141,
     "status": "ok",
     "timestamp": 1662418443094,
     "user": {
      "displayName": "Χρήστος Μανιάτης",
      "userId": "00852017530683764808"
     },
     "user_tz": -60
    },
    "id": "glKNjJdCUc_5",
    "outputId": "223a0823-ac64-4cd2-d378-cc0ca162c6b9"
   },
   "outputs": [
    {
     "name": "stdout",
     "output_type": "stream",
     "text": [
      "20.0\n",
      "40.0\n",
      "60.0\n",
      "80.0\n",
      "100.0\n"
     ]
    }
   ],
   "source": [
    "grp_1 = 'CD4 TEM'\n",
    "smps_1 = 291\n",
    "grp_2 = 'CD4 TCM'\n",
    "smps_2 = 1100\n",
    "\n",
    "col_all_3 = create_exp(pbmc_QC,grp_1,smps_1,grp_2,smps_2)"
   ]
  },
  {
   "cell_type": "code",
   "execution_count": null,
   "metadata": {
    "id": "6CoDEPqwAL1Z"
   },
   "outputs": [],
   "source": [
    "cl_1_med,_,cl_1_std,cl_1_med_rng = collect_stats(col_all_1)\n",
    "cl_2_med,_,cl_2_std,cl_2_med_rng = collect_stats(col_all_2)\n",
    "cl_3_med,_,cl_3_std,cl_3_med_rng = collect_stats(col_all_3)"
   ]
  },
  {
   "cell_type": "code",
   "execution_count": null,
   "metadata": {
    "id": "noTgJOZmCjLT"
   },
   "outputs": [],
   "source": [
    "rna_ind = []\n",
    "for ii in range(5000):\n",
    "    rna_ind.append(\"rna_ft\"+str(ii))"
   ]
  },
  {
   "cell_type": "code",
   "execution_count": null,
   "metadata": {
    "id": "4X51-JT9Su-E"
   },
   "outputs": [],
   "source": [
    "med_1_rng = pd.DataFrame(np.squeeze(cl_1_med_rng),index=rna_ind)\n",
    "med_2_rng = pd.DataFrame(np.squeeze(cl_2_med_rng),index=rna_ind)\n",
    "med_3_rng = pd.DataFrame(np.squeeze(cl_3_med_rng),index=rna_ind)\n",
    "\n",
    "med_1 = pd.DataFrame(np.squeeze(cl_1_med),index=rna_ind)\n",
    "med_2 = pd.DataFrame(np.squeeze(cl_2_med),index=rna_ind)\n",
    "med_3 = pd.DataFrame(np.squeeze(cl_3_med),index=rna_ind)"
   ]
  },
  {
   "cell_type": "code",
   "execution_count": null,
   "metadata": {
    "colab": {
     "base_uri": "https://localhost:8080/"
    },
    "executionInfo": {
     "elapsed": 16,
     "status": "ok",
     "timestamp": 1662418444911,
     "user": {
      "displayName": "Χρήστος Μανιάτης",
      "userId": "00852017530683764808"
     },
     "user_tz": -60
    },
    "id": "EH4Nv4sj9PsE",
    "outputId": "83c1b984-4419-492f-c8be-cbcb198907a3"
   },
   "outputs": [
    {
     "name": "stdout",
     "output_type": "stream",
     "text": [
      "                   0\n",
      "rna_ft995   1.779782\n",
      "rna_ft996   1.185104\n",
      "rna_ft997  -1.320733\n",
      "rna_ft998  -0.510202\n",
      "rna_ft999  -0.239261\n",
      "rna_ft1000 -0.194477\n",
      "rna_ft1001 -0.808072\n",
      "rna_ft1002  0.497438\n",
      "rna_ft1003 -0.750999\n",
      "                   0\n",
      "rna_ft995   0.219854\n",
      "rna_ft996   0.172709\n",
      "rna_ft997   0.147438\n",
      "rna_ft998   0.038668\n",
      "rna_ft999   0.419046\n",
      "rna_ft1000  0.050581\n",
      "rna_ft1001  0.259010\n",
      "rna_ft1002  0.088893\n",
      "rna_ft1003  0.192272\n"
     ]
    }
   ],
   "source": [
    "print(med_1.iloc[995:1004,:])\n",
    "print(med_1_rng.iloc[995:1004,:])"
   ]
  },
  {
   "cell_type": "code",
   "execution_count": null,
   "metadata": {
    "id": "uDcZQQtdTEHt"
   },
   "outputs": [],
   "source": [
    "'''med_1_rng.to_csv(Root_Folder+ data_parent_folder + \"/scMVI_DDLFC_meta/PBMC/med_1_rng_scMVI_PBMC_new.csv\",header=True,sep='\\t')\n",
    "med_2_rng.to_csv(Root_Folder+ data_parent_folder + \"/scMVI_DDLFC_meta/PBMC/med_2_rng_scMVI_PBMC_new.csv\",header=True,sep='\\t')\n",
    "med_3_rng.to_csv(Root_Folder+ data_parent_folder + \"/scMVI_DDLFC_meta/PBMC/med_3_rng_scMVI_PBMC_new.csv\",header=True,sep='\\t')\n",
    "\n",
    "med_1.to_csv(Root_Folder+ data_parent_folder + \"/scMVI_DDLFC_meta/PBMC/Diff_Dir_1_scMVI_PBMC_rna_new.csv\",header=True,sep='\\t')\n",
    "med_2.to_csv(Root_Folder+ data_parent_folder + \"/scMVI_DDLFC_meta/PBMC/Diff_Dir_2_scMVI_PBMC_rna_new.csv\",header=True,sep='\\t')\n",
    "med_3.to_csv(Root_Folder+ data_parent_folder + \"/scMVI_DDLFC_meta/PBMC/Diff_Dir_3_scMVI_PBMC_rna_new.csv\",header=True,sep='\\t')\n",
    "'''"
   ]
  }
 ],
 "metadata": {
  "accelerator": "GPU",
  "colab": {
   "collapsed_sections": [],
   "machine_shape": "hm",
   "provenance": []
  },
  "gpuClass": "standard",
  "kernelspec": {
   "display_name": "Python 3 (ipykernel)",
   "language": "python",
   "name": "python3"
  },
  "language_info": {
   "codemirror_mode": {
    "name": "ipython",
    "version": 3
   },
   "file_extension": ".py",
   "mimetype": "text/x-python",
   "name": "python",
   "nbconvert_exporter": "python",
   "pygments_lexer": "ipython3",
   "version": "3.9.5"
  }
 },
 "nbformat": 4,
 "nbformat_minor": 1
}
