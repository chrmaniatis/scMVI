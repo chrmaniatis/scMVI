{
 "cells": [
  {
   "cell_type": "code",
   "execution_count": null,
   "metadata": {
    "colab": {
     "base_uri": "https://localhost:8080/"
    },
    "executionInfo": {
     "elapsed": 1602,
     "status": "ok",
     "timestamp": 1659676960312,
     "user": {
      "displayName": "Χρήστος Μανιάτης",
      "userId": "00852017530683764808"
     },
     "user_tz": -60
    },
    "id": "59yF2N2lYMUy",
    "outputId": "86b61ad7-4dcd-4e05-9033-85bfe1493df9"
   },
   "outputs": [
    {
     "name": "stdout",
     "output_type": "stream",
     "text": [
      "Drive already mounted at /content/drive; to attempt to forcibly remount, call drive.mount(\"/content/drive\", force_remount=True).\n"
     ]
    }
   ],
   "source": [
    "from google.colab import drive\n",
    "drive.mount(\"/content/drive\")"
   ]
  },
  {
   "cell_type": "markdown",
   "metadata": {
    "id": "w-6EeUWBlHFC"
   },
   "source": [
    "Estimate gene expression coverage for the considered datasets"
   ]
  },
  {
   "cell_type": "code",
   "execution_count": null,
   "metadata": {
    "colab": {
     "base_uri": "https://localhost:8080/"
    },
    "executionInfo": {
     "elapsed": 12619,
     "status": "ok",
     "timestamp": 1659676972921,
     "user": {
      "displayName": "Χρήστος Μανιάτης",
      "userId": "00852017530683764808"
     },
     "user_tz": -60
    },
    "id": "pgt5NbdwYX0A",
    "outputId": "c477d802-6111-4713-c4d1-08f3a41fffac"
   },
   "outputs": [
    {
     "name": "stderr",
     "output_type": "stream",
     "text": [
      "/usr/local/lib/python3.7/dist-packages/IPython/core/interactiveshell.py:2882: FutureWarning: In a future version of pandas all arguments of read_csv except for the argument 'filepath_or_buffer' will be keyword-only\n",
      "  exec(code_obj, self.user_global_ns, self.user_ns)\n"
     ]
    }
   ],
   "source": [
    "from IPython import display\n",
    "import pandas as pd\n",
    "import numpy as np\n",
    "import datetime\n",
    "from matplotlib import pyplot as plt\n",
    "from matplotlib import colors\n",
    "from matplotlib.ticker import PercentFormatter\n",
    "from matplotlib import cm\n",
    "from matplotlib.colors import Normalize \n",
    "from tensorflow import keras\n",
    "import tensorflow as tf\n",
    "import scipy.stats as stats\n",
    "from tensorflow.keras import layers\n",
    "import tensorflow_probability as tfp\n",
    "from scipy.stats import gaussian_kde\n",
    "import sys\n",
    "\n",
    "#Load Data\n",
    "Root_Folder = \"/content/drive/MyDrive\" \n",
    "data = 'gastr'\n",
    "TypeOfdata =  'pbmc'\n",
    "data_parent_folder = \"/Data\"\n",
    "\n",
    "Rna_test_NMT_gastr = pd.read_csv(Root_Folder + data_parent_folder + \"/Data_Gastr/Rna_test_\" + data + \".csv\",\",\",index_col=[0])\n",
    "Rna_test_pbmc = pd.read_pickle(Root_Folder + data_parent_folder + \"/Data_ATAC/Rna_test_\" + TypeOfdata +\".pickle\")\n",
    "Rna_test_10X_gastr = pd.read_pickle(Root_Folder + data_parent_folder + \"/Data_ATAC/Rna_test_\"+data+\".pickle\")"
   ]
  },
  {
   "cell_type": "code",
   "execution_count": null,
   "metadata": {
    "id": "vZPZkXUoM83d"
   },
   "outputs": [],
   "source": [
    "Rna_test_NMT_gastr = tf.convert_to_tensor(Rna_test_NMT_gastr,dtype=tf.float32)\n",
    "Rna_test_pbmc = tf.convert_to_tensor(Rna_test_pbmc,dtype=tf.float32)\n",
    "Rna_test_10X_gastr = tf.convert_to_tensor(Rna_test_10X_gastr,dtype=tf.float32)"
   ]
  },
  {
   "cell_type": "code",
   "execution_count": null,
   "metadata": {
    "colab": {
     "base_uri": "https://localhost:8080/"
    },
    "executionInfo": {
     "elapsed": 238,
     "status": "ok",
     "timestamp": 1659677068965,
     "user": {
      "displayName": "Χρήστος Μανιάτης",
      "userId": "00852017530683764808"
     },
     "user_tz": -60
    },
    "id": "1zfCpjxabhf7",
    "outputId": "3ad1224f-bf9a-43e1-c4b2-20a66cb5dcf7"
   },
   "outputs": [
    {
     "name": "stdout",
     "output_type": "stream",
     "text": [
      "tf.Tensor(17032.41, shape=(), dtype=float32)\n",
      "tf.Tensor(649.2972, shape=(), dtype=float32)\n",
      "tf.Tensor(30127.95, shape=(), dtype=float32)\n"
     ]
    }
   ],
   "source": [
    "print(tf.reduce_mean(tf.reduce_sum(Rna_test_NMT_gastr,axis=0)))\n",
    "print(tf.reduce_mean(tf.reduce_sum(Rna_test_pbmc,axis=0)))\n",
    "print(tf.reduce_mean(tf.reduce_sum(Rna_test_10X_gastr,axis=0)))"
   ]
  },
  {
   "cell_type": "code",
   "execution_count": null,
   "metadata": {
    "colab": {
     "base_uri": "https://localhost:8080/"
    },
    "executionInfo": {
     "elapsed": 206,
     "status": "ok",
     "timestamp": 1659677241124,
     "user": {
      "displayName": "Χρήστος Μανιάτης",
      "userId": "00852017530683764808"
     },
     "user_tz": -60
    },
    "id": "rKWqe3fZbtmV",
    "outputId": "2f1b14a5-0316-4c73-b169-5991e5d09cfc"
   },
   "outputs": [
    {
     "name": "stdout",
     "output_type": "stream",
     "text": [
      "tf.Tensor(89.644264, shape=(), dtype=float32)\n",
      "tf.Tensor(0.21972832, shape=(), dtype=float32)\n",
      "tf.Tensor(1.9141011, shape=(), dtype=float32)\n"
     ]
    }
   ],
   "source": [
    "print(tf.reduce_mean(Rna_test_NMT_gastr))\n",
    "print(tf.reduce_mean(Rna_test_pbmc))\n",
    "print(tf.reduce_mean(Rna_test_10X_gastr))"
   ]
  }
 ],
 "metadata": {
  "colab": {
   "authorship_tag": "ABX9TyNS6l/HiNkmcbrv3O8QYr03",
   "collapsed_sections": [],
   "machine_shape": "hm",
   "provenance": []
  },
  "kernelspec": {
   "display_name": "Python 3 (ipykernel)",
   "language": "python",
   "name": "python3"
  },
  "language_info": {
   "codemirror_mode": {
    "name": "ipython",
    "version": 3
   },
   "file_extension": ".py",
   "mimetype": "text/x-python",
   "name": "python",
   "nbconvert_exporter": "python",
   "pygments_lexer": "ipython3",
   "version": "3.9.5"
  }
 },
 "nbformat": 4,
 "nbformat_minor": 1
}
