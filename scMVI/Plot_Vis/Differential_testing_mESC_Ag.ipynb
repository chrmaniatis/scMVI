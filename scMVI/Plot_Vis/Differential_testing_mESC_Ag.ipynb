{
 "cells": [
  {
   "cell_type": "code",
   "execution_count": null,
   "metadata": {
    "colab": {
     "base_uri": "https://localhost:8080/"
    },
    "executionInfo": {
     "elapsed": 1640,
     "status": "ok",
     "timestamp": 1662851240693,
     "user": {
      "displayName": "Χρήστος Μανιάτης",
      "userId": "00852017530683764808"
     },
     "user_tz": -60
    },
    "id": "59yF2N2lYMUy",
    "outputId": "c6a8a8db-c90b-45a2-ac4b-5ab3744264c8"
   },
   "outputs": [
    {
     "name": "stdout",
     "output_type": "stream",
     "text": [
      "Drive already mounted at /content/drive; to attempt to forcibly remount, call drive.mount(\"/content/drive\", force_remount=True).\n"
     ]
    }
   ],
   "source": [
    "from google.colab import drive\n",
    "drive.mount(\"/content/drive\")"
   ]
  },
  {
   "cell_type": "markdown",
   "metadata": {
    "id": "wzWZN67bmBpd"
   },
   "source": [
    "Differential Log Fold Change (LFC) for mESC_Ag data."
   ]
  },
  {
   "cell_type": "code",
   "execution_count": null,
   "metadata": {
    "id": "eDVq8j80YWSI"
   },
   "outputs": [],
   "source": [
    "%load_ext tensorboard"
   ]
  },
  {
   "cell_type": "code",
   "execution_count": null,
   "metadata": {
    "colab": {
     "base_uri": "https://localhost:8080/"
    },
    "executionInfo": {
     "elapsed": 5750,
     "status": "ok",
     "timestamp": 1662851246440,
     "user": {
      "displayName": "Χρήστος Μανιάτης",
      "userId": "00852017530683764808"
     },
     "user_tz": -60
    },
    "id": "pgt5NbdwYX0A",
    "outputId": "0e6849cd-4fc6-4a4f-e18a-92a9bc005264"
   },
   "outputs": [
    {
     "name": "stderr",
     "output_type": "stream",
     "text": [
      "/usr/local/lib/python3.7/dist-packages/IPython/core/interactiveshell.py:3326: FutureWarning: In a future version of pandas all arguments of read_csv except for the argument 'filepath_or_buffer' will be keyword-only\n",
      "  exec(code_obj, self.user_global_ns, self.user_ns)\n"
     ]
    }
   ],
   "source": [
    "from IPython import display\n",
    "import pandas as pd\n",
    "import numpy as np\n",
    "import datetime\n",
    "from matplotlib import pyplot as plt\n",
    "from matplotlib import colors\n",
    "from matplotlib.ticker import PercentFormatter\n",
    "import tensorflow as tf\n",
    "import tensorflow_probability as tfp\n",
    "import time\n",
    "import pickle\n",
    "import os\n",
    "\n",
    "#Load Data\n",
    "Root_Folder = \"/content/drive/MyDrive\"\n",
    "data = \"gastr\"\n",
    "data_parent_folder = \"/Data\"\n",
    "code_parent_folder = \"/scMVI\"\n",
    "\n",
    "os.chdir('/content/drive/My Drive/' + code_parent_folder +'/Code')\n",
    "\n",
    "Rna_train=pd.read_csv(Root_Folder + data_parent_folder + \"/Data_Gastr/Rna_train_\" + data + \".csv\",\",\")\n",
    "Rna_nrm_train=pd.read_csv(Root_Folder + data_parent_folder + \"/Data_Gastr/Rna_nrm_train_\" + data + \".csv\",\",\")\n",
    "\n",
    "Rna_test=pd.read_csv(Root_Folder + data_parent_folder + \"/Data_Gastr/Rna_test_\" + data + \".csv\",\",\")\n",
    "Rna_nrm_test=pd.read_csv(Root_Folder + data_parent_folder + \"/Data_Gastr/Rna_nrm_test_\" + data + \".csv\",\",\")"
   ]
  },
  {
   "cell_type": "code",
   "execution_count": null,
   "metadata": {
    "id": "t2WVJXUoVtXT"
   },
   "outputs": [],
   "source": [
    "MRna_train=Rna_train.drop(columns=Rna_train.columns[0])\n",
    "MRna_nrm_train=Rna_nrm_train.drop(columns=Rna_nrm_train.columns[0])\n",
    "\n",
    "MRna_test=Rna_test.drop(columns=Rna_test.columns[0])\n",
    "MRna_nrm_test=Rna_nrm_test.drop(columns=Rna_nrm_test.columns[0])"
   ]
  },
  {
   "cell_type": "code",
   "execution_count": null,
   "metadata": {
    "id": "x5JXbz48XKZC"
   },
   "outputs": [],
   "source": [
    "Rna = pd.concat([MRna_train,MRna_test],axis=0)"
   ]
  },
  {
   "cell_type": "code",
   "execution_count": null,
   "metadata": {
    "id": "kL18-HSGWii3"
   },
   "outputs": [],
   "source": [
    "Rna_tr=tf.convert_to_tensor(MRna_train,dtype=tf.float32)\n",
    "Rna_tst=tf.convert_to_tensor(MRna_test,dtype=tf.float32)\n",
    "Rna_nrm_tr = tf.repeat(tf.math.log(tf.convert_to_tensor(MRna_nrm_train,dtype=tf.float32)),repeats=Rna_tr.shape[1],axis=1)\n",
    "Rna_nrm_tst= tf.repeat(tf.math.log(tf.convert_to_tensor(MRna_nrm_test,dtype=tf.float32)),repeats=Rna_tr.shape[1],axis=1)"
   ]
  },
  {
   "cell_type": "code",
   "execution_count": null,
   "metadata": {
    "id": "R99xBEr8UjBq"
   },
   "outputs": [],
   "source": [
    "#Functions for estimating differential directions and stats for experiments outlined in the main chapter \n",
    "def index_creation(meta_data,group_by,group_1,smps_group_1,group_2,smps_group_2):\n",
    "\n",
    "\n",
    "                        cell_num = meta_data.shape[0]\n",
    "                        group_index_1 = np.zeros((cell_num,))\n",
    "                        group_index_2 = np.zeros((cell_num,))\n",
    "\n",
    "                        ind_1 = np.where(meta_data[group_by]==group_1)[0]\n",
    "                        ind_2 = np.where(meta_data[group_by]==group_2)[0]\n",
    "\n",
    "                        if np.logical_or(len(ind_1)<smps_group_1,len(ind_2)<smps_group_2):\n",
    "\n",
    "                                    raise ValueError('samples for groups 1 and 2 cannot be more than cells in groups 1 and 2')        \n",
    "\n",
    "\n",
    "\n",
    "                        perm_ind_1 = ind_1[np.random.permutation(len(ind_1))[:smps_group_1]]\n",
    "                        perm_ind_2 = ind_2[np.random.permutation(len(ind_2))[:smps_group_2]]\n",
    "\n",
    "                        group_index_1[perm_ind_1]=1\n",
    "                        group_index_2[perm_ind_2]=1\n",
    "\n",
    "                        group_index_1 = tf.squeeze(tf.where(group_index_1==1))\n",
    "                        group_index_2 = tf.squeeze(tf.where(group_index_2==1))\n",
    "\n",
    "                        return group_index_1, group_index_2\n",
    "\n",
    "def create_exp(metadata,grp_1,smps_1,grp_2,smps_2):\n",
    "\n",
    "        smps_group_1 =[smps_1,int(np.round(smps_1*0.2)),smps_1,int(np.round(smps_1*0.2)),int(np.round(smps_1*0.5)),int(np.round(smps_1*0.5)),int(np.round(smps_1*0.2))]\n",
    "        smps_group_2 =[smps_2,smps_2,int(np.round(smps_2*0.2)),int(np.round(smps_2*0.5)),int(np.round(smps_2*0.2)),int(np.round(smps_2*0.5)),int(np.round(smps_2*0.2))]\n",
    "\n",
    "        col_all_rna = []\n",
    "        eps=0.0001\n",
    "        for jj in range(5):\n",
    "\n",
    "\n",
    "              group_index_11,group_index_21 = index_creation(metadata,'stage',grp_1,smps_group_1[0],grp_2,smps_group_2[0])\n",
    "              group_index_12,group_index_22 = index_creation(metadata,'stage',grp_1,smps_group_1[1],grp_2,smps_group_2[1])\n",
    "              group_index_13,group_index_23 = index_creation(metadata,'stage',grp_1,smps_group_1[2],grp_2,smps_group_2[2])\n",
    "              group_index_14,group_index_24 = index_creation(metadata,'stage',grp_1,smps_group_1[3],grp_2,smps_group_2[3])\n",
    "              group_index_15,group_index_25 = index_creation(metadata,'stage',grp_1,smps_group_1[4],grp_2,smps_group_2[4])\n",
    "              group_index_16,group_index_26 = index_creation(metadata,'stage',grp_1,smps_group_1[5],grp_2,smps_group_2[5])\n",
    "              group_index_17,group_index_27 = index_creation(metadata,'stage',grp_1,smps_group_1[6],grp_2,smps_group_2[6])\n",
    "\n",
    "              a1_rna = tf.math.log(eps+tf.reduce_mean(tf.gather(xxxx,group_index_11),axis=0))-tf.math.log(eps+tf.reduce_mean(tf.gather(xxxx,group_index_21),axis=0))\n",
    "              a2_rna = tf.math.log(eps+tf.reduce_mean(tf.gather(xxxx,group_index_12),axis=0))-tf.math.log(eps+tf.reduce_mean(tf.gather(xxxx,group_index_22),axis=0))\n",
    "              a3_rna = tf.math.log(eps+tf.reduce_mean(tf.gather(xxxx,group_index_13),axis=0))-tf.math.log(eps+tf.reduce_mean(tf.gather(xxxx,group_index_23),axis=0))\n",
    "              a4_rna = tf.math.log(eps+tf.reduce_mean(tf.gather(xxxx,group_index_14),axis=0))-tf.math.log(eps+tf.reduce_mean(tf.gather(xxxx,group_index_24),axis=0))\n",
    "              a5_rna = tf.math.log(eps+tf.reduce_mean(tf.gather(xxxx,group_index_15),axis=0))-tf.math.log(eps+tf.reduce_mean(tf.gather(xxxx,group_index_25),axis=0))\n",
    "              a6_rna = tf.math.log(eps+tf.reduce_mean(tf.gather(xxxx,group_index_16),axis=0))-tf.math.log(eps+tf.reduce_mean(tf.gather(xxxx,group_index_26),axis=0))\n",
    "              a7_rna = tf.math.log(eps+tf.reduce_mean(tf.gather(xxxx,group_index_17),axis=0))-tf.math.log(eps+tf.reduce_mean(tf.gather(xxxx,group_index_27),axis=0))              \n",
    "\n",
    "\n",
    "              col_all_rna.append([a1_rna,a2_rna,a3_rna,a4_rna,a5_rna,a6_rna,a7_rna])\n",
    "\n",
    "              print(100*(1+jj)/5.0)\n",
    "\n",
    "\n",
    "        return col_all_rna\n",
    "\n",
    "def collect_stats(x):\n",
    "\n",
    "        x_med = tf.squeeze(x)\n",
    "        x_med_mn = tf.reduce_mean(tf.reduce_mean(x_med,axis=1),axis=0)[tf.newaxis,:]\n",
    "        x_med_std = tf.math.sqrt(tf.reduce_mean(tfp.stats.variance(x_med,sample_axis=1),axis=0))[tf.newaxis,:]\n",
    "\n",
    "        x_med_rng = tf.reduce_mean(tf.reduce_max(x_med,axis=1) -tf.reduce_min(x_med,axis=1),axis=0)[tf.newaxis,:]\n",
    "\n",
    "        return x_med_mn,x_med_std,x_med_rng"
   ]
  },
  {
   "cell_type": "code",
   "execution_count": null,
   "metadata": {
    "id": "VK9cgUSVVLV8"
   },
   "outputs": [],
   "source": [
    "Rna_comb = tf.concat([Rna_tr,Rna_tst],axis=0)\n",
    "Rna_nrm_comb = tf.concat([Rna_nrm_tr,Rna_nrm_tst],axis=0)\n",
    "\n",
    "xxxx = tf.divide(Rna_comb,tf.math.exp(Rna_nrm_comb))"
   ]
  },
  {
   "cell_type": "code",
   "execution_count": null,
   "metadata": {
    "id": "xj22nB7sWvD7"
   },
   "outputs": [],
   "source": [
    "#Load Metadata\n",
    "Rna = pd.concat([Rna_train,Rna_test],axis=0)\n",
    "\n",
    "gastr_ind_drp = [0,1,2,3,4,5,6,7,8,9]#8 \n",
    "gastr_QC = pd.read_csv(Root_Folder + data_parent_folder + \"/Data_Gastr/sample_metadata_gastr.csv\",'\\t',index_col=[0])\n",
    "\n",
    "\n",
    "gastr_QC = gastr_QC.drop(columns=gastr_QC.columns[gastr_ind_drp],axis=1)\n",
    "gastr_QC.index = gastr_QC.index.str.replace('-','.')\n",
    "\n",
    "gastr_QC = gastr_QC.loc[Rna.iloc[:,0]]\n",
    "\n",
    "gastr_ind_drp = [0,1,2,3,4,5,6,7,9,10]#8 \n",
    "gastr_QC1 = pd.read_csv(Root_Folder + data_parent_folder + \"/Data_Gastr/sample_metadata_gastr.csv\",'\\t',index_col=[0])\n",
    "\n",
    "\n",
    "gastr_QC1 = gastr_QC1.drop(columns=gastr_QC1.columns[gastr_ind_drp],axis=1)\n",
    "gastr_QC1.index = gastr_QC1.index.str.replace('-','.')\n",
    "\n",
    "gastr_QC1 = gastr_QC1.loc[Rna.iloc[:,0]]"
   ]
  },
  {
   "cell_type": "code",
   "execution_count": null,
   "metadata": {
    "colab": {
     "base_uri": "https://localhost:8080/"
    },
    "executionInfo": {
     "elapsed": 9,
     "status": "ok",
     "timestamp": 1662851247405,
     "user": {
      "displayName": "Χρήστος Μανιάτης",
      "userId": "00852017530683764808"
     },
     "user_tz": -60
    },
    "id": "HUpkdCELz1fL",
    "outputId": "5ed10a3a-0a64-4225-dc59-21a1ad9cd605"
   },
   "outputs": [
    {
     "name": "stdout",
     "output_type": "stream",
     "text": [
      "stage\n",
      "E7.5     343\n",
      "E6.5     271\n",
      "E5.5     108\n",
      "E4.5     104\n",
      "dtype: int64\n"
     ]
    }
   ],
   "source": [
    "print(gastr_QC1.value_counts())"
   ]
  },
  {
   "cell_type": "code",
   "execution_count": null,
   "metadata": {
    "colab": {
     "base_uri": "https://localhost:8080/"
    },
    "executionInfo": {
     "elapsed": 496,
     "status": "ok",
     "timestamp": 1662851327653,
     "user": {
      "displayName": "Χρήστος Μανιάτης",
      "userId": "00852017530683764808"
     },
     "user_tz": -60
    },
    "id": "LkPZLqeGXgQM",
    "outputId": "b91e7531-7ab3-4d7d-913e-993bdae7305d"
   },
   "outputs": [
    {
     "name": "stdout",
     "output_type": "stream",
     "text": [
      "20.0\n",
      "40.0\n",
      "60.0\n",
      "80.0\n",
      "100.0\n",
      "20.0\n",
      "40.0\n",
      "60.0\n",
      "80.0\n",
      "100.0\n",
      "20.0\n",
      "40.0\n",
      "60.0\n",
      "80.0\n",
      "100.0\n"
     ]
    }
   ],
   "source": [
    "#Estimates differential directions\n",
    "lab1 = \"E7.5\" #(343)\n",
    "smps_1 = 343\n",
    "lab2 = \"E6.5\" #(271)\n",
    "smps_2 = 271\n",
    "lab3 = \"E5.5\" #(108)\n",
    "smps_3 = 108\n",
    "lab4 = \"E4.5\" #(104)\n",
    "smps_4 = 104\n",
    "\n",
    "col_all_1_rna = create_exp(gastr_QC1,lab1,smps_1,lab2,smps_2) #col_all_1_met,col_all_1_acc,\n",
    "col_all_2_rna = create_exp(gastr_QC1,lab2,smps_2,lab3,smps_3) #col_all_2_met,col_all_2_acc,\n",
    "col_all_3_rna = create_exp(gastr_QC1,lab3,smps_3,lab4,smps_4) #col_all_3_met,col_all_3_acc,"
   ]
  },
  {
   "cell_type": "code",
   "execution_count": null,
   "metadata": {
    "id": "LfNWf5tyyq4K"
   },
   "outputs": [],
   "source": [
    "cl_1_med_rna,_,cl_1_med_rng_rna = collect_stats(col_all_1_rna)\n",
    "cl_2_med_rna,_,cl_2_med_rng_rna = collect_stats(col_all_2_rna)\n",
    "cl_3_med_rna,_,cl_3_med_rng_rna = collect_stats(col_all_3_rna)"
   ]
  },
  {
   "cell_type": "code",
   "execution_count": null,
   "metadata": {
    "id": "6hBtnU721J0H"
   },
   "outputs": [],
   "source": [
    "med_1_rna_rng = pd.DataFrame(np.squeeze(cl_1_med_rng_rna),index=Rna.columns[1:])\n",
    "med_2_rna_rng = pd.DataFrame(np.squeeze(cl_2_med_rng_rna),index=Rna.columns[1:])\n",
    "med_3_rna_rng= pd.DataFrame(np.squeeze(cl_2_med_rng_rna),index=Rna.columns[1:])\n",
    "\n",
    "med_1_rna = pd.DataFrame(np.squeeze(cl_1_med_rna),index=Rna.columns[1:])\n",
    "med_2_rna = pd.DataFrame(np.squeeze(cl_2_med_rna),index=Rna.columns[1:])\n",
    "med_3_rna = pd.DataFrame(np.squeeze(cl_3_med_rna),index=Rna.columns[1:])"
   ]
  },
  {
   "cell_type": "code",
   "execution_count": null,
   "metadata": {
    "id": "DKP3U_ggQSqM"
   },
   "outputs": [],
   "source": [
    "if os.path.isdir(Root_Folder + code_parent_folder + \"/scMVI_DDLFC_meta/mESC_NMT\") == False:\n",
    "      os.mkdir(Root_Folder + code_parent_folder + \"/scMVI_DDLFC_meta/mESC_NMT\")\n",
    "\n",
    "med_1_rna_rng.to_csv(Root_Folder + code_parent_folder + \"/scMVI_DDLFC_meta/mESC_NMT/med_1_rng_Differentia_Testing_rna.csv\",header=True,sep='\\t')\n",
    "med_2_rna_rng.to_csv(Root_Folder + code_parent_folder + \"/scMVI_DDLFC_meta/mESC_NMT/med_2_rng_Differentia_Testing_rna.csv\",header=True,sep='\\t')\n",
    "med_3_rna_rng.to_csv(Root_Folder + code_parent_folder +\"/scMVI_DDLFC_meta/mESC_NMT/med_3_rng_Differentia_Testing_rna.csv\",header=True,sep='\\t')\n",
    "\n",
    "med_1_rna.to_csv(Root_Folder + code_parent_folder + \"/scMVI_DDLFC_meta/mESC_NMT/Diff_Dir_1_Differentia_Testing_rna.csv\",header=True,sep='\\t')\n",
    "med_2_rna.to_csv(Root_Folder + code_parent_folder + \"/scMVI_DDLFC_meta/mESC_NMT/Diff_Dir_2_Differentia_Testing_rna.csv\",header=True,sep='\\t')\n",
    "med_3_rna.to_csv(Root_Folder + code_parent_folder + \"/scMVI_DDLFC_meta/mESC_NMT/Diff_Dir_3_Differentia_Testing_rna.csv\",header=True,sep='\\t')"
   ]
  }
 ],
 "metadata": {
  "colab": {
   "collapsed_sections": [],
   "machine_shape": "hm",
   "provenance": []
  },
  "gpuClass": "standard",
  "kernelspec": {
   "display_name": "Python 3 (ipykernel)",
   "language": "python",
   "name": "python3"
  },
  "language_info": {
   "codemirror_mode": {
    "name": "ipython",
    "version": 3
   },
   "file_extension": ".py",
   "mimetype": "text/x-python",
   "name": "python",
   "nbconvert_exporter": "python",
   "pygments_lexer": "ipython3",
   "version": "3.9.13"
  }
 },
 "nbformat": 4,
 "nbformat_minor": 1
}
