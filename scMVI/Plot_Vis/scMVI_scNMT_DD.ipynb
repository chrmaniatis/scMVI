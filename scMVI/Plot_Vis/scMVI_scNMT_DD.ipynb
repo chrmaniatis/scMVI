{
 "cells": [
  {
   "cell_type": "code",
   "execution_count": null,
   "metadata": {
    "colab": {
     "base_uri": "https://localhost:8080/"
    },
    "executionInfo": {
     "elapsed": 29355,
     "status": "ok",
     "timestamp": 1662414260851,
     "user": {
      "displayName": "Χρήστος Μανιάτης",
      "userId": "00852017530683764808"
     },
     "user_tz": -60
    },
    "id": "59yF2N2lYMUy",
    "outputId": "4185cab8-e162-4ab7-a0a3-9f01bfa53ef5"
   },
   "outputs": [
    {
     "name": "stdout",
     "output_type": "stream",
     "text": [
      "Mounted at /content/drive\n"
     ]
    }
   ],
   "source": [
    "from google.colab import drive\n",
    "drive.mount(\"/content/drive\")"
   ]
  },
  {
   "cell_type": "markdown",
   "metadata": {
    "id": "wzWZN67bmBpd"
   },
   "source": [
    "Differential directions for mESC_Ag data"
   ]
  },
  {
   "cell_type": "code",
   "execution_count": null,
   "metadata": {
    "id": "eDVq8j80YWSI"
   },
   "outputs": [],
   "source": [
    "%load_ext tensorboard"
   ]
  },
  {
   "cell_type": "code",
   "execution_count": null,
   "metadata": {
    "colab": {
     "base_uri": "https://localhost:8080/"
    },
    "executionInfo": {
     "elapsed": 12787,
     "status": "ok",
     "timestamp": 1662414273629,
     "user": {
      "displayName": "Χρήστος Μανιάτης",
      "userId": "00852017530683764808"
     },
     "user_tz": -60
    },
    "id": "pgt5NbdwYX0A",
    "outputId": "9dbe145f-5e00-4440-c1c0-d9bbf42d9427"
   },
   "outputs": [
    {
     "name": "stderr",
     "output_type": "stream",
     "text": [
      "/usr/local/lib/python3.7/dist-packages/IPython/core/interactiveshell.py:3326: FutureWarning: In a future version of pandas all arguments of read_csv except for the argument 'filepath_or_buffer' will be keyword-only\n",
      "  exec(code_obj, self.user_global_ns, self.user_ns)\n"
     ]
    }
   ],
   "source": [
    "from IPython import display\n",
    "import pandas as pd\n",
    "import numpy as np\n",
    "import datetime\n",
    "from matplotlib import pyplot as plt\n",
    "from matplotlib import colors\n",
    "from matplotlib.ticker import PercentFormatter\n",
    "#from tensorflow import keras\n",
    "import tensorflow as tf\n",
    "import tensorflow_probability as tfp\n",
    "import time\n",
    "import pickle\n",
    "import os\n",
    "\n",
    "#Load Data\n",
    "Root_Folder = \"/content/drive/MyDrive\"\n",
    "data = \"gastr\"\n",
    "data_parent_folder = \"/Data\"\n",
    "code_parent_folder = \"/scMVI\"\n",
    "\n",
    "os.chdir('/content/drive/My Drive/' + code_parent_folder +'/Code')\n",
    "\n",
    "Met_train=pd.read_csv(Root_Folder + data_parent_folder + \"/Data_Gastr/Met_train_\" + data + \".csv\",\",\")\n",
    "CpG_train=pd.read_csv(Root_Folder + data_parent_folder + \"/Data_Gastr/CpG_train_\" + data + \".csv\",\",\")\n",
    "Acc_train=pd.read_csv(Root_Folder + data_parent_folder + \"/Data_Gastr/Acc_train_\" + data + \".csv\",\",\")\n",
    "GpC_train=pd.read_csv(Root_Folder + data_parent_folder + \"/Data_Gastr/GpC_train_\" + data + \".csv\",\",\")\n",
    "Rna_train=pd.read_csv(Root_Folder + data_parent_folder + \"/Data_Gastr/Rna_train_\" + data + \".csv\",\",\")\n",
    "Rna_nrm_train=pd.read_csv(Root_Folder + data_parent_folder + \"/Data_Gastr/Rna_nrm_train_\" + data + \".csv\",\",\")\n",
    "\n",
    "Met_test=pd.read_csv(Root_Folder + data_parent_folder + \"/Data_Gastr/Met_test_\" + data + \".csv\",\",\")\n",
    "CpG_test=pd.read_csv(Root_Folder + data_parent_folder + \"/Data_Gastr/CpG_test_\" + data + \".csv\",\",\")\n",
    "Acc_test=pd.read_csv(Root_Folder + data_parent_folder + \"/Data_Gastr/Acc_test_\" + data + \".csv\",\",\")\n",
    "GpC_test=pd.read_csv(Root_Folder + data_parent_folder + \"/Data_Gastr/GpC_test_\" + data + \".csv\",\",\")\n",
    "Rna_test=pd.read_csv(Root_Folder + data_parent_folder + \"/Data_Gastr/Rna_test_\" + data + \".csv\",\",\")\n",
    "Rna_nrm_test=pd.read_csv(Root_Folder + data_parent_folder + \"/Data_Gastr/Rna_nrm_test_\" + data + \".csv\",\",\")"
   ]
  },
  {
   "cell_type": "code",
   "execution_count": null,
   "metadata": {
    "id": "x5JXbz48XKZC"
   },
   "outputs": [],
   "source": [
    "Rna = pd.concat([Rna_train,Rna_test],axis=0)"
   ]
  },
  {
   "cell_type": "code",
   "execution_count": null,
   "metadata": {
    "id": "t2WVJXUoVtXT"
   },
   "outputs": [],
   "source": [
    "MMet_train=Met_train.drop(columns=Met_train.columns[0])\n",
    "MCpG_train=CpG_train.drop(columns=CpG_train.columns[0])\n",
    "MAcc_train=Acc_train.drop(columns=Acc_train.columns[0])\n",
    "MGpC_train=GpC_train.drop(columns=GpC_train.columns[0])\n",
    "MRna_train=Rna_train.drop(columns=Rna_train.columns[0])\n",
    "MRna_nrm_train=Rna_nrm_train.drop(columns=Rna_nrm_train.columns[0])\n",
    "\n",
    "MMet_test=Met_test.drop(columns=Met_test.columns[0])\n",
    "MCpG_test=CpG_test.drop(columns=CpG_test.columns[0])\n",
    "MAcc_test=Acc_test.drop(columns=Acc_test.columns[0])\n",
    "MGpC_test=GpC_test.drop(columns=GpC_test.columns[0])\n",
    "MRna_test=Rna_test.drop(columns=Rna_test.columns[0])\n",
    "MRna_nrm_test=Rna_nrm_test.drop(columns=Rna_nrm_test.columns[0])"
   ]
  },
  {
   "cell_type": "code",
   "execution_count": null,
   "metadata": {
    "colab": {
     "base_uri": "https://localhost:8080/"
    },
    "executionInfo": {
     "elapsed": 11,
     "status": "ok",
     "timestamp": 1662414273633,
     "user": {
      "displayName": "Χρήστος Μανιάτης",
      "userId": "00852017530683764808"
     },
     "user_tz": -60
    },
    "id": "kL18-HSGWii3",
    "outputId": "b688c450-6fb3-4eed-907a-13fefb7e18f3"
   },
   "outputs": [
    {
     "name": "stdout",
     "output_type": "stream",
     "text": [
      "636\n",
      "190\n",
      "6330 6330 6330\n"
     ]
    }
   ],
   "source": [
    "Met_tr=tf.convert_to_tensor(MMet_train,dtype=tf.float32)\n",
    "Met_tst=tf.convert_to_tensor(MMet_test,dtype=tf.float32)\n",
    "CpG_tr=tf.convert_to_tensor(MCpG_train,dtype=tf.float32)\n",
    "CpG_tst=tf.convert_to_tensor(MCpG_test,dtype=tf.float32)\n",
    "Acc_tr=tf.convert_to_tensor(MAcc_train,dtype=tf.float32)\n",
    "Acc_tst=tf.convert_to_tensor(MAcc_test,dtype=tf.float32)\n",
    "GpC_tr=tf.convert_to_tensor(MGpC_train,dtype=tf.float32)\n",
    "GpC_tst=tf.convert_to_tensor(MGpC_test,dtype=tf.float32)\n",
    "Rna_tr=tf.convert_to_tensor(MRna_train,dtype=tf.float32)\n",
    "Rna_tst=tf.convert_to_tensor(MRna_test,dtype=tf.float32)\n",
    "Rna_nrm_tr = tf.repeat(tf.math.log(tf.convert_to_tensor(MRna_nrm_train,dtype=tf.float32)),repeats=Met_tr.shape[1],axis=1)\n",
    "Rna_nrm_tst= tf.repeat(tf.math.log(tf.convert_to_tensor(MRna_nrm_test,dtype=tf.float32)),repeats=Met_tr.shape[1],axis=1)\n",
    "\n",
    "training_size=Rna_tr.shape[0]\n",
    "test_size = Rna_tst.shape[0]\n",
    "batch_size =  10\n",
    "\n",
    "inp_met_sz = Met_tr.shape[1]\n",
    "inp_acc_sz = Acc_tr.shape[1]\n",
    "inp_rna_sz = Rna_tr.shape[1]\n",
    "\n",
    "print(training_size)\n",
    "print(test_size)\n",
    "print(inp_met_sz,inp_acc_sz,inp_rna_sz)"
   ]
  },
  {
   "cell_type": "code",
   "execution_count": null,
   "metadata": {
    "id": "pmIPH88sdoV_"
   },
   "outputs": [],
   "source": [
    "train_dataset = (tf.data.Dataset.from_tensor_slices((Met_tr,CpG_tr,Acc_tr,GpC_tr,Rna_tr,Rna_nrm_tr)).shuffle(training_size).batch(batch_size))\n",
    "val = tf.data.Dataset.from_tensor_slices((Met_tst,CpG_tst,Acc_tst,GpC_tst,Rna_tst,Rna_nrm_tst))\n",
    "val_data = tf.data.Dataset.zip((val,)).batch(test_size)"
   ]
  },
  {
   "cell_type": "code",
   "execution_count": null,
   "metadata": {
    "id": "1cB78RaxHfFz"
   },
   "outputs": [],
   "source": [
    "from Models import scMVI_NMT\n",
    "from Obj_Blocks import *"
   ]
  },
  {
   "cell_type": "code",
   "execution_count": null,
   "metadata": {
    "colab": {
     "base_uri": "https://localhost:8080/"
    },
    "executionInfo": {
     "elapsed": 2314,
     "status": "ok",
     "timestamp": 1662414301602,
     "user": {
      "displayName": "Χρήστος Μανιάτης",
      "userId": "00852017530683764808"
     },
     "user_tz": -60
    },
    "id": "ly933I8IdFS-",
    "outputId": "7ba8cca7-09af-4211-d8fe-30d5be6708a0"
   },
   "outputs": [
    {
     "data": {
      "text/plain": [
       "<tensorflow.python.training.tracking.util.CheckpointLoadStatus at 0x7f73d8b193d0>"
      ]
     },
     "execution_count": 12,
     "metadata": {},
     "output_type": "execute_result"
    }
   ],
   "source": [
    "#Define model and load weights for the trained model\n",
    "mdl = scMVI_NMT(inp_met_dim = inp_met_sz,inp_acc_dim=inp_acc_sz,inp_rna_dim=inp_rna_sz,intermidiate_dim=100,latent_dimensions=10)\n",
    "mdl.load_weights(Root_Folder + code_parent_folder + \"/Networks/scMVI_scNMT_\"+data+\"/scMVI_scNMT_\"+data)"
   ]
  },
  {
   "cell_type": "code",
   "execution_count": null,
   "metadata": {
    "id": "R99xBEr8UjBq"
   },
   "outputs": [],
   "source": [
    "#Functions for estimating differential directions and stats for experiments outlined in the main chapter \n",
    "def index_creation(meta_data,group_by,group_1,smps_group_1,group_2,smps_group_2):\n",
    "\n",
    "\n",
    "                        cell_num = meta_data.shape[0]\n",
    "                        group_index_1 = np.zeros((cell_num,))\n",
    "                        group_index_2 = np.zeros((cell_num,))\n",
    "\n",
    "                        ind_1 = np.where(meta_data[group_by]==group_1)[0]\n",
    "                        ind_2 = np.where(meta_data[group_by]==group_2)[0]\n",
    "\n",
    "                        if np.logical_or(len(ind_1)<smps_group_1,len(ind_2)<smps_group_2):\n",
    "\n",
    "                                    raise ValueError('samples for groups 1 and 2 cannot be more than cells in groups 1 and 2')        \n",
    "\n",
    "\n",
    "\n",
    "                        perm_ind_1 = ind_1[np.random.permutation(len(ind_1))[:smps_group_1]]\n",
    "                        perm_ind_2 = ind_2[np.random.permutation(len(ind_2))[:smps_group_2]]\n",
    "\n",
    "                        group_index_1[perm_ind_1]=1\n",
    "                        group_index_2[perm_ind_2]=1\n",
    "\n",
    "                        group_index_1 = tf.squeeze(tf.where(group_index_1==1))\n",
    "                        group_index_2 = tf.squeeze(tf.where(group_index_2==1))\n",
    "\n",
    "                        return group_index_1, group_index_2\n",
    "\n",
    "def create_exp(metadata,grp_1,smps_1,grp_2,smps_2):\n",
    "\n",
    "        smps_group_1 =[smps_1,int(np.round(smps_1*0.2)),smps_1,int(np.round(smps_1*0.2)),int(np.round(smps_1*0.5)),int(np.round(smps_1*0.5)),int(np.round(smps_1*0.2))]\n",
    "        smps_group_2 =[smps_2,smps_2,int(np.round(smps_2*0.2)),int(np.round(smps_2*0.5)),int(np.round(smps_2*0.2)),int(np.round(smps_2*0.5)),int(np.round(smps_2*0.2))]\n",
    "\n",
    "        col_all_met = []\n",
    "        col_all_acc = []\n",
    "        col_all_rna = []\n",
    "\n",
    "        for jj in range(5):\n",
    "\n",
    "\n",
    "              group_index_11,group_index_21 = index_creation(metadata,'stage',grp_1,smps_group_1[0],grp_2,smps_group_2[0])\n",
    "              group_index_12,group_index_22 = index_creation(metadata,'stage',grp_1,smps_group_1[1],grp_2,smps_group_2[1])\n",
    "              group_index_13,group_index_23 = index_creation(metadata,'stage',grp_1,smps_group_1[2],grp_2,smps_group_2[2])\n",
    "              group_index_14,group_index_24 = index_creation(metadata,'stage',grp_1,smps_group_1[3],grp_2,smps_group_2[3])\n",
    "              group_index_15,group_index_25 = index_creation(metadata,'stage',grp_1,smps_group_1[4],grp_2,smps_group_2[4])\n",
    "              group_index_16,group_index_26 = index_creation(metadata,'stage',grp_1,smps_group_1[5],grp_2,smps_group_2[5])\n",
    "              group_index_17,group_index_27 = index_creation(metadata,'stage',grp_1,smps_group_1[6],grp_2,smps_group_2[6])\n",
    "\n",
    "              a1_met,a1_acc,a1_rna = mdl.Diff_Dir_Dist_Avg(xxxx,group_index_11,group_index_21,'all')\n",
    "              a2_met,a2_acc,a2_rna = mdl.Diff_Dir_Dist_Avg(xxxx,group_index_12,group_index_22,'all')\n",
    "              a3_met,a3_acc,a3_rna = mdl.Diff_Dir_Dist_Avg(xxxx,group_index_13,group_index_23,'all')\n",
    "              a4_met,a4_acc,a4_rna = mdl.Diff_Dir_Dist_Avg(xxxx,group_index_14,group_index_24,'all')\n",
    "              a5_met,a5_acc,a5_rna = mdl.Diff_Dir_Dist_Avg(xxxx,group_index_15,group_index_25,'all')\n",
    "              a6_met,a6_acc,a6_rna = mdl.Diff_Dir_Dist_Avg(xxxx,group_index_16,group_index_26,'all')\n",
    "              a7_met,a7_acc,a7_rna = mdl.Diff_Dir_Dist_Avg(xxxx,group_index_17,group_index_27,'all')\n",
    "\n",
    "\n",
    "              col_all_met.append([a1_met,a2_met,a3_met,a4_met,a5_met,a6_met,a7_met])\n",
    "              col_all_acc.append([a1_acc,a2_acc,a3_acc,a4_acc,a5_acc,a6_acc,a7_acc])\n",
    "              col_all_rna.append([a1_rna,a2_rna,a3_rna,a4_rna,a5_rna,a6_rna,a7_rna])\n",
    "\n",
    "              print(100*(1+jj)/5.0)\n",
    "\n",
    "\n",
    "        return col_all_met,col_all_acc,col_all_rna\n",
    "\n",
    "def collect_stats(x):\n",
    "\n",
    "        x_med = tfp.stats.percentile(tf.squeeze(x),50,axis=2)\n",
    "        x_med_mn = tf.reduce_mean(tf.reduce_mean(x_med,axis=1),axis=0)[tf.newaxis,:]\n",
    "        x_med_std = tf.math.sqrt(tf.reduce_mean(tfp.stats.variance(x_med,sample_axis=1),axis=0))[tf.newaxis,:]\n",
    "        x_std = tf.math.sqrt(tf.reduce_mean(tfp.stats.variance(tf.squeeze(x),sample_axis=2),axis=0))\n",
    "\n",
    "        x_med_rng = tf.reduce_mean(tf.reduce_max(x_med,axis=1) -tf.reduce_min(x_med,axis=1),axis=0)[tf.newaxis,:]\n",
    "\n",
    "        return x_med_mn,x_med_std,x_std,x_med_rng\n"
   ]
  },
  {
   "cell_type": "code",
   "execution_count": null,
   "metadata": {
    "id": "VK9cgUSVVLV8"
   },
   "outputs": [],
   "source": [
    "Met_comb = tf.concat([Met_tr,Met_tst],axis=0)\n",
    "CpG_comb = tf.concat([CpG_tr,CpG_tst],axis=0)\n",
    "Acc_comb = tf.concat([Acc_tr,Acc_tst],axis=0)\n",
    "GpC_comb = tf.concat([GpC_tr,GpC_tst],axis=0)\n",
    "Rna_comb = tf.concat([Rna_tr,Rna_tst],axis=0)\n",
    "\n",
    "Rna_nrm_comb = tf.concat([Rna_nrm_tr,Rna_nrm_tst],axis=0)\n",
    "\n",
    "xxxx = [Met_comb,CpG_comb,Acc_comb,GpC_comb,Rna_comb,Rna_nrm_comb]"
   ]
  },
  {
   "cell_type": "code",
   "execution_count": null,
   "metadata": {
    "colab": {
     "base_uri": "https://localhost:8080/"
    },
    "executionInfo": {
     "elapsed": 367,
     "status": "ok",
     "timestamp": 1662415535746,
     "user": {
      "displayName": "Χρήστος Μανιάτης",
      "userId": "00852017530683764808"
     },
     "user_tz": -60
    },
    "id": "xj22nB7sWvD7",
    "outputId": "4c5db2a0-39e4-4ec9-d83f-acc2fb97d095"
   },
   "outputs": [
    {
     "name": "stderr",
     "output_type": "stream",
     "text": [
      "/usr/local/lib/python3.7/dist-packages/IPython/core/interactiveshell.py:3326: FutureWarning: In a future version of pandas all arguments of read_csv except for the argument 'filepath_or_buffer' will be keyword-only\n",
      "  exec(code_obj, self.user_global_ns, self.user_ns)\n"
     ]
    }
   ],
   "source": [
    "#Load Metadata\n",
    "Rna = pd.concat([Rna_train,Rna_test],axis=0)\n",
    "\n",
    "gastr_ind_drp = [0,1,2,3,4,5,6,7,8,9]#8 \n",
    "gastr_QC = pd.read_csv(Root_Folder + data_parent_folder + \"/Data_Gastr/sample_metadata_gastr.csv\",'\\t',index_col=[0])\n",
    "\n",
    "\n",
    "gastr_QC = gastr_QC.drop(columns=gastr_QC.columns[gastr_ind_drp],axis=1)\n",
    "gastr_QC.index = gastr_QC.index.str.replace('-','.')\n",
    "\n",
    "gastr_QC = gastr_QC.loc[Rna.iloc[:,0]]\n",
    "\n",
    "gastr_ind_drp = [0,1,2,3,4,5,6,7,9,10]#8 \n",
    "gastr_QC1 = pd.read_csv(Root_Folder + data_parent_folder + \"/Data_Gastr/sample_metadata_gastr.csv\",'\\t',index_col=[0])\n",
    "\n",
    "\n",
    "gastr_QC1 = gastr_QC1.drop(columns=gastr_QC1.columns[gastr_ind_drp],axis=1)\n",
    "gastr_QC1.index = gastr_QC1.index.str.replace('-','.')\n",
    "\n",
    "gastr_QC1 = gastr_QC1.loc[Rna.iloc[:,0]]"
   ]
  },
  {
   "cell_type": "code",
   "execution_count": null,
   "metadata": {
    "colab": {
     "base_uri": "https://localhost:8080/"
    },
    "executionInfo": {
     "elapsed": 319,
     "status": "ok",
     "timestamp": 1662415537774,
     "user": {
      "displayName": "Χρήστος Μανιάτης",
      "userId": "00852017530683764808"
     },
     "user_tz": -60
    },
    "id": "HUpkdCELz1fL",
    "outputId": "71242e64-e211-421d-9e34-86d343f49e51"
   },
   "outputs": [
    {
     "name": "stdout",
     "output_type": "stream",
     "text": [
      "stage\n",
      "E7.5     343\n",
      "E6.5     271\n",
      "E5.5     108\n",
      "E4.5     104\n",
      "dtype: int64\n"
     ]
    }
   ],
   "source": [
    "print(gastr_QC1.value_counts())"
   ]
  },
  {
   "cell_type": "code",
   "execution_count": null,
   "metadata": {
    "colab": {
     "base_uri": "https://localhost:8080/"
    },
    "executionInfo": {
     "elapsed": 42969,
     "status": "ok",
     "timestamp": 1662415582356,
     "user": {
      "displayName": "Χρήστος Μανιάτης",
      "userId": "00852017530683764808"
     },
     "user_tz": -60
    },
    "id": "LkPZLqeGXgQM",
    "outputId": "c1fa9ccd-59ef-4fc6-e804-7f2c3a6b9830"
   },
   "outputs": [
    {
     "name": "stdout",
     "output_type": "stream",
     "text": [
      "20.0\n",
      "40.0\n",
      "60.0\n",
      "80.0\n",
      "100.0\n",
      "20.0\n",
      "40.0\n",
      "60.0\n",
      "80.0\n",
      "100.0\n",
      "20.0\n",
      "40.0\n",
      "60.0\n",
      "80.0\n",
      "100.0\n"
     ]
    }
   ],
   "source": [
    "#Estimates differential directions\n",
    "lab1 = \"E7.5\" #(343)\n",
    "smps_1 = 343\n",
    "lab2 = \"E6.5\" #(271)\n",
    "smps_2 = 271\n",
    "lab3 = \"E5.5\" #(108)\n",
    "smps_3 = 108\n",
    "lab4 = \"E4.5\" #(104)\n",
    "smps_4 = 104\n",
    "\n",
    "col_all_1_met,col_all_1_acc,col_all_1_rna = create_exp(gastr_QC1,lab1,smps_1,lab2,smps_2)\n",
    "col_all_2_met,col_all_2_acc,col_all_2_rna = create_exp(gastr_QC1,lab2,smps_2,lab3,smps_3)\n",
    "col_all_3_met,col_all_3_acc,col_all_3_rna = create_exp(gastr_QC1,lab3,smps_3,lab4,smps_4)"
   ]
  },
  {
   "cell_type": "code",
   "execution_count": null,
   "metadata": {
    "id": "LfNWf5tyyq4K"
   },
   "outputs": [],
   "source": [
    "cl_1_med_met,_,_,cl_1_med_rng_met = collect_stats(col_all_1_met)\n",
    "cl_2_med_met,_,_,cl_2_med_rng_met = collect_stats(col_all_2_met)\n",
    "cl_3_med_met,_,_,cl_3_med_rng_met = collect_stats(col_all_3_met)\n",
    "\n",
    "cl_1_med_acc,_,_,cl_1_med_rng_acc = collect_stats(col_all_1_acc)\n",
    "cl_2_med_acc,_,_,cl_2_med_rng_acc = collect_stats(col_all_2_acc)\n",
    "cl_3_med_acc,_,_,cl_3_med_rng_acc = collect_stats(col_all_3_acc)\n",
    "\n",
    "cl_1_med_rna,_,_,cl_1_med_rng_rna = collect_stats(col_all_1_rna)\n",
    "cl_2_med_rna,_,_,cl_2_med_rng_rna = collect_stats(col_all_2_rna)\n",
    "cl_3_med_rna,_,_,cl_3_med_rng_rna = collect_stats(col_all_3_rna)"
   ]
  },
  {
   "cell_type": "code",
   "execution_count": null,
   "metadata": {
    "id": "6hBtnU721J0H"
   },
   "outputs": [],
   "source": [
    "med_1_rna_rng = pd.DataFrame(np.squeeze(cl_1_med_rng_rna),index=Rna.columns[1:])\n",
    "med_2_rna_rng = pd.DataFrame(np.squeeze(cl_2_med_rng_rna),index=Rna.columns[1:])\n",
    "med_3_rna_rng= pd.DataFrame(np.squeeze(cl_2_med_rng_rna),index=Rna.columns[1:])\n",
    "\n",
    "med_1_rna = pd.DataFrame(np.squeeze(cl_1_med_rna),index=Rna.columns[1:])\n",
    "med_2_rna = pd.DataFrame(np.squeeze(cl_2_med_rna),index=Rna.columns[1:])\n",
    "med_3_rna = pd.DataFrame(np.squeeze(cl_3_med_rna),index=Rna.columns[1:])\n",
    "\n",
    "med_1_met = pd.DataFrame(np.squeeze(cl_1_med_met),index=Rna.columns[1:])\n",
    "med_2_met = pd.DataFrame(np.squeeze(cl_2_med_met),index=Rna.columns[1:])\n",
    "med_3_met = pd.DataFrame(np.squeeze(cl_3_med_met),index=Rna.columns[1:])\n",
    "\n",
    "med_1_acc = pd.DataFrame(np.squeeze(cl_1_med_acc),index=Rna.columns[1:])\n",
    "med_2_acc = pd.DataFrame(np.squeeze(cl_2_med_acc),index=Rna.columns[1:])\n",
    "med_3_acc = pd.DataFrame(np.squeeze(cl_3_med_acc),index=Rna.columns[1:])"
   ]
  },
  {
   "cell_type": "code",
   "execution_count": null,
   "metadata": {
    "id": "DKP3U_ggQSqM"
   },
   "outputs": [],
   "source": [
    "#med_1_rna_rng.to_csv(Root_Folder + code_parent_folder + \"/scMVI_DDLFC_meta/med_1_rna_rng_scMVI.csv\",header=True,sep='\\t')\n",
    "#med_2_rna_rng.to_csv(Root_Folder + code_parent_folder + \"/scMVI_DDLFC_meta/med_2_rna_rng_scMVI.csv\",header=True,sep='\\t')\n",
    "#med_3_rna_rng.to_csv(Root_Folder + code_parent_folder +\"/scMVI_DDLFC_meta/med_3_rna_rng_scMVI.csv\",header=True,sep='\\t')\n",
    "\n",
    "#med_1_rna.to_csv(Root_Folder + code_parent_folder + \"/scMVI_DDLFC_meta/Diff_Dir_1_scMVI_all_rna.csv\",header=True,sep='\\t')\n",
    "#med_2_rna.to_csv(Root_Folder + code_parent_folder + \"/scMVI_DDLFC_meta/Diff_Dir_2_scMVI_all_rna.csv\",header=True,sep='\\t')\n",
    "#med_3_rna.to_csv(Root_Folder + code_parent_folder + \"/scMVI_DDLFC_meta/Diff_Dir_3_scMVI_all_rna.csv\",header=True,sep='\\t')\n",
    "\n",
    "#med_1_met.to_csv(Root_Folder + code_parent_folder + \"/scMVI_DDLFC_meta/Diff_Dir_1_scMVI_all_met.csv\",header=True,sep='\\t')\n",
    "#med_2_met.to_csv(Root_Folder + code_parent_folder + \"/scMVI_DDLFC_meta/Diff_Dir_2_scMVI_all_met.csv\",header=True,sep='\\t')\n",
    "#med_3_met.to_csv(Root_Folder + code_parent_folder + \"/scMVI_DDLFC_meta/Diff_Dir_3_scMVI_all_met.csv\",header=True,sep='\\t')\n",
    "\n",
    "#med_1_acc.to_csv(Root_Folder + code_parent_folder + \"/scMVI_DDLFC_meta/Diff_Dir_1_scMVI_all_acc.csv\",header=True,sep='\\t')\n",
    "#med_2_acc.to_csv(Root_Folder + code_parent_folder + \"/scMVI_DDLFC_meta/Diff_Dir_2_scMVI_all_acc.csv\",header=True,sep='\\t')"
   ]
  }
 ],
 "metadata": {
  "colab": {
   "collapsed_sections": [],
   "machine_shape": "hm",
   "provenance": []
  },
  "gpuClass": "standard",
  "kernelspec": {
   "display_name": "Python 3 (ipykernel)",
   "language": "python",
   "name": "python3"
  },
  "language_info": {
   "codemirror_mode": {
    "name": "ipython",
    "version": 3
   },
   "file_extension": ".py",
   "mimetype": "text/x-python",
   "name": "python",
   "nbconvert_exporter": "python",
   "pygments_lexer": "ipython3",
   "version": "3.9.5"
  }
 },
 "nbformat": 4,
 "nbformat_minor": 1
}
