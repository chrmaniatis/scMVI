{
 "cells": [
  {
   "cell_type": "code",
   "execution_count": null,
   "metadata": {
    "colab": {
     "base_uri": "https://localhost:8080/"
    },
    "executionInfo": {
     "elapsed": 1665,
     "status": "ok",
     "timestamp": 1662417049441,
     "user": {
      "displayName": "Χρήστος Μανιάτης",
      "userId": "00852017530683764808"
     },
     "user_tz": -60
    },
    "id": "59yF2N2lYMUy",
    "outputId": "900f4eaf-07c5-42b4-ee3e-052e1ec947e2"
   },
   "outputs": [
    {
     "name": "stdout",
     "output_type": "stream",
     "text": [
      "Drive already mounted at /content/drive; to attempt to forcibly remount, call drive.mount(\"/content/drive\", force_remount=True).\n"
     ]
    }
   ],
   "source": [
    "from google.colab import drive\n",
    "drive.mount(\"/content/drive\")"
   ]
  },
  {
   "cell_type": "markdown",
   "metadata": {
    "id": "9JglqwWBu8fK"
   },
   "source": [
    "Differential directions for mESC_Pj data"
   ]
  },
  {
   "cell_type": "code",
   "execution_count": null,
   "metadata": {
    "id": "pgt5NbdwYX0A"
   },
   "outputs": [],
   "source": [
    "from IPython import display\n",
    "import pandas as pd\n",
    "import numpy as np\n",
    "import datetime\n",
    "from matplotlib import pyplot as plt\n",
    "from matplotlib import colors\n",
    "from matplotlib.ticker import PercentFormatter\n",
    "from tensorflow import keras\n",
    "import tensorflow as tf\n",
    "from keras.callbacks import EarlyStopping\n",
    "import tensorflow_probability as tfp\n",
    "import time\n",
    "import pickle\n",
    "import os\n",
    "\n",
    "#Load Data\n",
    "Root_Folder = \"/content/drive/MyDrive\"\n",
    "data = 'gastr'\n",
    "tech = '10X'\n",
    "data_parent_folder = \"/Data\"\n",
    "code_parent_folder = \"/scMVI\"\n",
    "\n",
    "os.chdir('/content/drive/My Drive/' + code_parent_folder +'/Code')\n",
    "\n",
    "Rna_train = pd.read_pickle(Root_Folder + data_parent_folder + \"/Data_ATAC/Rna_train_\"+data+\".pickle\")\n",
    "Rna_nrm_train = pd.read_pickle(Root_Folder + data_parent_folder + \"/Data_ATAC/Nrm_rna_train_\"+data+\".pickle\")\n",
    "\n",
    "Rna_test = pd.read_pickle(Root_Folder + data_parent_folder + \"/Data_ATAC/Rna_test_\"+data+\".pickle\")\n",
    "Rna_nrm_test = pd.read_pickle(Root_Folder + data_parent_folder + \"/Data_ATAC/Nrm_rna_test_\"+data+\".pickle\")\n",
    "\n",
    "Rna = pd.concat([Rna_train,Rna_test],axis=0)"
   ]
  },
  {
   "cell_type": "code",
   "execution_count": null,
   "metadata": {
    "colab": {
     "base_uri": "https://localhost:8080/"
    },
    "executionInfo": {
     "elapsed": 2063,
     "status": "ok",
     "timestamp": 1662417061367,
     "user": {
      "displayName": "Χρήστος Μανιάτης",
      "userId": "00852017530683764808"
     },
     "user_tz": -60
    },
    "id": "t2WVJXUoVtXT",
    "outputId": "7ade6849-47b2-4fd2-ea5f-a9dccd075f25"
   },
   "outputs": [
    {
     "name": "stdout",
     "output_type": "stream",
     "text": [
      "36726\n",
      "6079\n"
     ]
    }
   ],
   "source": [
    "Rna_tr = tf.convert_to_tensor(Rna_train,dtype=tf.float32)\n",
    "Rna_tst = tf.convert_to_tensor(Rna_test,dtype=tf.float32)\n",
    "\n",
    "Rna_nrm_tr = tf.math.log(tf.convert_to_tensor(Rna_nrm_train,dtype=tf.float32))\n",
    "Rna_nrm_tst = tf.math.log(tf.convert_to_tensor(Rna_nrm_test,dtype=tf.float32))\n",
    "\n",
    "Rna_nrm_tr = tf.repeat(Rna_nrm_tr,repeats=Rna_tr.shape[1],axis=1)\n",
    "Rna_nrm_tst = tf.repeat(Rna_nrm_tst,repeats=Rna_tst.shape[1],axis=1)\n",
    "\n",
    "training_size=Rna_tr.shape[0]\n",
    "testing_size=Rna_tst.shape[0]\n",
    "batch_size =  10\n",
    "\n",
    "inp_rna_sz = Rna_tr.shape[1]\n",
    "\n",
    "print(training_size)\n",
    "print(inp_rna_sz)"
   ]
  },
  {
   "cell_type": "code",
   "execution_count": null,
   "metadata": {
    "id": "1cB78RaxHfFz"
   },
   "outputs": [],
   "source": [
    "from Models import scMVI_tp2\n",
    "from Obj_Blocks import *"
   ]
  },
  {
   "cell_type": "code",
   "execution_count": null,
   "metadata": {
    "colab": {
     "base_uri": "https://localhost:8080/"
    },
    "executionInfo": {
     "elapsed": 539,
     "status": "ok",
     "timestamp": 1662417061899,
     "user": {
      "displayName": "Χρήστος Μανιάτης",
      "userId": "00852017530683764808"
     },
     "user_tz": -60
    },
    "id": "ly933I8IdFS-",
    "outputId": "7f3bdc8e-88e7-4e1a-c071-a31f9c3c89ac"
   },
   "outputs": [
    {
     "data": {
      "text/plain": [
       "<tensorflow.python.training.tracking.util.CheckpointLoadStatus at 0x7f0ec767f050>"
      ]
     },
     "execution_count": 6,
     "metadata": {},
     "output_type": "execute_result"
    }
   ],
   "source": [
    "#Define model and load weights for the trained model\n",
    "mdl = scMVI_tp2(inp_tp2_dim=inp_rna_sz,intermidiate_dim=100,latent_dimensions=10)\n",
    "mdl.load_weights(Root_Folder + code_parent_folder + \"/Networks/scMVI_10X_\"+data+\"_rna/scMVI_10X_\"+data+\"_rna\")"
   ]
  },
  {
   "cell_type": "code",
   "execution_count": null,
   "metadata": {
    "id": "ryFDuzK5FPwY"
   },
   "outputs": [],
   "source": [
    "#Functions for estimating differential directions and stats for experiments outlined in the main chapter \n",
    "def index_creation(meta_data,group_by,group_1,smps_group_1,group_2,smps_group_2):\n",
    "\n",
    "\n",
    "                        cell_num = meta_data.shape[0]\n",
    "                        group_index_1 = np.zeros((cell_num,))\n",
    "                        group_index_2 = np.zeros((cell_num,))\n",
    "\n",
    "                        ind_1 = np.where(meta_data[group_by]==group_1)[0]\n",
    "                        ind_2 = np.where(meta_data[group_by]==group_2)[0]\n",
    "\n",
    "                        if np.logical_or(len(ind_1)<smps_group_1,len(ind_2)<smps_group_2):\n",
    "\n",
    "                                    raise ValueError('samples for groups 1 and 2 cannot be more than cells in groups 1 and 2')        \n",
    "\n",
    "\n",
    "\n",
    "                        perm_ind_1 = ind_1[np.random.permutation(len(ind_1))[:smps_group_1]]\n",
    "                        perm_ind_2 = ind_2[np.random.permutation(len(ind_2))[:smps_group_2]]\n",
    "\n",
    "                        group_index_1[perm_ind_1]=1\n",
    "                        group_index_2[perm_ind_2]=1\n",
    "\n",
    "                        group_index_1 = tf.squeeze(tf.where(group_index_1==1))\n",
    "                        group_index_2 = tf.squeeze(tf.where(group_index_2==1))\n",
    "\n",
    "                        return group_index_1, group_index_2\n",
    "\n",
    "def create_exp(metadata,grp_1,smps_1,grp_2,smps_2):\n",
    "\n",
    "        smps_group_1 =[smps_1,int(np.round(smps_1*0.2)),smps_1,int(np.round(smps_1*0.2)),int(np.round(smps_1*0.5)),int(np.round(smps_1*0.5)),int(np.round(smps_1*0.2))]\n",
    "        smps_group_2 =[smps_2,smps_2,int(np.round(smps_2*0.2)),int(np.round(smps_2*0.5)),int(np.round(smps_2*0.2)),int(np.round(smps_2*0.5)),int(np.round(smps_2*0.2))]\n",
    "\n",
    "        col_all_rna = []\n",
    "\n",
    "        for jj in range(5):\n",
    "\n",
    "\n",
    "              group_index_11,group_index_21 = index_creation(metadata,'stage',grp_1,smps_group_1[0],grp_2,smps_group_2[0])\n",
    "              group_index_12,group_index_22 = index_creation(metadata,'stage',grp_1,smps_group_1[1],grp_2,smps_group_2[1])\n",
    "              group_index_13,group_index_23 = index_creation(metadata,'stage',grp_1,smps_group_1[2],grp_2,smps_group_2[2])\n",
    "              group_index_14,group_index_24 = index_creation(metadata,'stage',grp_1,smps_group_1[3],grp_2,smps_group_2[3])\n",
    "              group_index_15,group_index_25 = index_creation(metadata,'stage',grp_1,smps_group_1[4],grp_2,smps_group_2[4])\n",
    "              group_index_16,group_index_26 = index_creation(metadata,'stage',grp_1,smps_group_1[5],grp_2,smps_group_2[5])\n",
    "              group_index_17,group_index_27 = index_creation(metadata,'stage',grp_1,smps_group_1[6],grp_2,smps_group_2[6])\n",
    "\n",
    "              a1_rna = mdl.Diff_Dir_Dist_Avg(xxxx,group_index_11,group_index_21,'all')\n",
    "              a2_rna = mdl.Diff_Dir_Dist_Avg(xxxx,group_index_12,group_index_22,'all')\n",
    "              a3_rna = mdl.Diff_Dir_Dist_Avg(xxxx,group_index_13,group_index_23,'all')\n",
    "              a4_rna = mdl.Diff_Dir_Dist_Avg(xxxx,group_index_14,group_index_24,'all')\n",
    "              a5_rna = mdl.Diff_Dir_Dist_Avg(xxxx,group_index_15,group_index_25,'all')\n",
    "              a6_rna = mdl.Diff_Dir_Dist_Avg(xxxx,group_index_16,group_index_26,'all')\n",
    "              a7_rna = mdl.Diff_Dir_Dist_Avg(xxxx,group_index_17,group_index_27,'all')\n",
    "\n",
    "              col_all_rna.append([a1_rna,a2_rna,a3_rna,a4_rna,a5_rna,a6_rna,a7_rna])\n",
    "\n",
    "              print(100*(1+jj)/5.0)\n",
    "\n",
    "\n",
    "        return col_all_rna\n",
    "\n",
    "def collect_stats(x):\n",
    "\n",
    "        x_med = tfp.stats.percentile(tf.squeeze(x),50,axis=2)\n",
    "        x_med_mn = tf.reduce_mean(tf.reduce_mean(x_med,axis=1),axis=0)[tf.newaxis,:]\n",
    "        x_med_std = tf.math.sqrt(tf.reduce_mean(tfp.stats.variance(x_med,sample_axis=1),axis=0))[tf.newaxis,:]\n",
    "        x_std = tf.math.sqrt(tf.reduce_mean(tfp.stats.variance(tf.squeeze(x),sample_axis=2),axis=0))\n",
    "\n",
    "        x_med_rng = tf.reduce_mean(tf.reduce_max(x_med,axis=1) -tf.reduce_min(x_med,axis=1),axis=0)[tf.newaxis,:]\n",
    "\n",
    "        return x_med_mn,x_med_std,x_std,x_med_rng\n"
   ]
  },
  {
   "cell_type": "code",
   "execution_count": null,
   "metadata": {
    "id": "E0PxZnopFoGE"
   },
   "outputs": [],
   "source": [
    "Rna_comb = tf.concat([Rna_tr,Rna_tst],axis=0)\n",
    "Rna_nrm_comb = tf.concat([Rna_nrm_tr,Rna_nrm_tst],axis=0)\n",
    "xxxx = [Rna_comb,Rna_nrm_comb]"
   ]
  },
  {
   "cell_type": "code",
   "execution_count": null,
   "metadata": {
    "colab": {
     "base_uri": "https://localhost:8080/"
    },
    "executionInfo": {
     "elapsed": 1320,
     "status": "ok",
     "timestamp": 1662417063215,
     "user": {
      "displayName": "Χρήστος Μανιάτης",
      "userId": "00852017530683764808"
     },
     "user_tz": -60
    },
    "id": "sXTQ2RZkF4g3",
    "outputId": "1a1f9bc2-374c-4876-cfcc-998ef70fa196"
   },
   "outputs": [
    {
     "name": "stderr",
     "output_type": "stream",
     "text": [
      "/usr/local/lib/python3.7/dist-packages/IPython/core/interactiveshell.py:3326: FutureWarning: In a future version of pandas all arguments of read_csv except for the argument 'filepath_or_buffer' will be keyword-only\n",
      "  exec(code_obj, self.user_global_ns, self.user_ns)\n"
     ]
    }
   ],
   "source": [
    "#Load Metadata\n",
    "if data == \"gastr\":\n",
    "      if tech == \"10X\":\n",
    "                  gastr_ind_drp = [0,1]\n",
    "                  gastr_10x_QC = pd.read_csv(Root_Folder  + data_parent_folder + \"/Data_ATAC/meta_10X_gastr.csv\",',',index_col=[0])\n",
    "                  gastr_10x_QC = gastr_10x_QC.drop(columns=gastr_10x_QC.columns[gastr_ind_drp],axis=1)\n",
    "\n",
    "                  gastr_10x_QC_train = gastr_10x_QC.loc[Rna_train.index]\n",
    "                  gastr_10x_QC_test = gastr_10x_QC.loc[Rna_test.index]\n",
    "\n",
    "                  gastr_ind_drp = [1,2]\n",
    "                  gastr_10x_QC1 = pd.read_csv(Root_Folder  + data_parent_folder + \"/Data_ATAC/meta_10X_gastr.csv\",',',index_col=[0])\n",
    "                  gastr_10x_QC1 = gastr_10x_QC1.drop(columns=gastr_10x_QC1.columns[gastr_ind_drp],axis=1)\n",
    "\n",
    "                  gastr_10x_QC1_train = gastr_10x_QC1.loc[Rna_train.index]\n",
    "                  gastr_10x_QC1_test = gastr_10x_QC1.loc[Rna_test.index]\n",
    "\n",
    "                  gastr_10x_QC_comb = pd.concat([gastr_10x_QC_train, gastr_10x_QC_test],axis=0)\n",
    "                  gastr_10x_QC1_comb = pd.concat([gastr_10x_QC1_train, gastr_10x_QC1_test],axis=0)\n",
    "\n",
    "\n",
    "                  ind_sub = np.asarray(np.random.permutation(52466),dtype=np.int32)\n",
    "                  gastr_10x_QC_comb = gastr_10x_QC_comb  \n",
    "                  gastr_10x_QC1_comb = gastr_10x_QC1_comb"
   ]
  },
  {
   "cell_type": "code",
   "execution_count": null,
   "metadata": {
    "colab": {
     "base_uri": "https://localhost:8080/"
    },
    "executionInfo": {
     "elapsed": 11547,
     "status": "ok",
     "timestamp": 1662417074755,
     "user": {
      "displayName": "Χρήστος Μανιάτης",
      "userId": "00852017530683764808"
     },
     "user_tz": -60
    },
    "id": "4pbICbqfGynX",
    "outputId": "94046495-7e87-48bb-a745-8c6732592259"
   },
   "outputs": [
    {
     "name": "stdout",
     "output_type": "stream",
     "text": [
      "20.0\n",
      "40.0\n",
      "60.0\n",
      "80.0\n",
      "100.0\n",
      "20.0\n",
      "40.0\n",
      "60.0\n",
      "80.0\n",
      "100.0\n",
      "20.0\n",
      "40.0\n",
      "60.0\n",
      "80.0\n",
      "100.0\n",
      "20.0\n",
      "40.0\n",
      "60.0\n",
      "80.0\n",
      "100.0\n",
      "20.0\n",
      "40.0\n",
      "60.0\n",
      "80.0\n",
      "100.0\n",
      "20.0\n",
      "40.0\n",
      "60.0\n",
      "80.0\n",
      "100.0\n"
     ]
    }
   ],
   "source": [
    "#Estimates differential directions\n",
    "lab1 = \"E8.5\" \n",
    "smps_1 = 4483\n",
    "lab2 = \"E8.0\" \n",
    "smps_2 = 6230\n",
    "lab3 = \"E7.75\" \n",
    "smps_3 = 17720\n",
    "lab4 = \"E7.5\" \n",
    "smps_4 = 12876\n",
    "lab5 = \"E7.0\" \n",
    "smps_5 = 5290\n",
    "lab6 = \"E6.75\" \n",
    "smps_6 = 2169\n",
    "lab7 = \"E6.5\" \n",
    "smps_7 = 3697\n",
    "\n",
    "col_all_1_rna = create_exp(gastr_10x_QC1_comb,lab1,smps_1,lab2,smps_2)\n",
    "col_all_2_rna = create_exp(gastr_10x_QC1_comb,lab2,smps_2,lab3,smps_3)\n",
    "col_all_3_rna = create_exp(gastr_10x_QC1_comb,lab3,smps_3,lab4,smps_4)\n",
    "col_all_4_rna = create_exp(gastr_10x_QC1_comb,lab4,smps_4,lab5,smps_5)\n",
    "col_all_5_rna = create_exp(gastr_10x_QC1_comb,lab5,smps_5,lab6,smps_6)\n",
    "col_all_6_rna = create_exp(gastr_10x_QC1_comb,lab6,smps_6,lab7,smps_7)"
   ]
  },
  {
   "cell_type": "code",
   "execution_count": null,
   "metadata": {
    "id": "poMlkujXHDAx"
   },
   "outputs": [],
   "source": [
    "cl_1_med_rna,_,_,x1 = collect_stats(col_all_1_rna)\n",
    "cl_2_med_rna,_,_,x2 = collect_stats(col_all_2_rna)\n",
    "cl_3_med_rna,_,_,x3 = collect_stats(col_all_3_rna)\n",
    "cl_4_med_rna,_,_,x4 = collect_stats(col_all_4_rna)\n",
    "cl_5_med_rna,_,_,x5 = collect_stats(col_all_5_rna)\n",
    "cl_6_med_rna,_,_,x6 = collect_stats(col_all_6_rna)"
   ]
  },
  {
   "cell_type": "code",
   "execution_count": null,
   "metadata": {
    "id": "dxIXKoogHFvZ"
   },
   "outputs": [],
   "source": [
    "med_1 = pd.DataFrame(np.squeeze(cl_1_med_rna),index=Rna.columns)\n",
    "med_2 = pd.DataFrame(np.squeeze(cl_2_med_rna),index=Rna.columns)\n",
    "med_3 = pd.DataFrame(np.squeeze(cl_3_med_rna),index=Rna.columns)\n",
    "med_4 = pd.DataFrame(np.squeeze(cl_4_med_rna),index=Rna.columns)\n",
    "med_5 = pd.DataFrame(np.squeeze(cl_5_med_rna),index=Rna.columns)\n",
    "med_6 = pd.DataFrame(np.squeeze(cl_6_med_rna),index=Rna.columns)\n",
    "\n",
    "med_1_rng = pd.DataFrame(np.squeeze(x1),index=Rna.columns)\n",
    "med_1_rng = pd.DataFrame(np.squeeze(x1),index=Rna.columns)\n",
    "med_2_rng = pd.DataFrame(np.squeeze(x2),index=Rna.columns)\n",
    "med_3_rng = pd.DataFrame(np.squeeze(x3),index=Rna.columns)\n",
    "med_4_rng = pd.DataFrame(np.squeeze(x4),index=Rna.columns)\n",
    "med_5_rng = pd.DataFrame(np.squeeze(x5),index=Rna.columns)\n",
    "med_6_rng = pd.DataFrame(np.squeeze(x6),index=Rna.columns)"
   ]
  },
  {
   "cell_type": "code",
   "execution_count": null,
   "metadata": {
    "colab": {
     "base_uri": "https://localhost:8080/",
     "height": 182
    },
    "executionInfo": {
     "elapsed": 8,
     "status": "ok",
     "timestamp": 1662417077208,
     "user": {
      "displayName": "Χρήστος Μανιάτης",
      "userId": "00852017530683764808"
     },
     "user_tz": -60
    },
    "id": "2SqxMZNzMyPS",
    "outputId": "7f69b34e-81ea-42b4-e172-52cb27833077"
   },
   "outputs": [
    {
     "data": {
      "application/vnd.google.colaboratory.intrinsic+json": {
       "type": "string"
      },
      "text/plain": [
       "'med_1_rng.to_csv(Root_Folder + data_parent_folder + \"/scMVI_DDLFC_meta/mESC_10X/med_1_rnd_scMVI_mESC_10X_rna.csv\",header=True,sep=\\'\\t\\')\\nmed_2_rng.to_csv(Root_Folder + data_parent_folder + \"/scMVI_DDLFC_meta/mESC_10X/med_2_rnd_scMVI_mESC_10X_rna.csv\",header=True,sep=\\'\\t\\')\\nmed_3_rng.to_csv(Root_Folder + data_parent_folder + \"/scMVI_DDLFC_meta/mESC_10X/med_3_rnd_scMVI_mESC_10X_rna.csv\",header=True,sep=\\'\\t\\')\\nmed_4_rng.to_csv(Root_Folder + data_parent_folder + \"/scMVI_DDLFC_meta/mESC_10X/med_4_rnd_scMVI_mESC_10X_rna.csv\",header=True,sep=\\'\\t\\')\\nmed_5_rng.to_csv(Root_Folder + data_parent_folder + \"/scMVI_DDLFC_meta/mESC_10X/med_5_rnd_scMVI_mESC_10X_rna.csv\",header=True,sep=\\'\\t\\')\\nmed_6_rng.to_csv(Root_Folder + data_parent_folder + \"/scMVI_DDLFC_meta/mESC_10X/med_6_rnd_scMVI_mESC_10X_rna.csv\",header=True,sep=\\'\\t\\')\\n\\nmed_1.to_csv(Root_Folder + data_parent_folder + \"/scMVI_DDLFC_meta/mESC_10X/Diff_Dir_1_scMVI_mESC_rna.csv\",header=True,sep=\\'\\t\\')\\nmed_2.to_csv(Root_Folder + data_parent_folder + \"/scMVI_DDLFC_meta/mESC_10X/Diff_Dir_2_scMVI_mESC_rna.csv\",header=True,sep=\\'\\t\\')\\nmed_3.to_csv(Root_Folder + data_parent_folder + \"/scMVI_DDLFC_meta/mESC_10X/Diff_Dir_3_scMVI_mESC_rna.csv\",header=True,sep=\\'\\t\\')\\nmed_4.to_csv(Root_Folder + data_parent_folder + \"/scMVI_DDLFC_meta/mESC_10X/Diff_Dir_4_scMVI_mESC_rna.csv\",header=True,sep=\\'\\t\\')\\nmed_5.to_csv(Root_Folder + data_parent_folder + \"/scMVI_DDLFC_meta/mESC_10X/Diff_Dir_5_scMVI_mESC_rna.csv\",header=True,sep=\\'\\t\\')\\nmed_6.to_csv(Root_Folder + data_parent_folder + \"/scMVI_DDLFC_meta/mESC_10X/Diff_Dir_6_scMVI_mESC_rna.csv\",header=True,sep=\\'\\t\\')'"
      ]
     },
     "execution_count": 13,
     "metadata": {},
     "output_type": "execute_result"
    }
   ],
   "source": [
    "'''med_1_rng.to_csv(Root_Folder + data_parent_folder + \"/scMVI_DDLFC_meta/mESC_10X/med_1_rnd_scMVI_mESC_10X_rna.csv\",header=True,sep='\\t')\n",
    "med_2_rng.to_csv(Root_Folder + data_parent_folder + \"/scMVI_DDLFC_meta/mESC_10X/med_2_rnd_scMVI_mESC_10X_rna.csv\",header=True,sep='\\t')\n",
    "med_3_rng.to_csv(Root_Folder + data_parent_folder + \"/scMVI_DDLFC_meta/mESC_10X/med_3_rnd_scMVI_mESC_10X_rna.csv\",header=True,sep='\\t')\n",
    "med_4_rng.to_csv(Root_Folder + data_parent_folder + \"/scMVI_DDLFC_meta/mESC_10X/med_4_rnd_scMVI_mESC_10X_rna.csv\",header=True,sep='\\t')\n",
    "med_5_rng.to_csv(Root_Folder + data_parent_folder + \"/scMVI_DDLFC_meta/mESC_10X/med_5_rnd_scMVI_mESC_10X_rna.csv\",header=True,sep='\\t')\n",
    "med_6_rng.to_csv(Root_Folder + data_parent_folder + \"/scMVI_DDLFC_meta/mESC_10X/med_6_rnd_scMVI_mESC_10X_rna.csv\",header=True,sep='\\t')\n",
    "\n",
    "med_1.to_csv(Root_Folder + data_parent_folder + \"/scMVI_DDLFC_meta/mESC_10X/Diff_Dir_1_scMVI_mESC_rna.csv\",header=True,sep='\\t')\n",
    "med_2.to_csv(Root_Folder + data_parent_folder + \"/scMVI_DDLFC_meta/mESC_10X/Diff_Dir_2_scMVI_mESC_rna.csv\",header=True,sep='\\t')\n",
    "med_3.to_csv(Root_Folder + data_parent_folder + \"/scMVI_DDLFC_meta/mESC_10X/Diff_Dir_3_scMVI_mESC_rna.csv\",header=True,sep='\\t')\n",
    "med_4.to_csv(Root_Folder + data_parent_folder + \"/scMVI_DDLFC_meta/mESC_10X/Diff_Dir_4_scMVI_mESC_rna.csv\",header=True,sep='\\t')\n",
    "med_5.to_csv(Root_Folder + data_parent_folder + \"/scMVI_DDLFC_meta/mESC_10X/Diff_Dir_5_scMVI_mESC_rna.csv\",header=True,sep='\\t')\n",
    "med_6.to_csv(Root_Folder + data_parent_folder + \"/scMVI_DDLFC_meta/mESC_10X/Diff_Dir_6_scMVI_mESC_rna.csv\",header=True,sep='\\t')'''"
   ]
  }
 ],
 "metadata": {
  "accelerator": "GPU",
  "colab": {
   "collapsed_sections": [],
   "machine_shape": "hm",
   "provenance": []
  },
  "gpuClass": "standard",
  "kernelspec": {
   "display_name": "Python 3 (ipykernel)",
   "language": "python",
   "name": "python3"
  },
  "language_info": {
   "codemirror_mode": {
    "name": "ipython",
    "version": 3
   },
   "file_extension": ".py",
   "mimetype": "text/x-python",
   "name": "python",
   "nbconvert_exporter": "python",
   "pygments_lexer": "ipython3",
   "version": "3.9.5"
  }
 },
 "nbformat": 4,
 "nbformat_minor": 1
}
