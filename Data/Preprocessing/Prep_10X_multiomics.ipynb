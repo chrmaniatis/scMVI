{
 "cells": [
  {
   "cell_type": "code",
   "execution_count": null,
   "metadata": {
    "colab": {
     "base_uri": "https://localhost:8080/"
    },
    "executionInfo": {
     "elapsed": 19987,
     "status": "ok",
     "timestamp": 1656965181001,
     "user": {
      "displayName": "Χρήστος Μανιάτης",
      "userId": "00852017530683764808"
     },
     "user_tz": -60
    },
    "id": "EHPvy_R0DH6T",
    "outputId": "9dfff0e3-ebeb-4980-a867-8897daee8198"
   },
   "outputs": [
    {
     "name": "stdout",
     "output_type": "stream",
     "text": [
      "Mounted at /content/drive\n"
     ]
    }
   ],
   "source": [
    "from google.colab import drive\n",
    "drive.mount(\"/content/drive\")"
   ]
  },
  {
   "cell_type": "markdown",
   "metadata": {},
   "source": [
    "File used for preprocessing of PBMC data."
   ]
  },
  {
   "cell_type": "code",
   "execution_count": null,
   "metadata": {
    "id": "ngmPD4BUiBed"
   },
   "outputs": [],
   "source": [
    "import pandas as pd\n",
    "import numpy as np\n",
    "import re\n",
    "from matplotlib import pyplot as plt\n",
    "from matplotlib import colors\n",
    "from matplotlib.ticker import PercentFormatter\n",
    "import scipy.io\n",
    "import scipy.sparse\n",
    "from sklearn.model_selection import train_test_split\n",
    "import os"
   ]
  },
  {
   "cell_type": "code",
   "execution_count": null,
   "metadata": {
    "id": "V0M6Gsy_P2h6"
   },
   "outputs": [],
   "source": [
    "Root_Folder = \"/content/drive/MyDrive\" \n",
    "data = 'pbmc'\n",
    "\n",
    "data_parent_folder = \"/Data\"\n"
   ]
  },
  {
   "cell_type": "code",
   "execution_count": null,
   "metadata": {
    "colab": {
     "base_uri": "https://localhost:8080/"
    },
    "executionInfo": {
     "elapsed": 30837,
     "status": "ok",
     "timestamp": 1656965212821,
     "user": {
      "displayName": "Χρήστος Μανιάτης",
      "userId": "00852017530683764808"
     },
     "user_tz": -60
    },
    "id": "S8rSrmEJKAfm",
    "outputId": "0ff23aea-a269-4a0d-baec-005b1d992066"
   },
   "outputs": [
    {
     "name": "stderr",
     "output_type": "stream",
     "text": [
      "/usr/local/lib/python3.7/dist-packages/IPython/core/interactiveshell.py:2882: FutureWarning: In a future version of pandas all arguments of read_csv except for the argument 'filepath_or_buffer' will be keyword-only\n",
      "  exec(code_obj, self.user_global_ns, self.user_ns)\n"
     ]
    }
   ],
   "source": [
    "Acc = pd.read_csv(Root_Folder + data_parent_folder + \"/Raw_Data_ATAC/Acc_10X_\"+ data +'.csv','\\t', header=[0])\n",
    "Rna = pd.read_csv(Root_Folder + data_parent_folder + \"/Raw_Data_ATAC/Rna_10X_\"+ data +'.csv','\\t', header=[0])"
   ]
  },
  {
   "cell_type": "code",
   "execution_count": null,
   "metadata": {
    "colab": {
     "base_uri": "https://localhost:8080/"
    },
    "executionInfo": {
     "elapsed": 286,
     "status": "ok",
     "timestamp": 1656965213089,
     "user": {
      "displayName": "Χρήστος Μανιάτης",
      "userId": "00852017530683764808"
     },
     "user_tz": -60
    },
    "id": "AxRLEDAaN5T_",
    "outputId": "f017d46b-bb53-487a-f0d8-b67aa60d6421"
   },
   "outputs": [
    {
     "name": "stderr",
     "output_type": "stream",
     "text": [
      "/usr/local/lib/python3.7/dist-packages/IPython/core/interactiveshell.py:2882: FutureWarning: In a future version of pandas all arguments of read_csv except for the argument 'filepath_or_buffer' will be keyword-only\n",
      "  exec(code_obj, self.user_global_ns, self.user_ns)\n"
     ]
    }
   ],
   "source": [
    "Nrm_rna = pd.read_csv(Root_Folder + data_parent_folder + \"/Raw_Data_ATAC/Rna_10X_\"+ data +'_nrm.csv','\\t', header=[0],index_col=[0])\n",
    "Nrm_acc = pd.read_csv(Root_Folder + data_parent_folder + \"/Raw_Data_ATAC/Acc_10X_\"+ data +'_nrm.csv','\\t', header=[0],index_col=[0])"
   ]
  },
  {
   "cell_type": "code",
   "execution_count": null,
   "metadata": {
    "id": "Xu9HssitKbMt"
   },
   "outputs": [],
   "source": [
    "Acc = Acc.T\n",
    "Rna = Rna.T"
   ]
  },
  {
   "cell_type": "code",
   "execution_count": null,
   "metadata": {
    "id": "JQkEw199NviF"
   },
   "outputs": [],
   "source": [
    "all_cells = Acc.index\n",
    "train_cells, test_cells = train_test_split(all_cells, test_size=0.3,shuffle=True)"
   ]
  },
  {
   "cell_type": "code",
   "execution_count": null,
   "metadata": {
    "id": "YfmoshqeOQoj"
   },
   "outputs": [],
   "source": [
    "Acc_train = Acc.loc[train_cells,:]\n",
    "Acc_test = Acc.loc[test_cells,:]\n",
    "\n",
    "Rna_train = Rna.loc[train_cells,:]\n",
    "Rna_test = Rna.loc[test_cells,:]\n",
    "\n",
    "Nrm_acc_train = Nrm_acc.loc[train_cells,:]\n",
    "Nrm_rna_train = Nrm_rna.loc[train_cells,:]\n",
    "\n",
    "Nrm_acc_test = Nrm_acc.loc[test_cells,:]\n",
    "Nrm_rna_test = Nrm_rna.loc[test_cells,:]"
   ]
  },
  {
   "cell_type": "code",
   "execution_count": null,
   "metadata": {
    "colab": {
     "base_uri": "https://localhost:8080/"
    },
    "executionInfo": {
     "elapsed": 229,
     "status": "ok",
     "timestamp": 1656965317875,
     "user": {
      "displayName": "Χρήστος Μανιάτης",
      "userId": "00852017530683764808"
     },
     "user_tz": -60
    },
    "id": "J7vn0yaP1C6o",
    "outputId": "3bbedc7a-dc4c-450d-d649-8712712cf58a"
   },
   "outputs": [
    {
     "name": "stdout",
     "output_type": "stream",
     "text": [
      "                    0     1     2     3     4     5     6     7     8     \\\n",
      "GCTTACCTCCTAAGTA-1     0     0     0     1     0     0     0     2     0   \n",
      "TACAGGTTCCCGTTGT-1     0     0     0     1     0     0     0     0     1   \n",
      "GCAATGAAGATTGAGG-1     0     0     0     0     0     0     0     0     0   \n",
      "CTTATGTTCTAGCGTG-1     0     0     1     0     0     0     0     0     0   \n",
      "AGTGAGTCAATATACC-1     0     0     1     0     0     0     0     0     0   \n",
      "...                  ...   ...   ...   ...   ...   ...   ...   ...   ...   \n",
      "AGCGGATAGCAAGGAC-1     0     0     0     0     0     0     0     0     0   \n",
      "CAGGACACATTGACAT-1     0     0     1     0     0     1     0     0     0   \n",
      "GTCTCACTCTTTGTAC-1     0     0     0     0     0     0     0     0     0   \n",
      "TACGGATTCCATTACT-1     0     0     1     0     0     0     0     0     0   \n",
      "CCCTCATAGTTCCCAC-1     0     0     0     0     0     2     0     0     0   \n",
      "\n",
      "                    9     ...  4990  4991  4992  4993  4994  4995  4996  4997  \\\n",
      "GCTTACCTCCTAAGTA-1     0  ...     0     0     0     0     0     0     0     0   \n",
      "TACAGGTTCCCGTTGT-1     0  ...     0     0     0     0     0     0     0     0   \n",
      "GCAATGAAGATTGAGG-1     0  ...     0     0     0     0     0     0     0     0   \n",
      "CTTATGTTCTAGCGTG-1     0  ...     0     0     0     0     0     0     0     0   \n",
      "AGTGAGTCAATATACC-1     0  ...     0     0     0     0     0     0     0     0   \n",
      "...                  ...  ...   ...   ...   ...   ...   ...   ...   ...   ...   \n",
      "AGCGGATAGCAAGGAC-1     0  ...     0     0     0     0     0     0     0     0   \n",
      "CAGGACACATTGACAT-1     0  ...     0     0     0     0     0     0     0     0   \n",
      "GTCTCACTCTTTGTAC-1     0  ...     0     0     0     0     0     0     0     0   \n",
      "TACGGATTCCATTACT-1     0  ...     0     0     0     0     0     0     0     0   \n",
      "CCCTCATAGTTCCCAC-1     0  ...     0     0     0     0     0     0     0     0   \n",
      "\n",
      "                    4998  4999  \n",
      "GCTTACCTCCTAAGTA-1     0     0  \n",
      "TACAGGTTCCCGTTGT-1     0     0  \n",
      "GCAATGAAGATTGAGG-1     0     0  \n",
      "CTTATGTTCTAGCGTG-1     0     0  \n",
      "AGTGAGTCAATATACC-1     0     0  \n",
      "...                  ...   ...  \n",
      "AGCGGATAGCAAGGAC-1     0     0  \n",
      "CAGGACACATTGACAT-1     0     0  \n",
      "GTCTCACTCTTTGTAC-1     0     0  \n",
      "TACGGATTCCATTACT-1     0     0  \n",
      "CCCTCATAGTTCCCAC-1     0     0  \n",
      "\n",
      "[6895 rows x 5000 columns]\n"
     ]
    }
   ],
   "source": [
    "print(Rna_train)"
   ]
  },
  {
   "cell_type": "code",
   "execution_count": null,
   "metadata": {
    "id": "inZs9Kji9O82"
   },
   "outputs": [],
   "source": [
    "if os.path.isdir(Root_Folder + data_parent_folder + \"/Data_ATAC\") == False:\n",
    "        os.mkdir(Root_Folder + data_parent_folder + \"/Data_ATAC\")\n",
    "\n",
    "Rna_train.to_pickle(Root_Folder + data_parent_folder + \"/Data_ATAC/Rna_train_\"+ data +'.pickle')\n",
    "Rna_test.to_pickle(Root_Folder + data_parent_folder + \"/Data_ATAC/Rna_test_\"+ data +'.pickle')\n",
    "\n",
    "Acc_train.to_pickle(Root_Folder + data_parent_folder + \"/Data_ATAC/Acc_train_\"+ data +'.pickle')\n",
    "Acc_test.to_pickle(Root_Folder + data_parent_folder + \"/Data_ATAC/Acc_test_\"+ data +'.pickle')\n",
    "\n",
    "Nrm_acc_train.to_pickle(Root_Folder + data_parent_folder + \"/Data_ATAC/Nrm_acc_train_\"+ data +'.pickle')\n",
    "Nrm_acc_test.to_pickle(Root_Folder + data_parent_folder + \"/Data_ATAC/Nrm_acc_test_\"+ data +'.pickle')\n",
    "\n",
    "Nrm_rna_train.to_pickle(Root_Folder + data_parent_folder + \"/Data_ATAC/Nrm_rna_train_\"+ data +'.pickle')\n",
    "Nrm_rna_test.to_pickle(Root_Folder + data_parent_folder + \"/Data_ATAC/Nrm_rna_test_\"+ data +'.pickle')"
   ]
  }
 ],
 "metadata": {
  "colab": {
   "authorship_tag": "ABX9TyOLGjz8uNlAsVsrER3umgCO",
   "collapsed_sections": [],
   "provenance": []
  },
  "kernelspec": {
   "display_name": "Python 3 (ipykernel)",
   "language": "python",
   "name": "python3"
  },
  "language_info": {
   "codemirror_mode": {
    "name": "ipython",
    "version": 3
   },
   "file_extension": ".py",
   "mimetype": "text/x-python",
   "name": "python",
   "nbconvert_exporter": "python",
   "pygments_lexer": "ipython3",
   "version": "3.9.5"
  }
 },
 "nbformat": 4,
 "nbformat_minor": 1
}
