{
 "cells": [
  {
   "cell_type": "code",
   "execution_count": null,
   "metadata": {
    "colab": {
     "base_uri": "https://localhost:8080/"
    },
    "executionInfo": {
     "elapsed": 20808,
     "status": "ok",
     "timestamp": 1647660852581,
     "user": {
      "displayName": "Χρήστος Μανιάτης",
      "photoUrl": "https://lh3.googleusercontent.com/a/default-user=s64",
      "userId": "00852017530683764808"
     },
     "user_tz": 0
    },
    "id": "EHPvy_R0DH6T",
    "outputId": "319a03c1-2601-4500-b4d3-aee65d9c4975"
   },
   "outputs": [
    {
     "name": "stdout",
     "output_type": "stream",
     "text": [
      "Mounted at /content/drive\n"
     ]
    }
   ],
   "source": [
    "from google.colab import drive\n",
    "drive.mount(\"/content/drive\")"
   ]
  },
  {
   "cell_type": "markdown",
   "metadata": {},
   "source": [
    "File used for preprocessing of mESC_Pj data."
   ]
  },
  {
   "cell_type": "code",
   "execution_count": null,
   "metadata": {
    "id": "ngmPD4BUiBed"
   },
   "outputs": [],
   "source": [
    "import pandas as pd\n",
    "import numpy as np\n",
    "import re\n",
    "from matplotlib import pyplot as plt\n",
    "from matplotlib import colors\n",
    "from matplotlib.ticker import PercentFormatter\n",
    "import scipy.io\n",
    "import scipy.sparse\n",
    "from sklearn.model_selection import train_test_split\n",
    "import os"
   ]
  },
  {
   "cell_type": "code",
   "execution_count": null,
   "metadata": {
    "id": "V0M6Gsy_P2h6"
   },
   "outputs": [],
   "source": [
    "Root_Folder = \"/content/drive/MyDrive\" \n",
    "data = 'gastr'\n",
    "data_parent_folder = \"/Data\""
   ]
  },
  {
   "cell_type": "code",
   "execution_count": null,
   "metadata": {
    "colab": {
     "base_uri": "https://localhost:8080/"
    },
    "executionInfo": {
     "elapsed": 298002,
     "status": "ok",
     "timestamp": 1647661151488,
     "user": {
      "displayName": "Χρήστος Μανιάτης",
      "photoUrl": "https://lh3.googleusercontent.com/a/default-user=s64",
      "userId": "00852017530683764808"
     },
     "user_tz": 0
    },
    "id": "S8rSrmEJKAfm",
    "outputId": "a71c5130-e059-418d-e30d-fcd4940079db"
   },
   "outputs": [
    {
     "name": "stderr",
     "output_type": "stream",
     "text": [
      "/usr/local/lib/python3.7/dist-packages/IPython/core/interactiveshell.py:2882: FutureWarning: In a future version of pandas all arguments of read_csv except for the argument 'filepath_or_buffer' will be keyword-only\n",
      "  exec(code_obj, self.user_global_ns, self.user_ns)\n"
     ]
    }
   ],
   "source": [
    "Rna = pd.read_csv(Root_Folder + data_parent_folder + \"/Raw_Data_ATAC/Rna_10X_\"+ data +'.csv','\\t', header=[0],index_col=[0])\n",
    "Rna = Rna.sort_index(axis=0)"
   ]
  },
  {
   "cell_type": "code",
   "execution_count": null,
   "metadata": {
    "colab": {
     "base_uri": "https://localhost:8080/"
    },
    "executionInfo": {
     "elapsed": 479,
     "status": "ok",
     "timestamp": 1647661151936,
     "user": {
      "displayName": "Χρήστος Μανιάτης",
      "photoUrl": "https://lh3.googleusercontent.com/a/default-user=s64",
      "userId": "00852017530683764808"
     },
     "user_tz": 0
    },
    "id": "AxRLEDAaN5T_",
    "outputId": "d309a543-5613-42aa-c7b9-5fb6cd2438f4"
   },
   "outputs": [
    {
     "name": "stderr",
     "output_type": "stream",
     "text": [
      "/usr/local/lib/python3.7/dist-packages/IPython/core/interactiveshell.py:2882: FutureWarning: In a future version of pandas all arguments of read_csv except for the argument 'filepath_or_buffer' will be keyword-only\n",
      "  exec(code_obj, self.user_global_ns, self.user_ns)\n"
     ]
    }
   ],
   "source": [
    "Nrm_rna = pd.read_csv(Root_Folder + data_parent_folder + \"/Raw_Data_ATAC/Rna_10X_\"+ data +'_nrm.csv','\\t', header=[0],index_col=[0])"
   ]
  },
  {
   "cell_type": "code",
   "execution_count": null,
   "metadata": {
    "id": "Xu9HssitKbMt"
   },
   "outputs": [],
   "source": [
    "Rna = Rna.T"
   ]
  },
  {
   "cell_type": "code",
   "execution_count": null,
   "metadata": {
    "id": "JQkEw199NviF"
   },
   "outputs": [],
   "source": [
    "all_cells = Rna.index\n",
    "train_cells, test_cells = train_test_split(all_cells, test_size=0.3,shuffle=True)"
   ]
  },
  {
   "cell_type": "code",
   "execution_count": null,
   "metadata": {
    "id": "YfmoshqeOQoj"
   },
   "outputs": [],
   "source": [
    "Rna_train = Rna.loc[train_cells,:]\n",
    "Rna_test = Rna.loc[test_cells,:]\n",
    "\n",
    "Nrm_rna_train = Nrm_rna.loc[train_cells,:]\n",
    "Nrm_rna_test = Nrm_rna.loc[test_cells,:]"
   ]
  },
  {
   "cell_type": "code",
   "execution_count": null,
   "metadata": {
    "id": "inZs9Kji9O82"
   },
   "outputs": [],
   "source": [
    "if os.path.isdir(Root_Folder + data_parent_folder + \"/Data_ATAC\") == False:\n",
    "        os.mkdir(Root_Folder + data_parent_folder + \"/Data_ATAC\")\n",
    "\n",
    "Rna_train.to_pickle(Root_Folder + data_parent_folder + \"/Data_ATAC/Rna_train_\"+ data +'.pickle')\n",
    "Rna_test.to_pickle(Root_Folder + data_parent_folder + \"/Data_ATAC/Rna_test_\"+ data +'.pickle')\n",
    "\n",
    "Nrm_rna_train.to_pickle(Root_Folder + data_parent_folder + \"/Data_ATAC/Nrm_rna_train_\"+ data +'.pickle')\n",
    "Nrm_rna_test.to_pickle(Root_Folder + data_parent_folder + \"/Data_ATAC/Nrm_rna_test_\"+ data +'.pickle')"
   ]
  }
 ],
 "metadata": {
  "colab": {
   "authorship_tag": "ABX9TyO0Y2ypcfK3aBVvCgSGjJsx",
   "collapsed_sections": [],
   "machine_shape": "hm",
   "provenance": []
  },
  "kernelspec": {
   "display_name": "Python 3 (ipykernel)",
   "language": "python",
   "name": "python3"
  },
  "language_info": {
   "codemirror_mode": {
    "name": "ipython",
    "version": 3
   },
   "file_extension": ".py",
   "mimetype": "text/x-python",
   "name": "python",
   "nbconvert_exporter": "python",
   "pygments_lexer": "ipython3",
   "version": "3.9.5"
  }
 },
 "nbformat": 4,
 "nbformat_minor": 1
}
