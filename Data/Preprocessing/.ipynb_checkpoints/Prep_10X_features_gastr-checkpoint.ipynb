{
 "cells": [
  {
   "cell_type": "code",
   "execution_count": null,
   "metadata": {
    "colab": {
     "base_uri": "https://localhost:8080/"
    },
    "executionInfo": {
     "elapsed": 2091,
     "status": "ok",
     "timestamp": 1647658251793,
     "user": {
      "displayName": "Χρήστος Μανιάτης",
      "photoUrl": "https://lh3.googleusercontent.com/a/default-user=s64",
      "userId": "00852017530683764808"
     },
     "user_tz": 0
    },
    "id": "EHPvy_R0DH6T",
    "outputId": "3612e299-5968-4dca-9d4a-362f302facc3"
   },
   "outputs": [
    {
     "name": "stdout",
     "output_type": "stream",
     "text": [
      "Drive already mounted at /content/drive; to attempt to forcibly remount, call drive.mount(\"/content/drive\", force_remount=True).\n"
     ]
    }
   ],
   "source": [
    "from google.colab import drive\n",
    "drive.mount(\"/content/drive\")"
   ]
  },
  {
   "cell_type": "code",
   "execution_count": null,
   "metadata": {
    "id": "ngmPD4BUiBed"
   },
   "outputs": [],
   "source": [
    "import pandas as pd\n",
    "import numpy as np\n",
    "import re\n",
    "from matplotlib import pyplot as plt\n",
    "from matplotlib import colors\n",
    "from matplotlib.ticker import PercentFormatter\n",
    "from sklearn.model_selection import train_test_split\n",
    "import os"
   ]
  },
  {
   "cell_type": "code",
   "execution_count": null,
   "metadata": {
    "id": "Wo0WklhU7AuK"
   },
   "outputs": [],
   "source": [
    "Root_Folder = \"/content/drive/MyDrive\"\n",
    "data_parent_folder = \"/VAE\""
   ]
  },
  {
   "cell_type": "code",
   "execution_count": null,
   "metadata": {
    "id": "etKIEfyaXvFG"
   },
   "outputs": [],
   "source": [
    "map_gene = pd.read_csv(Root_Folder + data_parent_folder + \"/Data_Gastr/Mmusculus_genes_map.csv\",index_col=[0],header = [0])\n",
    "gast_scNMT_id = pd.read_csv(Root_Folder + data_parent_folder + \"/Data_Gastr/gn_ind_for_cross_tecnology_pred.csv\",index_col=[0],header = [0])"
   ]
  },
  {
   "cell_type": "code",
   "execution_count": null,
   "metadata": {
    "id": "ESWRdVmlAFAr"
   },
   "outputs": [],
   "source": [
    "common_ft = np.intersect1d(map_gene.index,gast_scNMT_id['ens_id'])"
   ]
  },
  {
   "cell_type": "code",
   "execution_count": null,
   "metadata": {
    "id": "GgrQAUwaBDiE"
   },
   "outputs": [],
   "source": [
    "map_gene_upd = map_gene.loc[common_ft]\n",
    "map_gene_upd = map_gene_upd.reset_index()\n",
    "map_gene_upd.columns = ['gene_id','gene_name']\n",
    "mpa_gene_upd = map_gene_upd.loc[:,['gene_name','gene_id']]\n",
    "map_gene_upd.index = map_gene_upd['gene_name']\n",
    "map_gene_upd.drop(map_gene_upd.columns[1], axis=1,inplace=True)"
   ]
  },
  {
   "cell_type": "code",
   "execution_count": null,
   "metadata": {
    "colab": {
     "base_uri": "https://localhost:8080/"
    },
    "executionInfo": {
     "elapsed": 12,
     "status": "ok",
     "timestamp": 1647658252748,
     "user": {
      "displayName": "Χρήστος Μανιάτης",
      "photoUrl": "https://lh3.googleusercontent.com/a/default-user=s64",
      "userId": "00852017530683764808"
     },
     "user_tz": 0
    },
    "id": "YKFBjbEdEHGk",
    "outputId": "e1f52cd3-7521-4730-fd86-3bbb2a74b441"
   },
   "outputs": [
    {
     "name": "stdout",
     "output_type": "stream",
     "text": [
      "                      gene_id\n",
      "gene_name                    \n",
      "Gnai3      ENSMUSG00000000001\n",
      "Cdc45      ENSMUSG00000000028\n",
      "Narf       ENSMUSG00000000056\n",
      "Klf6       ENSMUSG00000000078\n",
      "Scmh1      ENSMUSG00000000085\n",
      "...                       ...\n",
      "Prmt1      ENSMUSG00000109324\n",
      "Samd4b     ENSMUSG00000109336\n",
      "Nup62      ENSMUSG00000109511\n",
      "Hspa14     ENSMUSG00000109865\n",
      "Chmp1b     ENSMUSG00000109901\n",
      "\n",
      "[8432 rows x 1 columns]\n"
     ]
    }
   ],
   "source": [
    "print(map_gene_upd)"
   ]
  },
  {
   "cell_type": "code",
   "execution_count": null,
   "metadata": {
    "id": "UuOb_WZ7BQxL"
   },
   "outputs": [],
   "source": [
    "if os.path.isdir(Root_Folder + data_parent_folder + \"/Data_ATAC\") == False:\n",
    "        os.mkdir(Root_Folder + data_parent_folder + \"/Data_ATAC\")\n",
    "\n",
    "mpa_gene_upd.to_csv(Root_Folder + data_parent_folder + \"/Data_ATAC/gene_id.csv\", header=True,index=[0])"
   ]
  }
 ],
 "metadata": {
  "colab": {
   "authorship_tag": "ABX9TyM8DHT24TG/0RrE0lsYRtuB",
   "collapsed_sections": [],
   "provenance": []
  },
  "kernelspec": {
   "display_name": "Python 3 (ipykernel)",
   "language": "python",
   "name": "python3"
  },
  "language_info": {
   "codemirror_mode": {
    "name": "ipython",
    "version": 3
   },
   "file_extension": ".py",
   "mimetype": "text/x-python",
   "name": "python",
   "nbconvert_exporter": "python",
   "pygments_lexer": "ipython3",
   "version": "3.9.5"
  }
 },
 "nbformat": 4,
 "nbformat_minor": 1
}
