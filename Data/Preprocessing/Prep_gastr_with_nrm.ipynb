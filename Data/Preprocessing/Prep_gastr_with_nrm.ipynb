{
 "cells": [
  {
   "cell_type": "code",
   "execution_count": 1,
   "metadata": {
    "colab": {
     "base_uri": "https://localhost:8080/"
    },
    "executionInfo": {
     "elapsed": 19621,
     "status": "ok",
     "timestamp": 1662466821060,
     "user": {
      "displayName": "Χρήστος Μανιάτης",
      "userId": "00852017530683764808"
     },
     "user_tz": -60
    },
    "id": "EHPvy_R0DH6T",
    "outputId": "447d8413-841b-4ef6-da0c-74ad26f14453"
   },
   "outputs": [
    {
     "name": "stdout",
     "output_type": "stream",
     "text": [
      "Mounted at /content/drive\n"
     ]
    }
   ],
   "source": [
    "from google.colab import drive\n",
    "drive.mount(\"/content/drive\")"
   ]
  },
  {
   "cell_type": "markdown",
   "metadata": {},
   "source": [
    "File used for preprocessing of mESC_Ag."
   ]
  },
  {
   "cell_type": "code",
   "execution_count": 2,
   "metadata": {
    "executionInfo": {
     "elapsed": 1023,
     "status": "ok",
     "timestamp": 1662466822079,
     "user": {
      "displayName": "Χρήστος Μανιάτης",
      "userId": "00852017530683764808"
     },
     "user_tz": -60
    },
    "id": "ngmPD4BUiBed"
   },
   "outputs": [],
   "source": [
    "import pandas as pd\n",
    "import numpy as np\n",
    "import re\n",
    "from matplotlib import pyplot as plt\n",
    "from matplotlib import colors\n",
    "from matplotlib.ticker import PercentFormatter\n",
    "from sklearn.model_selection import train_test_split\n",
    "import os"
   ]
  },
  {
   "cell_type": "code",
   "execution_count": 3,
   "metadata": {
    "executionInfo": {
     "elapsed": 7,
     "status": "ok",
     "timestamp": 1662466822080,
     "user": {
      "displayName": "Χρήστος Μανιάτης",
      "userId": "00852017530683764808"
     },
     "user_tz": -60
    },
    "id": "Wo0WklhU7AuK"
   },
   "outputs": [],
   "source": [
    "Root_Folder = \"/content/drive/MyDrive\"\n",
    "data_parent_folder = \"/Data\""
   ]
  },
  {
   "cell_type": "code",
   "execution_count": 4,
   "metadata": {
    "colab": {
     "base_uri": "https://localhost:8080/"
    },
    "executionInfo": {
     "elapsed": 412,
     "status": "ok",
     "timestamp": 1662466822486,
     "user": {
      "displayName": "Χρήστος Μανιάτης",
      "userId": "00852017530683764808"
     },
     "user_tz": -60
    },
    "id": "kqEJA7AW_ulK",
    "outputId": "483b40cb-9b90-4a5a-a93a-30f3bb590aa0"
   },
   "outputs": [
    {
     "name": "stderr",
     "output_type": "stream",
     "text": [
      "/usr/local/lib/python3.7/dist-packages/IPython/core/interactiveshell.py:3326: FutureWarning: In a future version of pandas all arguments of read_csv except for the argument 'filepath_or_buffer' will be keyword-only\n",
      "  exec(code_obj, self.user_global_ns, self.user_ns)\n"
     ]
    }
   ],
   "source": [
    "gastr_ind_drp = [0,1,2,3,4,8,9,10]\n",
    "gastr_QC = pd.read_csv(Root_Folder + data_parent_folder + \"/Data_Gastr/sample_metadata_gastr.csv\",'\\t',index_col=[0])\n",
    "\n",
    "gastr_QC = gastr_QC.drop(columns=gastr_QC.columns[gastr_ind_drp],axis=1)\n",
    "gastr_QC = gastr_QC.loc[gastr_QC['pass_rnaQC'] & gastr_QC['pass_metQC'] & gastr_QC['pass_accQC'] ,: ]\n",
    "gastr_QC = gastr_QC.index.str.replace('-','.')"
   ]
  },
  {
   "cell_type": "code",
   "execution_count": 5,
   "metadata": {
    "colab": {
     "base_uri": "https://localhost:8080/"
    },
    "executionInfo": {
     "elapsed": 9,
     "status": "ok",
     "timestamp": 1662466822487,
     "user": {
      "displayName": "Χρήστος Μανιάτης",
      "userId": "00852017530683764808"
     },
     "user_tz": -60
    },
    "id": "1EDlGZls9Fny",
    "outputId": "34036994-f2c0-429d-b7cc-58270325d910"
   },
   "outputs": [
    {
     "name": "stdout",
     "output_type": "stream",
     "text": [
      "Index(['E4.5.5.5_new_Plate3_E09', 'E4.5.5.5_new_Plate3_H09',\n",
      "       'E4.5.5.5_new_Plate4_F01', 'E4.5.5.5_new_Plate4_C01',\n",
      "       'E4.5.5.5_new_Plate4_E01', 'E4.5.5.5_new_Plate4_G01',\n",
      "       'E4.5.5.5_new_Plate4_D01', 'E4.5.5.5_new_Plate4_A01',\n",
      "       'E4.5.5.5_new_Plate4_H01', 'E4.5.5.5_new_Plate4_B01',\n",
      "       ...\n",
      "       'PS_VE_Plate1_F06', 'PS_VE_Plate1_A06', 'PS_VE_Plate1_C06',\n",
      "       'PS_VE_Plate1_B06', 'PS_VE_Plate1_H06', 'PS_VE_Plate1_D04',\n",
      "       'PS_VE_Plate1_A04', 'PS_VE_Plate1_C04', 'PS_VE_Plate1_B04',\n",
      "       'PS_VE_Plate1_H04'],\n",
      "      dtype='object', name='sample', length=826)\n"
     ]
    }
   ],
   "source": [
    "print(gastr_QC)"
   ]
  },
  {
   "cell_type": "code",
   "execution_count": 6,
   "metadata": {
    "executionInfo": {
     "elapsed": 8,
     "status": "ok",
     "timestamp": 1662466822488,
     "user": {
      "displayName": "Χρήστος Μανιάτης",
      "userId": "00852017530683764808"
     },
     "user_tz": -60
    },
    "id": "eKBb6rnMiE4L"
   },
   "outputs": [],
   "source": [
    "def stand_sort_dat(Met,CpG,Acc,GpC,Rna,Rna_nrm):\n",
    "\n",
    "        gene_com_ind = Rna.index.intersection(CpG.index)\n",
    "        gene_com_ind = GpC.index.intersection(gene_com_ind)\n",
    "\n",
    "        gene_met_ind = CpG.index.symmetric_difference(gene_com_ind)\n",
    "        gene_acc_ind = GpC.index.symmetric_difference(gene_com_ind)\n",
    "        gene_rna_ind = Rna.index.symmetric_difference(gene_com_ind)\n",
    "        \n",
    "        gene_all = np.union1d(gene_com_ind,gene_met_ind)\n",
    "        gene_all = np.union1d(gene_all,gene_acc_ind)\n",
    "        gene_all = np.union1d(gene_all,gene_rna_ind)\n",
    "\n",
    "        cell_com_ind = Rna.columns.intersection(CpG.columns)\n",
    "        cell_com_ind = GpC.columns.intersection(cell_com_ind)\n",
    "\n",
    "        cell_met_ind=CpG.columns.symmetric_difference(cell_com_ind)\n",
    "        cell_acc_ind=GpC.columns.symmetric_difference(cell_com_ind)\n",
    "        cell_rna_ind=Rna.columns.symmetric_difference(cell_com_ind)\n",
    "\n",
    "        cell_all = np.union1d(cell_com_ind,cell_met_ind)\n",
    "        cell_all = np.union1d(cell_all,cell_acc_ind)\n",
    "        cell_all = np.union1d(cell_all,cell_rna_ind)\n",
    "\n",
    "        Met_fin = pd.DataFrame(-1, index=gene_all, columns=cell_all)\n",
    "        CpG_fin = pd.DataFrame(-1, index=gene_all, columns=cell_all)\n",
    "        Acc_fin = pd.DataFrame(-1, index=gene_all, columns=cell_all)\n",
    "        GpC_fin = pd.DataFrame(-1, index=gene_all, columns=cell_all)  \n",
    "        Rna_fin = pd.DataFrame(0, index=gene_all, columns=cell_all)\n",
    "        Rna_nrm_fin = pd.DataFrame(0.00001, index=[\"norm_fact\"], columns=cell_all)\n",
    "\n",
    "        Met_fin.loc[Met.index,Met.columns]=Met\n",
    "        CpG_fin.loc[CpG.index,CpG.columns]=CpG\n",
    "        \n",
    "        Acc_fin.loc[Acc.index,Acc.columns]= Acc\n",
    "        GpC_fin.loc[GpC.index,GpC.columns] = GpC\n",
    "\n",
    "        Rna_fin.loc[Rna.index,Rna.columns]=Rna\n",
    "        Rna_nrm_fin[Rna_nrm.index] = np.asarray(Rna_nrm.iloc[:,0])\n",
    "\n",
    "        Met_fin=Met_fin.replace(-1,0)\n",
    "        CpG_fin=CpG_fin.replace(-1,0)\n",
    "        Acc_fin=Acc_fin.replace(-1,0)\n",
    "        GpC_fin=GpC_fin.replace(-1,0)\n",
    "        Rna_fin=Rna_fin.replace(-1,0)\n",
    "        \n",
    "        return Met_fin,CpG_fin,Acc_fin,GpC_fin,Rna_fin,Rna_nrm_fin"
   ]
  },
  {
   "cell_type": "code",
   "execution_count": 7,
   "metadata": {
    "colab": {
     "base_uri": "https://localhost:8080/"
    },
    "executionInfo": {
     "elapsed": 21778,
     "status": "ok",
     "timestamp": 1662466844258,
     "user": {
      "displayName": "Χρήστος Μανιάτης",
      "userId": "00852017530683764808"
     },
     "user_tz": -60
    },
    "id": "1NOCyPFEKtnJ",
    "outputId": "bf77eb14-7e4c-46d8-c532-1d31803d3bf8"
   },
   "outputs": [
    {
     "name": "stderr",
     "output_type": "stream",
     "text": [
      "/usr/local/lib/python3.7/dist-packages/ipykernel_launcher.py:17: FutureWarning: The default value of regex will change from True to False in a future version.\n",
      "/usr/local/lib/python3.7/dist-packages/ipykernel_launcher.py:18: FutureWarning: The default value of regex will change from True to False in a future version.\n",
      "/usr/local/lib/python3.7/dist-packages/ipykernel_launcher.py:20: FutureWarning: The default value of regex will change from True to False in a future version.\n",
      "/usr/local/lib/python3.7/dist-packages/ipykernel_launcher.py:21: FutureWarning: The default value of regex will change from True to False in a future version.\n"
     ]
    }
   ],
   "source": [
    "Met_gastr=pd.read_csv(Root_Folder + data_parent_folder + \"/Raw_Data_Gastr/MT_gastrulation_prom_met.csv\",\"\\t\",index_col=[0])\n",
    "CpG_gastr=pd.read_csv(Root_Folder + data_parent_folder + \"/Raw_Data_Gastr/MT_gastrulation_prom_cpg.csv\",\"\\t\",index_col=[0])\n",
    "\n",
    "Acc_gastr=pd.read_csv(Root_Folder + data_parent_folder + \"/Raw_Data_Gastr/NT_gastrulation_prom_met.csv\",\"\\t\",index_col=[0])\n",
    "GpC_gastr=pd.read_csv(Root_Folder + data_parent_folder + \"/Raw_Data_Gastr/NT_gastrulation_prom_gpc.csv\",\"\\t\",index_col=[0])\n",
    "\n",
    "Rna_gastr=pd.read_csv(Root_Folder + data_parent_folder + \"/Raw_Data_Gastr/MT_gastrulation_prom_rna.csv\",'\\t',index_col=[0])\n",
    "Rna_nrm_gastr = pd.read_csv(Root_Folder + data_parent_folder + \"/Raw_Data_Gastr/MT_gastrulation_prom_nrm.csv\",'\\t',index_col=[1])\n",
    "\n",
    "Met_gastr.columns = Met_gastr.columns.str.replace('-','.')\n",
    "CpG_gastr.columns = CpG_gastr.columns.str.replace('-','.')\n",
    "\n",
    "Acc_gastr.columns = Acc_gastr.columns.str.replace('-','.')\n",
    "GpC_gastr.columns = GpC_gastr.columns.str.replace('-','.')\n",
    "Rna_nrm_gastr.index = Rna_nrm_gastr.index.str.replace('-','.')\n",
    "\n",
    "Met_gastr.columns = Met_gastr.columns.str.replace('.tsv.gz','')\n",
    "CpG_gastr.columns = CpG_gastr.columns.str.replace('.tsv.gz','')\n",
    "\n",
    "Acc_gastr.columns = Acc_gastr.columns.str.replace('.tsv.gz','')\n",
    "GpC_gastr.columns = GpC_gastr.columns.str.replace('.tsv.gz','')\n",
    "\n",
    "Met_gastr,CpG_gastr,Acc_gastr,GpC_gastr,Rna_gastr,Rna_nrm_gastr = stand_sort_dat(Met_gastr,CpG_gastr,Acc_gastr,GpC_gastr,Rna_gastr,Rna_nrm_gastr)\n",
    "\n",
    "Met_gastr_pq = Met_gastr\n",
    "CpG_gastr_pq = CpG_gastr\n",
    "Acc_gastr_pq = Acc_gastr\n",
    "GpC_gastr_pq = GpC_gastr\n",
    "Rna_gastr_pq = Rna_gastr\n",
    "Rna_nrm_gastr_pq = Rna_nrm_gastr\n",
    "\n",
    "gastr_QC = np.intersect1d(gastr_QC,Met_gastr.columns)\n",
    "gastr_QC = np.intersect1d(gastr_QC,Acc_gastr.columns)\n",
    "gastr_QC = np.intersect1d(gastr_QC,Rna_gastr.columns)\n",
    "\n",
    "Met_gastr = Met_gastr[gastr_QC]\n",
    "CpG_gastr = CpG_gastr[gastr_QC]\n",
    "Acc_gastr = Acc_gastr[gastr_QC]\n",
    "GpC_gastr = GpC_gastr[gastr_QC]\n",
    "Rna_gastr = Rna_gastr[gastr_QC]\n",
    "Rna_nrm_gastr = Rna_nrm_gastr[gastr_QC]\n",
    "\n",
    "Met_gastr_pq.drop(gastr_QC,axis=1,inplace=True)\n",
    "CpG_gastr_pq.drop(gastr_QC,axis=1,inplace=True)\n",
    "Acc_gastr_pq.drop(gastr_QC,axis=1,inplace=True)\n",
    "GpC_gastr_pq.drop(gastr_QC,axis=1,inplace=True)\n",
    "Rna_gastr_pq.drop(gastr_QC,axis=1,inplace=True)\n",
    "Rna_nrm_gastr_pq.drop(gastr_QC,axis=1,inplace=True)"
   ]
  },
  {
   "cell_type": "code",
   "execution_count": 8,
   "metadata": {
    "executionInfo": {
     "elapsed": 35,
     "status": "ok",
     "timestamp": 1662466844260,
     "user": {
      "displayName": "Χρήστος Μανιάτης",
      "userId": "00852017530683764808"
     },
     "user_tz": -60
    },
    "id": "BM_pjkcqLlhp"
   },
   "outputs": [],
   "source": [
    "Met = Met_gastr\n",
    "CpG = CpG_gastr\n",
    "Acc = Acc_gastr\n",
    "GpC = GpC_gastr\n",
    "Rna = Rna_gastr\n",
    "Rna_nrm = Rna_nrm_gastr\n",
    "\n",
    "Met=Met.T\n",
    "CpG=CpG.T\n",
    "Acc=Acc.T\n",
    "GpC=GpC.T\n",
    "Rna=Rna.T\n",
    "Rna_nrm = Rna_nrm.T"
   ]
  },
  {
   "cell_type": "code",
   "execution_count": 9,
   "metadata": {
    "executionInfo": {
     "elapsed": 814,
     "status": "ok",
     "timestamp": 1662466845041,
     "user": {
      "displayName": "Χρήστος Μανιάτης",
      "userId": "00852017530683764808"
     },
     "user_tz": -60
    },
    "id": "VDAAp1PFkBjd"
   },
   "outputs": [],
   "source": [
    "Met_pq = Met_gastr_pq\n",
    "CpG_pq = CpG_gastr_pq\n",
    "Acc_pq = Acc_gastr_pq\n",
    "GpC_pq = GpC_gastr_pq\n",
    "Rna_pq = Rna_gastr_pq\n",
    "Rna_nrm_pq = Rna_nrm_gastr_pq\n",
    "\n",
    "\n",
    "Met_pq=Met_pq.T\n",
    "CpG_pq=CpG_pq.T\n",
    "Acc_pq=Acc_pq.T\n",
    "GpC_pq=GpC_pq.T\n",
    "Rna_pq=Rna_pq.T\n",
    "Rna_nrm_pq=Rna_nrm_pq.T\n",
    "\n",
    "ind_pq = np.intersect1d(Met.columns,Met_pq.columns)\n",
    "Met_pq = Met_pq.loc[:,ind_pq]\n",
    "CpG_pq = CpG_pq.loc[:,ind_pq]\n",
    "Acc_pq = Acc_pq.loc[:,ind_pq]\n",
    "GpC_pq = GpC_pq.loc[:,ind_pq]\n",
    "Rna_pq = Rna_pq.loc[:,ind_pq]"
   ]
  },
  {
   "cell_type": "code",
   "execution_count": 10,
   "metadata": {
    "executionInfo": {
     "elapsed": 11,
     "status": "ok",
     "timestamp": 1662466845043,
     "user": {
      "displayName": "Χρήστος Μανιάτης",
      "userId": "00852017530683764808"
     },
     "user_tz": -60
    },
    "id": "-LjTWhNFEo6p"
   },
   "outputs": [],
   "source": [
    "#QC\n",
    "CpG_ind_gene = np.mean(CpG==0,axis=0)\n",
    "GpC_ind_gene = np.mean(GpC==0,axis=0)\n",
    "Rna_ind_gene = np.mean(Rna==0,axis=0)\n",
    "\n",
    "ind_drp_cpg_gene = np.where(CpG_ind_gene > 0.65) #0.65\n",
    "ind_drp_gpc_gene = np.where(GpC_ind_gene > 0.65) #0.65\n",
    "ind_drp_rna_gene = np.where(Rna_ind_gene > 0.65) #0.65\n",
    "\n",
    "ind_drp_gene = np.union1d(ind_drp_cpg_gene,ind_drp_rna_gene)\n",
    "ind_drp_gene = np.union1d(ind_drp_gene,ind_drp_gpc_gene)"
   ]
  },
  {
   "cell_type": "code",
   "execution_count": 11,
   "metadata": {
    "colab": {
     "base_uri": "https://localhost:8080/"
    },
    "executionInfo": {
     "elapsed": 10,
     "status": "ok",
     "timestamp": 1662466845044,
     "user": {
      "displayName": "Χρήστος Μανιάτης",
      "userId": "00852017530683764808"
     },
     "user_tz": -60
    },
    "id": "403xxP20mKOG",
    "outputId": "5467a258-9a90-44da-ab6a-86c543daa271"
   },
   "outputs": [
    {
     "name": "stdout",
     "output_type": "stream",
     "text": [
      "[    1     2     3 ... 18845 18846 18847]\n"
     ]
    }
   ],
   "source": [
    "print(ind_drp_gene)"
   ]
  },
  {
   "cell_type": "code",
   "execution_count": 12,
   "metadata": {
    "executionInfo": {
     "elapsed": 340,
     "status": "ok",
     "timestamp": 1662466845377,
     "user": {
      "displayName": "Χρήστος Μανιάτης",
      "userId": "00852017530683764808"
     },
     "user_tz": -60
    },
    "id": "Hjkcs4lm69As"
   },
   "outputs": [],
   "source": [
    "Met.drop(Met.columns[ind_drp_gene],axis=1,inplace=True)\n",
    "CpG.drop(CpG.columns[ind_drp_gene],axis=1,inplace=True)\n",
    "Acc.drop(Acc.columns[ind_drp_gene],axis=1,inplace=True)\n",
    "GpC.drop(GpC.columns[ind_drp_gene],axis=1,inplace=True)\n",
    "Rna.drop(Rna.columns[ind_drp_gene],axis=1,inplace=True)\n",
    "\n",
    "Met_pq.drop(Met_pq.columns[ind_drp_gene],axis=1,inplace=True)\n",
    "CpG_pq.drop(CpG_pq.columns[ind_drp_gene],axis=1,inplace=True)\n",
    "Acc_pq.drop(Acc_pq.columns[ind_drp_gene],axis=1,inplace=True)\n",
    "GpC_pq.drop(GpC_pq.columns[ind_drp_gene],axis=1,inplace=True)\n",
    "Rna_pq.drop(Rna_pq.columns[ind_drp_gene],axis=1,inplace=True)"
   ]
  },
  {
   "cell_type": "code",
   "execution_count": 14,
   "metadata": {
    "executionInfo": {
     "elapsed": 15,
     "status": "ok",
     "timestamp": 1662466845380,
     "user": {
      "displayName": "Χρήστος Μανιάτης",
      "userId": "00852017530683764808"
     },
     "user_tz": -60
    },
    "id": "NWy9GHZjfJkY"
   },
   "outputs": [],
   "source": [
    "cell_ind=Met.index\n",
    "gn_ind = Met.columns\n",
    "train_cells, test_cells=train_test_split(cell_ind, test_size=0.23,shuffle=True)\n",
    "\n",
    "Met_train=Met.loc[train_cells,:]\n",
    "Met_test=Met.loc[test_cells,:]\n",
    "\n",
    "CpG_train=CpG.loc[train_cells,:]\n",
    "CpG_test=CpG.loc[test_cells,:]\n",
    "\n",
    "Acc_train=Acc.loc[train_cells,:]\n",
    "Acc_test=Acc.loc[test_cells,:]\n",
    "\n",
    "GpC_train=GpC.loc[train_cells,:]\n",
    "GpC_test=GpC.loc[test_cells,:]\n",
    "\n",
    "Rna_train=Rna.loc[train_cells,:]\n",
    "Rna_test=Rna.loc[test_cells,:]\n",
    "\n",
    "Rna_nrm_train=Rna_nrm.loc[train_cells,:]\n",
    "Rna_nrm_test=Rna_nrm.loc[test_cells,:]"
   ]
  },
  {
   "cell_type": "code",
   "execution_count": 15,
   "metadata": {
    "colab": {
     "base_uri": "https://localhost:8080/"
    },
    "executionInfo": {
     "elapsed": 13,
     "status": "ok",
     "timestamp": 1662466845381,
     "user": {
      "displayName": "Χρήστος Μανιάτης",
      "userId": "00852017530683764808"
     },
     "user_tz": -60
    },
    "id": "Q6d6Y55_fBJj",
    "outputId": "54496b98-0065-48c8-9049-67e7a447803a"
   },
   "outputs": [
    {
     "name": "stdout",
     "output_type": "stream",
     "text": [
      "                  ens_id\n",
      "0     ENSMUSG00000000001\n",
      "1     ENSMUSG00000000056\n",
      "2     ENSMUSG00000000078\n",
      "3     ENSMUSG00000000085\n",
      "4     ENSMUSG00000000088\n",
      "...                  ...\n",
      "6326  ENSMUSG00000106864\n",
      "6327  ENSMUSG00000106918\n",
      "6328  ENSMUSG00000107283\n",
      "6329  ENSMUSG00000109336\n",
      "6330  ENSMUSG00000109865\n",
      "\n",
      "[6331 rows x 1 columns]\n"
     ]
    }
   ],
   "source": [
    "gn_ind = pd.DataFrame(gn_ind,columns = ['ens_id'])\n",
    "print(gn_ind)"
   ]
  },
  {
   "cell_type": "code",
   "execution_count": 16,
   "metadata": {
    "colab": {
     "base_uri": "https://localhost:8080/",
     "height": 127
    },
    "executionInfo": {
     "elapsed": 299,
     "status": "ok",
     "timestamp": 1662466845669,
     "user": {
      "displayName": "Χρήστος Μανιάτης",
      "userId": "00852017530683764808"
     },
     "user_tz": -60
    },
    "id": "inZs9Kji9O82",
    "outputId": "17d9f15d-9e5f-4876-de6a-2e2c490b7b35"
   },
   "outputs": [
    {
     "data": {
      "application/vnd.google.colaboratory.intrinsic+json": {
       "type": "string"
      },
      "text/plain": [
       "'\\nif os.path.isdir(Root_Folder + data_parent_folder + \"/Data_Gastr\") == False:\\n        os.mkdir(Root_Folder + data_parent_folder + \"/Data_ATAC\")\\n\\nMet_test.to_csv(Root_Folder + data_parent_folder + \"/Data_Gastr/Met_test_gastr.csv\", header=True)\\nMet_train.to_csv(Root_Folder + data_parent_folder + \"/Data_Gastr/Met_train_gastr.csv\", header=True)\\n\\nCpG_test.to_csv(Root_Folder + data_parent_folder + \"/Data_Gastr/CpG_test_gastr.csv\", header=True)\\nCpG_train.to_csv(Root_Folder + data_parent_folder + \"/Data_Gastr/CpG_train_gastr.csv\", header=True)\\n\\nAcc_test.to_csv(Root_Folder + data_parent_folder + \"/Data_Gastr/Acc_test_gastr.csv\", header=True)\\nAcc_train.to_csv(Root_Folder + data_parent_folder + \"/Data_Gastr/Acc_train_gastr.csv\", header=True)\\n\\nGpC_test.to_csv(Root_Folder + data_parent_folder + \"/Data_Gastr/GpC_test_gastr.csv\", header=True)\\nGpC_train.to_csv(Root_Folder + data_parent_folder + \"/Data_Gastr/GpC_train_gastr.csv\", header=True)\\n\\nRna_test.to_csv(Root_Folder + data_parent_folder + \"/Data_Gastr/Rna_test_gastr.csv\", header=True)\\nRna_train.to_csv(Root_Folder + data_parent_folder + \"/Data_Gastr/Rna_train_gastr.csv\", header=True)\\n\\nRna_nrm_test.to_csv(Root_Folder + data_parent_folder + \"/Data_Gastr/Rna_nrm_test_gastr.csv\", header=True)\\nRna_nrm_train.to_csv(Root_Folder + data_parent_folder + \"/Data_Gastr/Rna_nrm_train_gastr.csv\", header=True)'"
      ]
     },
     "execution_count": 16,
     "metadata": {},
     "output_type": "execute_result"
    }
   ],
   "source": [
    "if os.path.isdir(Root_Folder + data_parent_folder + \"/Data_Gastr\") == False:\n",
    "        os.mkdir(Root_Folder + data_parent_folder + \"/Data_Gastr\")\n",
    "\n",
    "Met_test.to_csv(Root_Folder + data_parent_folder + \"/Data_Gastr/Met_test_gastr.csv\", header=True)\n",
    "Met_train.to_csv(Root_Folder + data_parent_folder + \"/Data_Gastr/Met_train_gastr.csv\", header=True)\n",
    "\n",
    "CpG_test.to_csv(Root_Folder + data_parent_folder + \"/Data_Gastr/CpG_test_gastr.csv\", header=True)\n",
    "CpG_train.to_csv(Root_Folder + data_parent_folder + \"/Data_Gastr/CpG_train_gastr.csv\", header=True)\n",
    "\n",
    "Acc_test.to_csv(Root_Folder + data_parent_folder + \"/Data_Gastr/Acc_test_gastr.csv\", header=True)\n",
    "Acc_train.to_csv(Root_Folder + data_parent_folder + \"/Data_Gastr/Acc_train_gastr.csv\", header=True)\n",
    "\n",
    "GpC_test.to_csv(Root_Folder + data_parent_folder + \"/Data_Gastr/GpC_test_gastr.csv\", header=True)\n",
    "GpC_train.to_csv(Root_Folder + data_parent_folder + \"/Data_Gastr/GpC_train_gastr.csv\", header=True)\n",
    "\n",
    "Rna_test.to_csv(Root_Folder + data_parent_folder + \"/Data_Gastr/Rna_test_gastr.csv\", header=True)\n",
    "Rna_train.to_csv(Root_Folder + data_parent_folder + \"/Data_Gastr/Rna_train_gastr.csv\", header=True)\n",
    "\n",
    "Rna_nrm_test.to_csv(Root_Folder + data_parent_folder + \"/Data_Gastr/Rna_nrm_test_gastr.csv\", header=True)\n",
    "Rna_nrm_train.to_csv(Root_Folder + data_parent_folder + \"/Data_Gastr/Rna_nrm_train_gastr.csv\", header=True)"
   ]
  }
 ],
 "metadata": {
  "colab": {
   "authorship_tag": "ABX9TyOUwrF+aqilkyImMD3mhpYm",
   "collapsed_sections": [],
   "provenance": []
  },
  "kernelspec": {
   "display_name": "Python 3 (ipykernel)",
   "language": "python",
   "name": "python3"
  },
  "language_info": {
   "codemirror_mode": {
    "name": "ipython",
    "version": 3
   },
   "file_extension": ".py",
   "mimetype": "text/x-python",
   "name": "python",
   "nbconvert_exporter": "python",
   "pygments_lexer": "ipython3",
   "version": "3.9.5"
  }
 },
 "nbformat": 4,
 "nbformat_minor": 1
}
